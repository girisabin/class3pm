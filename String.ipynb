{
 "cells": [
  {
   "cell_type": "code",
   "execution_count": 2,
   "id": "323e3575",
   "metadata": {},
   "outputs": [
    {
     "name": "stdout",
     "output_type": "stream",
     "text": [
      "hello world\n",
      "<class 'str'>\n"
     ]
    }
   ],
   "source": [
    "a=\"hello world\"\n",
    "print(a)\n",
    "print(type(a))"
   ]
  },
  {
   "cell_type": "code",
   "execution_count": 3,
   "id": "c9d66ecb",
   "metadata": {},
   "outputs": [
    {
     "name": "stdout",
     "output_type": "stream",
     "text": [
      "h\n"
     ]
    }
   ],
   "source": [
    "a=\"hello world\"\n",
    "print(a[0])"
   ]
  },
  {
   "cell_type": "code",
   "execution_count": 4,
   "id": "399781c8",
   "metadata": {},
   "outputs": [
    {
     "name": "stdout",
     "output_type": "stream",
     "text": [
      "d\n"
     ]
    }
   ],
   "source": [
    "a=\"hello world\"\n",
    "print(a[-1])"
   ]
  },
  {
   "cell_type": "code",
   "execution_count": 5,
   "id": "5770233c",
   "metadata": {},
   "outputs": [
    {
     "name": "stdout",
     "output_type": "stream",
     "text": [
      "hello\n"
     ]
    }
   ],
   "source": [
    "a=\"hello world\"\n",
    "print(a[0:5])"
   ]
  },
  {
   "cell_type": "code",
   "execution_count": 6,
   "id": "957aac31",
   "metadata": {},
   "outputs": [
    {
     "name": "stdout",
     "output_type": "stream",
     "text": [
      "hello\n"
     ]
    }
   ],
   "source": [
    "a=\"hello world\"\n",
    "print(a[0:5:1])"
   ]
  },
  {
   "cell_type": "code",
   "execution_count": 7,
   "id": "a5c5a664",
   "metadata": {},
   "outputs": [
    {
     "name": "stdout",
     "output_type": "stream",
     "text": [
      "hlo\n"
     ]
    }
   ],
   "source": [
    "a=\"hello world\"\n",
    "print(a[0:5:2])"
   ]
  },
  {
   "cell_type": "code",
   "execution_count": 10,
   "id": "5001033b",
   "metadata": {},
   "outputs": [
    {
     "name": "stdout",
     "output_type": "stream",
     "text": [
      "hello\n",
      " world\n"
     ]
    }
   ],
   "source": [
    "a=\"hello world\"\n",
    "b= a[0:5]\n",
    "c=a[5:]\n",
    "print(b)\n",
    "print(c)\n"
   ]
  },
  {
   "cell_type": "code",
   "execution_count": 13,
   "id": "22301068",
   "metadata": {},
   "outputs": [
    {
     "name": "stdout",
     "output_type": "stream",
     "text": [
      "Hello I am Ram I am 10\n"
     ]
    }
   ],
   "source": [
    "# String formatting(imp)\n",
    "a=\"Ram\"\n",
    "b=10\n",
    "c=\"Hello I am \"+a+\" I am \"+str(b)\n",
    "print(c)"
   ]
  },
  {
   "cell_type": "code",
   "execution_count": 15,
   "id": "2aa7eb76",
   "metadata": {},
   "outputs": [
    {
     "name": "stdout",
     "output_type": "stream",
     "text": [
      "Hello I am Ram I am 10\n"
     ]
    }
   ],
   "source": [
    "# String formatting(imp)\n",
    "a=\"Ram\"\n",
    "b=10\n",
    "c=f\"Hello I am {a} I am {b}\"\n",
    "print(c)"
   ]
  },
  {
   "cell_type": "code",
   "execution_count": 16,
   "id": "5ceb5189",
   "metadata": {},
   "outputs": [
    {
     "name": "stdout",
     "output_type": "stream",
     "text": [
      "Enter n= 2\n",
      "Enter product name=coke\n",
      "Enter unit price= 150\n",
      "Enter quantity=2\n",
      "Enter product name=fanta\n",
      "Enter unit price= 150\n",
      "Enter quantity=3\n",
      "The billing is = \n",
      " coke 150 2 300\n",
      "fanta 150 3 450\n",
      "\n",
      "The total price is= 750\n"
     ]
    }
   ],
   "source": [
    "info=\"\"\n",
    "add=0\n",
    "n= int(input(\"Enter n= \"))\n",
    "for i in range(n):\n",
    "    name=input(\"Enter product name=\")\n",
    "    price=int(input(\"Enter unit price= \"))\n",
    "    quantity= int(input(\"Enter quantity=\"))\n",
    "    total=price*quantity\n",
    "    s=f\"{name} {price} {quantity} {total}\\n\"\n",
    "    info=info+s\n",
    "    add=add+total\n",
    "\n",
    "print(\"The billing is = \\n\",info)\n",
    "print(\"The total price is=\",add)\n",
    "    \n",
    "    \n",
    "    \n",
    "    "
   ]
  },
  {
   "cell_type": "code",
   "execution_count": 17,
   "id": "c3e76dca",
   "metadata": {},
   "outputs": [
    {
     "data": {
      "text/plain": [
       "6"
      ]
     },
     "execution_count": 17,
     "metadata": {},
     "output_type": "execute_result"
    }
   ],
   "source": [
    "a= \"Python\"\n",
    "len(a)"
   ]
  },
  {
   "cell_type": "code",
   "execution_count": 18,
   "id": "4efd28ca",
   "metadata": {},
   "outputs": [
    {
     "data": {
      "text/plain": [
       "'nohty'"
      ]
     },
     "execution_count": 18,
     "metadata": {},
     "output_type": "execute_result"
    }
   ],
   "source": [
    "a= \"Python\"\n",
    "a[5:0:-1]"
   ]
  },
  {
   "cell_type": "code",
   "execution_count": 19,
   "id": "b2e5f1cd",
   "metadata": {},
   "outputs": [
    {
     "data": {
      "text/plain": [
       "'nohtyP'"
      ]
     },
     "execution_count": 19,
     "metadata": {},
     "output_type": "execute_result"
    }
   ],
   "source": [
    "a= \"Python\"\n",
    "a[5::-1]"
   ]
  },
  {
   "cell_type": "code",
   "execution_count": 20,
   "id": "fddf42f0",
   "metadata": {},
   "outputs": [
    {
     "data": {
      "text/plain": [
       "'PYTHON'"
      ]
     },
     "execution_count": 20,
     "metadata": {},
     "output_type": "execute_result"
    }
   ],
   "source": [
    "a= \"Python\"\n",
    "a.upper()"
   ]
  },
  {
   "cell_type": "code",
   "execution_count": 21,
   "id": "5b482fd4",
   "metadata": {},
   "outputs": [
    {
     "data": {
      "text/plain": [
       "'python'"
      ]
     },
     "execution_count": 21,
     "metadata": {},
     "output_type": "execute_result"
    }
   ],
   "source": [
    "a= \"Python\"\n",
    "a.lower()"
   ]
  },
  {
   "cell_type": "code",
   "execution_count": 22,
   "id": "fc1c976e",
   "metadata": {},
   "outputs": [
    {
     "name": "stdout",
     "output_type": "stream",
     "text": [
      "Yes\n"
     ]
    }
   ],
   "source": [
    "a= \"Hello world I am Python\"\n",
    "if \"Hello\" in a:\n",
    "    print(\"Yes\")\n",
    "else:\n",
    "    print(\"No\")"
   ]
  },
  {
   "cell_type": "code",
   "execution_count": 25,
   "id": "fa7d7f0d",
   "metadata": {},
   "outputs": [
    {
     "name": "stdout",
     "output_type": "stream",
     "text": [
      "No\n"
     ]
    }
   ],
   "source": [
    "a= \"Hello world I am Python\"\n",
    "if \"Hello\" in a:\n",
    "    print(\"Yes\")\n",
    "else:\n",
    "    print(\"No\")"
   ]
  },
  {
   "cell_type": "code",
   "execution_count": 26,
   "id": "938d6600",
   "metadata": {},
   "outputs": [
    {
     "name": "stdout",
     "output_type": "stream",
     "text": [
      "Yes\n"
     ]
    }
   ],
   "source": [
    "a= \"Hello world I am Python\".lower()\n",
    "if \"Hello\".lower() in a:\n",
    "    print(\"Yes\")\n",
    "else:\n",
    "    print(\"No\")"
   ]
  },
  {
   "cell_type": "code",
   "execution_count": 27,
   "id": "405205a6",
   "metadata": {},
   "outputs": [
    {
     "data": {
      "text/plain": [
       "'hello'"
      ]
     },
     "execution_count": 27,
     "metadata": {},
     "output_type": "execute_result"
    }
   ],
   "source": [
    "b=\"HELlo\".lower()\n",
    "b"
   ]
  },
  {
   "cell_type": "code",
   "execution_count": 1,
   "id": "09d5fa04",
   "metadata": {},
   "outputs": [
    {
     "name": "stdout",
     "output_type": "stream",
     "text": [
      "Enter value for search o\n",
      "Yes\n",
      "3\n"
     ]
    }
   ],
   "source": [
    "a=\"Hello world I am Python\"\n",
    "x= a.lower()\n",
    "b=input(\"Enter value for search \")\n",
    "y = b.lower()\n",
    "if y in x:\n",
    "    print(\"Yes\")\n",
    "    print(x.count(y))\n",
    "else:\n",
    "    print(\"No\")"
   ]
  },
  {
   "cell_type": "code",
   "execution_count": 6,
   "id": "bf608e75",
   "metadata": {},
   "outputs": [
    {
     "name": "stdout",
     "output_type": "stream",
     "text": [
      "Enter value for search HELLO\n",
      "Yes\n",
      "1\n"
     ]
    }
   ],
   "source": [
    "a=\"Hello world I am Python\"\n",
    "a_upper= a.upper()\n",
    "b=input(\"Enter value for search \")\n",
    "b_upper = b.upper()\n",
    "if b_upper in a_upper:\n",
    "    print(\"Yes\")\n",
    "    print(a_upper.count(b_upper))\n",
    "else:\n",
    "    print(\"No\")"
   ]
  },
  {
   "cell_type": "code",
   "execution_count": 9,
   "id": "ddc21935",
   "metadata": {},
   "outputs": [
    {
     "name": "stdout",
     "output_type": "stream",
     "text": [
      "Hello world I am Python\n"
     ]
    }
   ],
   "source": [
    "# replace()\n",
    "a=\"Hello world I am Python\"\n",
    "a.replace(\"Python\",\"PYTHON\")\n",
    "print(a)"
   ]
  },
  {
   "cell_type": "code",
   "execution_count": 10,
   "id": "163663e2",
   "metadata": {},
   "outputs": [
    {
     "name": "stdout",
     "output_type": "stream",
     "text": [
      "Hello world I am PYTHON\n"
     ]
    }
   ],
   "source": [
    "# replace()\n",
    "a=\"Hello world I am Python\"\n",
    "b=a.replace(\"Python\",\"PYTHON\")\n",
    "print(b)"
   ]
  },
  {
   "cell_type": "code",
   "execution_count": 13,
   "id": "345359ec",
   "metadata": {},
   "outputs": [
    {
     "name": "stdout",
     "output_type": "stream",
     "text": [
      "PYTHON Hello world I am Python\n"
     ]
    }
   ],
   "source": [
    "# replace()\n",
    "a=\"Python Hello world I am Python\"\n",
    "b=a.replace(\"Python \",\"PYTHON \")\n",
    "print(b)"
   ]
  },
  {
   "cell_type": "code",
   "execution_count": 21,
   "id": "b6ea9213",
   "metadata": {},
   "outputs": [
    {
     "name": "stdout",
     "output_type": "stream",
     "text": [
      "Enter value for search HELLO\n",
      "Yes\n",
      "Replace value u want=gsfg\n",
      "gsfg world i am python\n"
     ]
    }
   ],
   "source": [
    "a=\"Hello world I am Python\"\n",
    "x= a.lower()\n",
    "b=input(\"Enter value for search \")\n",
    "y = b.lower()\n",
    "if y in x:\n",
    "    print(\"Yes\")\n",
    "    c=input(\"Replace value u want=\")\n",
    "    print(x.replace(y,c))\n",
    "   \n",
    "else:\n",
    "    print(\"No\")"
   ]
  },
  {
   "cell_type": "code",
   "execution_count": null,
   "id": "59937d09",
   "metadata": {},
   "outputs": [],
   "source": []
  }
 ],
 "metadata": {
  "kernelspec": {
   "display_name": "Python 3",
   "language": "python",
   "name": "python3"
  },
  "language_info": {
   "codemirror_mode": {
    "name": "ipython",
    "version": 3
   },
   "file_extension": ".py",
   "mimetype": "text/x-python",
   "name": "python",
   "nbconvert_exporter": "python",
   "pygments_lexer": "ipython3",
   "version": "3.8.8"
  }
 },
 "nbformat": 4,
 "nbformat_minor": 5
}
