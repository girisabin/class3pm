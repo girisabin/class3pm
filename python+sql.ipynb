{
 "cells": [
  {
   "cell_type": "code",
   "execution_count": 44,
   "id": "2823a69b",
   "metadata": {},
   "outputs": [],
   "source": [
    "import mysql.connector\n",
    "database = mysql.connector.connect(\n",
    " host=\"localhost\",\n",
    " user=\"root\",\n",
    " password=\"\",\n",
    " database = \"demo\"\n",
    ")\n",
    "db = database.cursor()\n",
    "db.execute(\"CREATE TABLE subject(id INT, name VARCHAR(255))\")\n",
    "\n"
   ]
  },
  {
   "cell_type": "code",
   "execution_count": null,
   "id": "b4214e3c",
   "metadata": {},
   "outputs": [],
   "source": []
  },
  {
   "cell_type": "code",
   "execution_count": 45,
   "id": "67fdabbb",
   "metadata": {},
   "outputs": [
    {
     "name": "stdout",
     "output_type": "stream",
     "text": [
      "(3, 'Shyam', 'Nepal', '9841054637', 6)\n",
      "(4, 'Ram', 'kathmandu', '9803288549', 2)\n",
      "(9, 'kali', 'kathmandu', '9876544444', 6)\n"
     ]
    }
   ],
   "source": [
    "#select sql query\n",
    "\n",
    "db.execute(\"SELECT * FROM profile\")\n",
    "result =db.fetchall()\n",
    "for x in result:\n",
    "    print(x)\n",
    "\n",
    "\n"
   ]
  },
  {
   "cell_type": "code",
   "execution_count": 46,
   "id": "b7835d88",
   "metadata": {},
   "outputs": [
    {
     "name": "stdout",
     "output_type": "stream",
     "text": [
      "-1 record inserted.\n"
     ]
    }
   ],
   "source": [
    "# insert sql query\n",
    "sql = \"INSERT INTO profile (name, address) VALUES('Ram','kathmandu')\"\n",
    "db.execute(sql)\n",
    "database.commit()\n",
    "print(mycursor.rowcount, \"record inserted.\")"
   ]
  },
  {
   "cell_type": "code",
   "execution_count": 50,
   "id": "bb6ab742",
   "metadata": {},
   "outputs": [
    {
     "name": "stdout",
     "output_type": "stream",
     "text": [
      "(3, 'Shyam', 'Nepal', '9841054637', 6)\n"
     ]
    }
   ],
   "source": [
    "# select sql query\n",
    "db.execute(\"SELECT * FROM profile WHERE address ='Nepal'\")\n",
    "result = db.fetchall()\n",
    "for x in result:\n",
    "    print(x)"
   ]
  },
  {
   "cell_type": "code",
   "execution_count": 51,
   "id": "c7916749",
   "metadata": {},
   "outputs": [
    {
     "name": "stdout",
     "output_type": "stream",
     "text": [
      "1 record(s) deleted\n"
     ]
    }
   ],
   "source": [
    "#delete\n",
    "sql = \"DELETE FROM profile WHERE address = 'Nepal' \"\n",
    "db.execute(sql)\n",
    "database.commit()\n",
    "print(db.rowcount, \"record(s) deleted\")"
   ]
  },
  {
   "cell_type": "code",
   "execution_count": 52,
   "id": "f05cd5eb",
   "metadata": {},
   "outputs": [
    {
     "name": "stdout",
     "output_type": "stream",
     "text": [
      "-1 record(s) affected\n"
     ]
    }
   ],
   "source": [
    "#update\n",
    "sql = \"UPDATE profile SET address = 'lamjung' WHERE address = 'kathmandu'\"\n",
    "db.execute(sql)\n",
    "database.commit()\n",
    "print(mycursor.rowcount, \"record(s) affected\")"
   ]
  },
  {
   "cell_type": "code",
   "execution_count": null,
   "id": "02507377",
   "metadata": {},
   "outputs": [],
   "source": []
  }
 ],
 "metadata": {
  "kernelspec": {
   "display_name": "Python 3",
   "language": "python",
   "name": "python3"
  },
  "language_info": {
   "codemirror_mode": {
    "name": "ipython",
    "version": 3
   },
   "file_extension": ".py",
   "mimetype": "text/x-python",
   "name": "python",
   "nbconvert_exporter": "python",
   "pygments_lexer": "ipython3",
   "version": "3.8.8"
  }
 },
 "nbformat": 4,
 "nbformat_minor": 5
}
