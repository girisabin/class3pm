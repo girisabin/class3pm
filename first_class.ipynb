{
 "cells": [
  {
   "cell_type": "code",
   "execution_count": 1,
   "id": "53bdf3c7",
   "metadata": {},
   "outputs": [
    {
     "name": "stdout",
     "output_type": "stream",
     "text": [
      "10\n"
     ]
    }
   ],
   "source": [
    "a = 10\n",
    "print(a)"
   ]
  },
  {
   "cell_type": "code",
   "execution_count": null,
   "id": "4702dbda",
   "metadata": {},
   "outputs": [],
   "source": [
    "a=int(input(\"enter the value of a =\"))\n",
    "b=int(input(\"enter the value of b=\"))\n",
    "print(a+b)\n",
    "print(type(a),type(b))\n"
   ]
  },
  {
   "cell_type": "code",
   "execution_count": null,
   "id": "5093caff",
   "metadata": {},
   "outputs": [],
   "source": [
    "p=float(input(\"enter the value of p=\"))\n",
    "t=float(input(\"enter the value of t=\"))\n",
    "r=float(input(\"enter the value of r=\"))\n",
    "i=(p*t*r)/100\n",
    "print('the value of i=',i)"
   ]
  },
  {
   "cell_type": "code",
   "execution_count": null,
   "id": "56ffaf93",
   "metadata": {},
   "outputs": [],
   "source": []
  },
  {
   "cell_type": "code",
   "execution_count": 1,
   "id": "18c33a80",
   "metadata": {},
   "outputs": [
    {
     "name": "stdout",
     "output_type": "stream",
     "text": [
      "enter the radius r=2\n",
      "the area of circle is  12.566\n"
     ]
    }
   ],
   "source": [
    "r=float(input(\"enter the radius r=\"))\n",
    "p=3.1415\n",
    "a=p*r**2\n",
    "print(\"the area of circle is \",a)\n"
   ]
  },
  {
   "cell_type": "code",
   "execution_count": 3,
   "id": "c1c79ff7",
   "metadata": {},
   "outputs": [
    {
     "name": "stdout",
     "output_type": "stream",
     "text": [
      "enter the length=2\n",
      "enter the breadth=3\n",
      "enter the height=4\n",
      "the volume is 24.0\n"
     ]
    }
   ],
   "source": [
    "l=float(input(\"enter the length=\"))\n",
    "b=float(input(\"enter the breadth=\"))\n",
    "h=float(input(\"enter the height=\"))\n",
    "\n",
    "print(\"the volume is\",l*b*h)"
   ]
  },
  {
   "cell_type": "code",
   "execution_count": null,
   "id": "e05d0094",
   "metadata": {},
   "outputs": [],
   "source": [
    "\n",
    "\n"
   ]
  },
  {
   "cell_type": "code",
   "execution_count": null,
   "id": "5bc24726",
   "metadata": {},
   "outputs": [],
   "source": []
  }
 ],
 "metadata": {
  "kernelspec": {
   "display_name": "Python 3",
   "language": "python",
   "name": "python3"
  },
  "language_info": {
   "codemirror_mode": {
    "name": "ipython",
    "version": 3
   },
   "file_extension": ".py",
   "mimetype": "text/x-python",
   "name": "python",
   "nbconvert_exporter": "python",
   "pygments_lexer": "ipython3",
   "version": "3.8.8"
  }
 },
 "nbformat": 4,
 "nbformat_minor": 5
}
