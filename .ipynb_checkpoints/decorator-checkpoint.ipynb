{
 "cells": [
  {
   "cell_type": "code",
   "execution_count": 2,
   "id": "aa758a61",
   "metadata": {},
   "outputs": [],
   "source": [
    "def calculation():\n",
    "    l=1\n",
    "    b=2\n",
    "    b=3\n",
    "    def area():\n",
    "        a=l*b\n",
    "        print(a)\n",
    "        \n",
    "    def volume():\n",
    "        v=l*b*h\n",
    "        print(v)\n",
    "        area()\n",
    "        volume()\n",
    "\n",
    "calculation()        \n",
    "       \n",
    "    \n",
    "    \n",
    "    "
   ]
  },
  {
   "cell_type": "code",
   "execution_count": null,
   "id": "a15b7a09",
   "metadata": {},
   "outputs": [],
   "source": [
    "value = 'Hello World'\n",
    "def outer_function(x):\n",
    "    \n",
    "    def inner_function()"
   ]
  },
  {
   "cell_type": "code",
   "execution_count": 6,
   "id": "5f27b330",
   "metadata": {},
   "outputs": [],
   "source": [
    "def outer_function(fun):\n",
    "    \n",
    "    def inner_function():\n",
    "        x=fun()\n",
    "        return inner_function()\n",
    "    \n",
    "@outer_function\n",
    "def hello():\n",
    "    print(\"Hello World\")"
   ]
  },
  {
   "cell_type": "code",
   "execution_count": 7,
   "id": "3740ec57",
   "metadata": {},
   "outputs": [
    {
     "name": "stdout",
     "output_type": "stream",
     "text": [
      "hello world\n"
     ]
    }
   ],
   "source": [
    "def strings(function):\n",
    "    def wrapper():\n",
    "        fun  = function()\n",
    "        x = fun.lower()\n",
    "        return x\n",
    "    return wrapper\n",
    "@strings\n",
    "def info():\n",
    "    return 'Hello World'\n",
    "\n",
    "print(info())"
   ]
  },
  {
   "cell_type": "code",
   "execution_count": 8,
   "id": "5c97d450",
   "metadata": {},
   "outputs": [
    {
     "data": {
      "text/plain": [
       "['hello', 'world']"
      ]
     },
     "execution_count": 8,
     "metadata": {},
     "output_type": "execute_result"
    }
   ],
   "source": [
    "def strings(function):\n",
    "    def wrapper():\n",
    "        fun = function()\n",
    "        x= fun.lower()\n",
    "        return x\n",
    "    return wrapper\n",
    "\n",
    "def split_string(function):\n",
    "    def wrappe():\n",
    "        func = function()\n",
    "        splitted_string = func.split()\n",
    "        return splitted_string\n",
    "    return wrappe\n",
    "\n",
    "@split_string\n",
    "@strings\n",
    "def info():\n",
    "    return 'Hello World'\n",
    "info()"
   ]
  },
  {
   "cell_type": "code",
   "execution_count": null,
   "id": "06de96ed",
   "metadata": {},
   "outputs": [],
   "source": []
  },
  {
   "cell_type": "code",
   "execution_count": null,
   "id": "d101a527",
   "metadata": {},
   "outputs": [],
   "source": []
  }
 ],
 "metadata": {
  "kernelspec": {
   "display_name": "Python 3",
   "language": "python",
   "name": "python3"
  },
  "language_info": {
   "codemirror_mode": {
    "name": "ipython",
    "version": 3
   },
   "file_extension": ".py",
   "mimetype": "text/x-python",
   "name": "python",
   "nbconvert_exporter": "python",
   "pygments_lexer": "ipython3",
   "version": "3.8.8"
  }
 },
 "nbformat": 4,
 "nbformat_minor": 5
}
