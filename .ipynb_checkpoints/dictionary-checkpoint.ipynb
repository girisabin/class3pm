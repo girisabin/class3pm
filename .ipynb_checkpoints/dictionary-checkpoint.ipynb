{
 "cells": [
  {
   "cell_type": "code",
   "execution_count": 1,
   "id": "022e912d",
   "metadata": {},
   "outputs": [],
   "source": [
    "# dictionary\n",
    "# -Contain Mupltiple data\n",
    "# -Duplicate value\n",
    "# -Indexing\n",
    "# -Ordered\n",
    "# -Mutable  -> liable to change"
   ]
  },
  {
   "cell_type": "code",
   "execution_count": null,
   "id": "5a3c6513",
   "metadata": {},
   "outputs": [],
   "source": [
    "# d = {<key>:<value>,<key>:<value>,<key>:<value>}"
   ]
  },
  {
   "cell_type": "code",
   "execution_count": 2,
   "id": "a8cc517b",
   "metadata": {},
   "outputs": [
    {
     "name": "stdout",
     "output_type": "stream",
     "text": [
      "4\n",
      "{'a': 'apple', 'b': 'ball', 'c': 'cat', 'A': 'apple'}\n",
      "<class 'dict'>\n"
     ]
    }
   ],
   "source": [
    "d={\"a\": \"apple\",\n",
    "   \"b\": 'ball',\n",
    "   'c': 'cat',\n",
    "   'A': 'apple'}\n",
    "print(len(d))\n",
    "print(d)\n",
    "print(type(d))"
   ]
  },
  {
   "cell_type": "code",
   "execution_count": 2,
   "id": "011f9dc4",
   "metadata": {},
   "outputs": [
    {
     "name": "stdout",
     "output_type": "stream",
     "text": [
      "apple\n",
      "ball\n"
     ]
    }
   ],
   "source": [
    "d={\"a\": \"apple\",\n",
    "   \"b\": 'ball',\n",
    "   'c': 'cat',\n",
    "   'A': 'apple'}\n",
    "print(d['a'])\n",
    "print(d['b'])"
   ]
  },
  {
   "cell_type": "code",
   "execution_count": 3,
   "id": "e1eee1b3",
   "metadata": {},
   "outputs": [
    {
     "name": "stdout",
     "output_type": "stream",
     "text": [
      "{'a': 'Apple', 'b': 'Ball'}\n"
     ]
    }
   ],
   "source": [
    "d = dict()\n",
    "d['a'] = \"Apple\"     #where a,b=key\n",
    "d['b']= \"Ball\"\n",
    "print(d)"
   ]
  },
  {
   "cell_type": "code",
   "execution_count": 4,
   "id": "9a39e06a",
   "metadata": {},
   "outputs": [
    {
     "data": {
      "text/plain": [
       "{'a': 'apple', 'b': 'Ball'}"
      ]
     },
     "execution_count": 4,
     "metadata": {},
     "output_type": "execute_result"
    }
   ],
   "source": [
    "z = {'a': 'Apple', 'b': 'Ball'}\n",
    "z['a'] = 'apple'\n",
    "z"
   ]
  },
  {
   "cell_type": "code",
   "execution_count": 5,
   "id": "0424b68a",
   "metadata": {},
   "outputs": [
    {
     "data": {
      "text/plain": [
       "{'Ram': 9806547343, 'Shyam': 9804356786}"
      ]
     },
     "execution_count": 5,
     "metadata": {},
     "output_type": "execute_result"
    }
   ],
   "source": [
    "d={}\n",
    "d['Ram'] = 9806547343\n",
    "d['Shyam'] = 9804356786\n",
    "d"
   ]
  },
  {
   "cell_type": "code",
   "execution_count": 6,
   "id": "24f1b396",
   "metadata": {},
   "outputs": [
    {
     "data": {
      "text/plain": [
       "9806547343"
      ]
     },
     "execution_count": 6,
     "metadata": {},
     "output_type": "execute_result"
    }
   ],
   "source": [
    "d['Ram']"
   ]
  },
  {
   "cell_type": "code",
   "execution_count": 7,
   "id": "353784bc",
   "metadata": {},
   "outputs": [
    {
     "name": "stdout",
     "output_type": "stream",
     "text": [
      "Enter n= 2\n",
      "Enter name= Ram\n",
      "Enter phone = 980444444444\n",
      "Enter name= Shyam\n",
      "Enter phone = 4345454545\n",
      "{'Ram': '980444444444', 'Shyam': '4345454545'}\n"
     ]
    }
   ],
   "source": [
    "info = dict()\n",
    "n = int(input(\"Enter n= \"))\n",
    "for i in range(n):\n",
    "    name = input(\"Enter name= \")\n",
    "    phone = int(input(\"Enter phone = \"))\n",
    "    info[name] = phone\n",
    "print(info)    "
   ]
  },
  {
   "cell_type": "code",
   "execution_count": 8,
   "id": "3362af46",
   "metadata": {},
   "outputs": [
    {
     "data": {
      "text/plain": [
       "{'Ram': 9803288549, 'Shyam': 9804356786}"
      ]
     },
     "execution_count": 8,
     "metadata": {},
     "output_type": "execute_result"
    }
   ],
   "source": [
    "d['Ram'] = 9803288549\n",
    "d"
   ]
  },
  {
   "cell_type": "code",
   "execution_count": 9,
   "id": "0119fe11",
   "metadata": {},
   "outputs": [
    {
     "name": "stdout",
     "output_type": "stream",
     "text": [
      "Ram\n",
      "Shyam\n"
     ]
    }
   ],
   "source": [
    "a = {'Ram': 98678554553, 'Shyam': 984353453535}\n",
    "for i in a:\n",
    "    print(i)"
   ]
  },
  {
   "cell_type": "code",
   "execution_count": 10,
   "id": "b5e4e2df",
   "metadata": {},
   "outputs": [
    {
     "name": "stdout",
     "output_type": "stream",
     "text": [
      "98678554553\n",
      "984353453535\n"
     ]
    }
   ],
   "source": [
    "a = {'Ram': 98678554553, 'Shyam': 984353453535}\n",
    "for i in a.values():\n",
    "    print(i)"
   ]
  },
  {
   "cell_type": "code",
   "execution_count": 11,
   "id": "21473d84",
   "metadata": {},
   "outputs": [
    {
     "name": "stdout",
     "output_type": "stream",
     "text": [
      "('Ram', 98678554553)\n",
      "('Shyam', 984353453535)\n"
     ]
    }
   ],
   "source": [
    "a = {'Ram': 98678554553, 'Shyam': 984353453535}\n",
    "for i in a.items():\n",
    "    print(i)"
   ]
  },
  {
   "cell_type": "code",
   "execution_count": 12,
   "id": "bfdec225",
   "metadata": {},
   "outputs": [
    {
     "name": "stdout",
     "output_type": "stream",
     "text": [
      "{'Ram': 98678554553, 'Shyam': 984353453535}\n"
     ]
    }
   ],
   "source": [
    "l = [('Ram', 98678554553),('Shyam', 984353453535)]\n",
    "print(dict(l))"
   ]
  },
  {
   "cell_type": "code",
   "execution_count": 13,
   "id": "ea0ad71c",
   "metadata": {},
   "outputs": [
    {
     "name": "stdout",
     "output_type": "stream",
     "text": [
      "{'Ram': 98678554553, 'Shyam': 984353453535}\n"
     ]
    }
   ],
   "source": [
    "l = (['Ram', 98678554553],['Shyam', 984353453535])\n",
    "print(dict(l))"
   ]
  },
  {
   "cell_type": "code",
   "execution_count": 17,
   "id": "6b1ef227",
   "metadata": {},
   "outputs": [
    {
     "name": "stdout",
     "output_type": "stream",
     "text": [
      "Enter n= 984353453535\n",
      "('Ram', 98678554553)\n",
      "('Shyam', 984353453535)\n",
      "Shyam\n"
     ]
    }
   ],
   "source": [
    "a= {'Ram': 98678554553, 'Shyam': 984353453535}\n",
    "n= int(input(\"Enter n= \"))\n",
    "for i in a.items():\n",
    "    print(i)\n",
    "    if n == i[1]:\n",
    "        print(i[0])\n"
   ]
  },
  {
   "cell_type": "code",
   "execution_count": 18,
   "id": "ae1e7003",
   "metadata": {},
   "outputs": [
    {
     "ename": "NameError",
     "evalue": "name 'a' is not defined",
     "output_type": "error",
     "traceback": [
      "\u001b[1;31m---------------------------------------------------------------------------\u001b[0m",
      "\u001b[1;31mNameError\u001b[0m                                 Traceback (most recent call last)",
      "\u001b[1;32m<ipython-input-18-47903178a664>\u001b[0m in \u001b[0;36m<module>\u001b[1;34m\u001b[0m\n\u001b[0;32m      2\u001b[0m \u001b[0ma\u001b[0m\u001b[1;33m=\u001b[0m \u001b[1;33m{\u001b[0m\u001b[1;34m'Ram'\u001b[0m\u001b[1;33m:\u001b[0m \u001b[1;36m98678554553\u001b[0m\u001b[1;33m,\u001b[0m \u001b[1;34m'Shyam'\u001b[0m\u001b[1;33m:\u001b[0m \u001b[1;36m984353453535\u001b[0m\u001b[1;33m}\u001b[0m\u001b[1;33m\u001b[0m\u001b[1;33m\u001b[0m\u001b[0m\n\u001b[0;32m      3\u001b[0m \u001b[1;32mdel\u001b[0m \u001b[0ma\u001b[0m\u001b[1;33m\u001b[0m\u001b[1;33m\u001b[0m\u001b[0m\n\u001b[1;32m----> 4\u001b[1;33m \u001b[0ma\u001b[0m\u001b[1;33m\u001b[0m\u001b[1;33m\u001b[0m\u001b[0m\n\u001b[0m",
      "\u001b[1;31mNameError\u001b[0m: name 'a' is not defined"
     ]
    }
   ],
   "source": [
    "# del pop()\n",
    "a= {'Ram': 98678554553, 'Shyam': 984353453535}\n",
    "del a\n",
    "a"
   ]
  },
  {
   "cell_type": "code",
   "execution_count": 19,
   "id": "6404f854",
   "metadata": {},
   "outputs": [
    {
     "name": "stdout",
     "output_type": "stream",
     "text": [
      "{'Shyam': 984353453535}\n"
     ]
    }
   ],
   "source": [
    "# del pop()\n",
    "a= {'Ram': 98678554553, 'Shyam': 984353453535}\n",
    "del a['Ram']\n",
    "print(a)"
   ]
  },
  {
   "cell_type": "code",
   "execution_count": 21,
   "id": "5b61da7d",
   "metadata": {},
   "outputs": [
    {
     "name": "stdout",
     "output_type": "stream",
     "text": [
      "98678554553\n",
      "{'Shyam': 984353453535}\n"
     ]
    }
   ],
   "source": [
    "# pop() -> use to move values from one place to another \n",
    "\n",
    "a= {'Ram': 98678554553, 'Shyam': 984353453535}\n",
    "b = a.pop('Ram')\n",
    "print(b)\n",
    "print(a)"
   ]
  },
  {
   "cell_type": "code",
   "execution_count": 22,
   "id": "59734d23",
   "metadata": {},
   "outputs": [
    {
     "name": "stdout",
     "output_type": "stream",
     "text": [
      "{('Ram', 'Hari'): 98678554553, 'Shyam': 984353453535}\n"
     ]
    }
   ],
   "source": [
    "a= {('Ram','Hari'): 98678554553, 'Shyam': 984353453535}\n",
    "print(a)"
   ]
  },
  {
   "cell_type": "code",
   "execution_count": 23,
   "id": "42df97ea",
   "metadata": {},
   "outputs": [
    {
     "data": {
      "text/plain": [
       "98678554553"
      ]
     },
     "execution_count": 23,
     "metadata": {},
     "output_type": "execute_result"
    }
   ],
   "source": [
    "a[('Ram', 'Hari')]"
   ]
  },
  {
   "cell_type": "code",
   "execution_count": 24,
   "id": "2acaac38",
   "metadata": {},
   "outputs": [
    {
     "ename": "TypeError",
     "evalue": "unhashable type: 'list'",
     "output_type": "error",
     "traceback": [
      "\u001b[1;31m---------------------------------------------------------------------------\u001b[0m",
      "\u001b[1;31mTypeError\u001b[0m                                 Traceback (most recent call last)",
      "\u001b[1;32m<ipython-input-24-a55b0106dd63>\u001b[0m in \u001b[0;36m<module>\u001b[1;34m\u001b[0m\n\u001b[1;32m----> 1\u001b[1;33m \u001b[0ma\u001b[0m\u001b[1;33m=\u001b[0m \u001b[1;33m{\u001b[0m\u001b[1;33m[\u001b[0m\u001b[1;34m'Ram'\u001b[0m\u001b[1;33m,\u001b[0m\u001b[1;34m'Hari'\u001b[0m\u001b[1;33m]\u001b[0m\u001b[1;33m:\u001b[0m \u001b[1;36m98678554553\u001b[0m\u001b[1;33m,\u001b[0m \u001b[1;34m'Shyam'\u001b[0m\u001b[1;33m:\u001b[0m \u001b[1;36m984353453535\u001b[0m\u001b[1;33m}\u001b[0m\u001b[1;33m\u001b[0m\u001b[1;33m\u001b[0m\u001b[0m\n\u001b[0m\u001b[0;32m      2\u001b[0m \u001b[0mprint\u001b[0m\u001b[1;33m(\u001b[0m\u001b[0ma\u001b[0m\u001b[1;33m)\u001b[0m\u001b[1;33m\u001b[0m\u001b[1;33m\u001b[0m\u001b[0m\n",
      "\u001b[1;31mTypeError\u001b[0m: unhashable type: 'list'"
     ]
    }
   ],
   "source": [
    "a= {['Ram','Hari']: 98678554553, 'Shyam': 984353453535}\n",
    "print(a)"
   ]
  },
  {
   "cell_type": "code",
   "execution_count": 25,
   "id": "014f218b",
   "metadata": {},
   "outputs": [
    {
     "data": {
      "text/plain": [
       "98678554553"
      ]
     },
     "execution_count": 25,
     "metadata": {},
     "output_type": "execute_result"
    }
   ],
   "source": [
    "# list inside dictionary \n",
    "a= {'Ram': [98678554553,980043353], 'Shyam': [984353453535,6898454545]}\n",
    "a['Ram'][0]\n"
   ]
  },
  {
   "cell_type": "code",
   "execution_count": 26,
   "id": "658eed64",
   "metadata": {},
   "outputs": [
    {
     "name": "stdout",
     "output_type": "stream",
     "text": [
      "{'Ram': [98678554553, 980043353], 'Shyam': [984353453535, 6898454545], 'Hari': [98566656565, 343435554]}\n"
     ]
    }
   ],
   "source": [
    "a= {'Ram': [98678554553,980043353], 'Shyam': [984353453535,6898454545]}\n",
    "a['Hari']= [98566656565,343435554]\n",
    "print(a)"
   ]
  },
  {
   "cell_type": "code",
   "execution_count": 27,
   "id": "e334cb07",
   "metadata": {},
   "outputs": [
    {
     "name": "stdout",
     "output_type": "stream",
     "text": [
      "{'Ram': [98678554553, 980043353, 9800334343], 'Shyam': [984353453535, 6898454545]}\n"
     ]
    }
   ],
   "source": [
    "a= {'Ram': [98678554553,980043353], 'Shyam': [984353453535,6898454545]}\n",
    "a['Ram'].append(9800334343)\n",
    "print(a)"
   ]
  },
  {
   "cell_type": "code",
   "execution_count": 28,
   "id": "580765ac",
   "metadata": {},
   "outputs": [
    {
     "data": {
      "text/plain": [
       "{'Ram': [9806547343, 4343335], 'Shyam': [9804356786, 3434334]}"
      ]
     },
     "execution_count": 28,
     "metadata": {},
     "output_type": "execute_result"
    }
   ],
   "source": [
    "# list inside dictionary\n",
    "d={}\n",
    "d['Ram'] =[9806547343,4343335]\n",
    "d['Shyam'] = [9804356786,3434334]\n",
    "d"
   ]
  },
  {
   "cell_type": "code",
   "execution_count": 29,
   "id": "ad714150",
   "metadata": {
    "scrolled": true
   },
   "outputs": [
    {
     "name": "stdout",
     "output_type": "stream",
     "text": [
      "Enter n= 2\n",
      "Enter name= Ram\n",
      "Enter ntc_phone = 9841343433443\n",
      "Enter ncell_phone = 98184343434\n",
      "Enter name= Shyam\n",
      "Enter ntc_phone = 9841344343\n",
      "Enter ncell_phone = 98183343444\n",
      "{'Ram': [9841343433443, 98184343434], 'Shyam': [9841344343, 98183343444]}\n"
     ]
    }
   ],
   "source": [
    "info = dict()\n",
    "n = int(input(\"Enter n= \"))\n",
    "for i in range(n):\n",
    "    name = input(\"Enter name= \")\n",
    "    ntc_phone = int(input(\"Enter ntc_phone = \"))\n",
    "    ncell_phone = int(input(\"Enter ncell_phone = \"))\n",
    "    info[name] = [ntc_phone,ncell_phone]\n",
    "print(info)"
   ]
  },
  {
   "cell_type": "code",
   "execution_count": 11,
   "id": "5960bc2d",
   "metadata": {},
   "outputs": [
    {
     "name": "stdout",
     "output_type": "stream",
     "text": [
      "Enter address = e\n",
      "ERROR!!!!\n"
     ]
    }
   ],
   "source": [
    "a = {'Ram': ['Kathmandu', 'Dhading'],\n",
    "     'Shyam': ['Kathmandu', 'Nuwakot'],\n",
    "     'hari': ['Jhapa','Bara']}\n",
    "address= input(\"Enter address = \")\n",
    "for i in a.items():\n",
    "    if address.lower() == i[1][0].lower():\n",
    "        print(i)\n",
    "\n",
    "else:\n",
    "    print(\"ERROR!!!!\")"
   ]
  },
  {
   "cell_type": "code",
   "execution_count": 2,
   "id": "7e9c8ff9",
   "metadata": {},
   "outputs": [
    {
     "data": {
      "text/plain": [
       "dict_items([('Ram', ['Kathmandu', 'Dhading']), ('Shyam', ['Kathmandu', 'Nuwakot']), ('hari', ['Jhapa', 'Bara'])])"
      ]
     },
     "execution_count": 2,
     "metadata": {},
     "output_type": "execute_result"
    }
   ],
   "source": [
    "a = {'Ram': ['Kathmandu', 'Dhading'],\n",
    "     'Shyam': ['Kathmandu', 'Nuwakot'],\n",
    "     'hari': ['Jhapa','Bara']}\n",
    "a.items()"
   ]
  },
  {
   "cell_type": "code",
   "execution_count": 4,
   "id": "940e926e",
   "metadata": {},
   "outputs": [
    {
     "name": "stdout",
     "output_type": "stream",
     "text": [
      "('Ram', ('Kathmandu', 'Dhading'))\n",
      "('Shyam', ('Kathmandu', 'Nuwakot'))\n",
      "('hari', ('Jhapa', 'Bara'))\n"
     ]
    }
   ],
   "source": [
    "# tuple inside list\n",
    "a = {'Ram': ('Kathmandu', 'Dhading'),\n",
    "     'Shyam': ('Kathmandu', 'Nuwakot'),\n",
    "     'hari': ('Jhapa','Bara')}\n",
    "for i in a.items():\n",
    "    print(i)"
   ]
  },
  {
   "cell_type": "code",
   "execution_count": 5,
   "id": "97c67cd6",
   "metadata": {},
   "outputs": [
    {
     "data": {
      "text/plain": [
       "{'Ram': ('Bara', 'LUmbini'),\n",
       " 'Shyam': ('Kathmandu', 'Nuwakot'),\n",
       " 'hari': ('Jhapa', 'Bara')}"
      ]
     },
     "execution_count": 5,
     "metadata": {},
     "output_type": "execute_result"
    }
   ],
   "source": [
    "a['Ram']= ('Bara','LUmbini')\n",
    "a"
   ]
  },
  {
   "cell_type": "code",
   "execution_count": null,
   "id": "97087571",
   "metadata": {},
   "outputs": [],
   "source": [
    "a = {('Ram','Kali'): ['Kathmandu', 'Dhading'],\n",
    "     'Shyam': ['Kathmandu', 'Nuwakot'],\n",
    "     'hari': ['Jhapa','Bara']}\n"
   ]
  },
  {
   "cell_type": "code",
   "execution_count": 6,
   "id": "e7f34b66",
   "metadata": {},
   "outputs": [
    {
     "name": "stdout",
     "output_type": "stream",
     "text": [
      "[{'Name': 'Ram', 'Address': 'Kathmandu'}, {'Name': 'Shyam', 'Address': 'Bara'}, {'Name': 'Kali', 'Address': 'Bhaktapur'}]\n"
     ]
    }
   ],
   "source": [
    "# dictionary inside list\n",
    "\n",
    "a = [{'Name':'Ram','Address':'Kathmandu'},\n",
    "    {'Name':'Shyam', 'Address':'Bara'},\n",
    "    {'Name':'Kali', 'Address':'Bhaktapur'}]\n",
    "print(a)\n",
    "\n"
   ]
  },
  {
   "cell_type": "code",
   "execution_count": 7,
   "id": "951cda48",
   "metadata": {},
   "outputs": [
    {
     "name": "stdout",
     "output_type": "stream",
     "text": [
      "{'Name': 'Ram', 'Address': 'Kathmandu'}\n",
      "{'Name': 'Shyam', 'Address': 'Bara'}\n",
      "{'Name': 'Kali', 'Address': 'Bhaktapur'}\n"
     ]
    }
   ],
   "source": [
    "for i in a:\n",
    "    print(i)"
   ]
  },
  {
   "cell_type": "code",
   "execution_count": 8,
   "id": "08fab08e",
   "metadata": {},
   "outputs": [
    {
     "name": "stdout",
     "output_type": "stream",
     "text": [
      "('Name', 'Ram')\n",
      "('Address', 'Kathmandu')\n",
      "('Name', 'Shyam')\n",
      "('Address', 'Bara')\n",
      "('Name', 'Kali')\n",
      "('Address', 'Bhaktapur')\n"
     ]
    }
   ],
   "source": [
    "for i in a:\n",
    "    for j in i.items():\n",
    "        print(j)"
   ]
  },
  {
   "cell_type": "code",
   "execution_count": 9,
   "id": "f710f610",
   "metadata": {},
   "outputs": [
    {
     "name": "stdout",
     "output_type": "stream",
     "text": [
      "Ram\n",
      "Shyam\n",
      "Kali\n"
     ]
    }
   ],
   "source": [
    "for i in a:\n",
    "    print(i['Name'])"
   ]
  },
  {
   "cell_type": "code",
   "execution_count": 10,
   "id": "c4ba836a",
   "metadata": {},
   "outputs": [
    {
     "name": "stdout",
     "output_type": "stream",
     "text": [
      "[{'Name': 'Ram', 'Address': ['Kathmandu', 'Patan']}, {'Name': 'Shyam', 'Address': ['Bara', 'Saptari']}, {'Name': 'Kali', 'Address': ['Bhaktapur', 'Patan']}, {'Name': 'Lol', 'Address': ['ktm', 'Palpa']}]\n"
     ]
    }
   ],
   "source": [
    "a = [{'Name': 'Ram', 'Address': ['Kathmandu','Patan']},\n",
    "     {'Name': 'Shyam', 'Address': ['Bara','Saptari']}, \n",
    "     {'Name': 'Kali', 'Address': ['Bhaktapur','Patan']}]\n",
    "b = {\"Name\": 'Lol', 'Address':['ktm','Palpa']}\n",
    "a.append(b)\n",
    "print(a)"
   ]
  },
  {
   "cell_type": "code",
   "execution_count": 11,
   "id": "3ebedaf4",
   "metadata": {},
   "outputs": [
    {
     "data": {
      "text/plain": [
       "'Kathmandu'"
      ]
     },
     "execution_count": 11,
     "metadata": {},
     "output_type": "execute_result"
    }
   ],
   "source": [
    "a[0]['Address'][0]"
   ]
  },
  {
   "cell_type": "code",
   "execution_count": 12,
   "id": "56538dee",
   "metadata": {},
   "outputs": [
    {
     "data": {
      "text/plain": [
       "'Bara'"
      ]
     },
     "execution_count": 12,
     "metadata": {},
     "output_type": "execute_result"
    }
   ],
   "source": [
    "a[1]['Address'][0]"
   ]
  },
  {
   "cell_type": "code",
   "execution_count": 15,
   "id": "f54e5587",
   "metadata": {},
   "outputs": [
    {
     "data": {
      "text/plain": [
       "[{'Name': 'Ram', 'Address': {'Per': 'Kathmandu', 'Tem': 'Patan'}},\n",
       " {'Name': 'Shyam', 'Address': {'Per': 'Bara', 'Tem': 'Saptari'}},\n",
       " {'Name': 'Kali', 'Address': {'Per': 'Bhaktapur', 'Tem': 'Patan'}}]"
      ]
     },
     "execution_count": 15,
     "metadata": {},
     "output_type": "execute_result"
    }
   ],
   "source": [
    "a = [{'Name': 'Ram', 'Address': {'Per':'Kathmandu','Tem':'Patan'}},\n",
    "     {'Name': 'Shyam', 'Address': {'Per':'Bara','Tem':'Saptari'}}, \n",
    "     {'Name': 'Kali', 'Address': {'Per':'Bhaktapur','Tem':'Patan'}}]\n",
    "a"
   ]
  },
  {
   "cell_type": "code",
   "execution_count": 19,
   "id": "a641e4df",
   "metadata": {},
   "outputs": [
    {
     "data": {
      "text/plain": [
       "'Kathmandu'"
      ]
     },
     "execution_count": 19,
     "metadata": {},
     "output_type": "execute_result"
    }
   ],
   "source": [
    "a[0]['Address']['Per']"
   ]
  },
  {
   "cell_type": "code",
   "execution_count": 20,
   "id": "8c9b3fbf",
   "metadata": {},
   "outputs": [
    {
     "data": {
      "text/plain": [
       "'Patan'"
      ]
     },
     "execution_count": 20,
     "metadata": {},
     "output_type": "execute_result"
    }
   ],
   "source": [
    "a[0]['Address']['Tem']"
   ]
  },
  {
   "cell_type": "code",
   "execution_count": 22,
   "id": "8fb016de",
   "metadata": {},
   "outputs": [
    {
     "data": {
      "text/plain": [
       "{1: {'Name': 'Ram', 'Address': {'Per': 'Kathmandu', 'Tem': 'Patan'}},\n",
       " 2: {'Name': 'Shyam', 'Address': {'Per': 'Bara', 'Tem': 'Saptari'}},\n",
       " 3: {'Name': 'Kali', 'Address': {'Per': 'Bhaktapur', 'Tem': 'Patan'}}}"
      ]
     },
     "execution_count": 22,
     "metadata": {},
     "output_type": "execute_result"
    }
   ],
   "source": [
    "# nested dictionary\n",
    "a = {1:{'Name': 'Ram', 'Address': {'Per':'Kathmandu','Tem':'Patan'}},\n",
    "     2:{'Name': 'Shyam', 'Address': {'Per':'Bara','Tem':'Saptari'}}, \n",
    "     3:{'Name': 'Kali', 'Address': {'Per':'Bhaktapur','Tem':'Patan'}}}\n",
    "a"
   ]
  },
  {
   "cell_type": "code",
   "execution_count": 24,
   "id": "aa08af7b",
   "metadata": {},
   "outputs": [
    {
     "data": {
      "text/plain": [
       "{1: {'Name': 'Ram', 'Address': {'Per': 'Kathmandu', 'Tem': 'Patan'}},\n",
       " 2: {'Name': 'Shyam', 'Address': {'Per': 'Bara', 'Tem': 'Saptari'}},\n",
       " 3: {'Name': 'Kali', 'Address': {'Per': 'Bhaktapur', 'Tem': 'Patan'}},\n",
       " 4: {'Name': 'Kali', 'Address': {'Per': 'Bhaktapur', 'Tem': 'Patan'}}}"
      ]
     },
     "execution_count": 24,
     "metadata": {},
     "output_type": "execute_result"
    }
   ],
   "source": [
    "a[4] = {'Name': 'Kali', 'Address': {'Per': 'Bhaktapur', 'Tem': 'Patan'}}\n",
    "a        "
   ]
  },
  {
   "cell_type": "code",
   "execution_count": 25,
   "id": "1e5252f6",
   "metadata": {},
   "outputs": [
    {
     "data": {
      "text/plain": [
       "{1: {'Name': 'Ram', 'Address': {'Per': 'Kathmandu', 'Tem': 'Patan'}},\n",
       " 2: {'Name': 'Shyam', 'Address': {'Per': 'Bara', 'Tem': 'Saptari'}},\n",
       " 3: {'Name': 'Kali', 'Address': {'Per': 'Bhaktapur', 'Tem': 'Patan'}},\n",
       " 4: {'Name': 'Kali', 'Address': {'Per': 'ktm', 'Tem': 'Patan'}}}"
      ]
     },
     "execution_count": 25,
     "metadata": {},
     "output_type": "execute_result"
    }
   ],
   "source": [
    "a[4]['Address']['Per']= 'ktm'\n",
    "a"
   ]
  },
  {
   "cell_type": "code",
   "execution_count": 26,
   "id": "cb78d497",
   "metadata": {},
   "outputs": [],
   "source": [
    "# wap to make dict inside dict\n",
    "# wap to make list inside dict\n",
    "# wap to make dict inside list"
   ]
  },
  {
   "cell_type": "code",
   "execution_count": 4,
   "id": "703327c1",
   "metadata": {},
   "outputs": [
    {
     "name": "stdout",
     "output_type": "stream",
     "text": [
      "Enter number of rows in dict= 2\n",
      "Enter name= Ram\n",
      "Enter per_address = Palpa\n",
      "Enter tem_address = Ktm\n",
      "Enter name= Sam\n",
      "Enter per_address = Ktm\n",
      "Enter tem_address = Palpa\n",
      "{'dic': {'name': 'Sam', 'per_address': 'Ktm', 'tem_address': 'Palpa'}}\n"
     ]
    }
   ],
   "source": [
    "# wap to make dict inside dict\n",
    "d=dict()\n",
    "d['dic'] = dict()\n",
    "n=int(input(\"Enter number of rows in dict= \"))\n",
    "for i in range(n):\n",
    "    name=input(\"Enter name= \")\n",
    "    per_address=input(\"Enter per_address = \")\n",
    "    tem_address=input(\"Enter tem_address = \")\n",
    "    d['dic']['name']=name\n",
    "    d['dic']['per_address']=per_address\n",
    "    d['dic']['tem_address']=tem_address\n",
    "        \n",
    "print(d)   \n",
    "    "
   ]
  },
  {
   "cell_type": "code",
   "execution_count": 3,
   "id": "4d47bef1",
   "metadata": {},
   "outputs": [
    {
     "name": "stdout",
     "output_type": "stream",
     "text": [
      "Enter number of rows in dict= 2\n",
      "Enter name= Ram\n",
      "Enter addressPalpa\n",
      "Enter name= Sam\n",
      "Enter addressKtm\n",
      "{0: ['Ram', 'Palpa'], 1: ['Sam', 'Ktm']}\n"
     ]
    }
   ],
   "source": [
    "# wap to make list inside dict\n",
    "d=dict()\n",
    "n=int(input(\"Enter number of rows in dict= \"))\n",
    "for i in range(n):\n",
    "    name=input(\"Enter name= \")\n",
    "    address=input(\"Enter address= \")\n",
    "    d[i]=[name,address]\n",
    "    \n",
    "print(d)"
   ]
  },
  {
   "cell_type": "code",
   "execution_count": 1,
   "id": "c6454ded",
   "metadata": {},
   "outputs": [
    {
     "name": "stdout",
     "output_type": "stream",
     "text": [
      "Enter number of rows in dict= 2\n",
      "Enter name= ram\n",
      "Enter addressktm\n"
     ]
    },
    {
     "ename": "IndexError",
     "evalue": "list assignment index out of range",
     "output_type": "error",
     "traceback": [
      "\u001b[1;31m---------------------------------------------------------------------------\u001b[0m",
      "\u001b[1;31mIndexError\u001b[0m                                Traceback (most recent call last)",
      "\u001b[1;32m<ipython-input-1-7c82ae286f1c>\u001b[0m in \u001b[0;36m<module>\u001b[1;34m\u001b[0m\n\u001b[0;32m      5\u001b[0m     \u001b[0mname\u001b[0m\u001b[1;33m=\u001b[0m\u001b[0minput\u001b[0m\u001b[1;33m(\u001b[0m\u001b[1;34m\"Enter name= \"\u001b[0m\u001b[1;33m)\u001b[0m\u001b[1;33m\u001b[0m\u001b[1;33m\u001b[0m\u001b[0m\n\u001b[0;32m      6\u001b[0m     \u001b[0maddress\u001b[0m\u001b[1;33m=\u001b[0m\u001b[0minput\u001b[0m\u001b[1;33m(\u001b[0m\u001b[1;34m\"Enter address\"\u001b[0m\u001b[1;33m)\u001b[0m\u001b[1;33m\u001b[0m\u001b[1;33m\u001b[0m\u001b[0m\n\u001b[1;32m----> 7\u001b[1;33m     \u001b[0md\u001b[0m\u001b[1;33m[\u001b[0m\u001b[0mi\u001b[0m\u001b[1;33m]\u001b[0m\u001b[1;33m=\u001b[0m\u001b[1;33m{\u001b[0m\u001b[0mname\u001b[0m\u001b[1;33m,\u001b[0m\u001b[0maddress\u001b[0m\u001b[1;33m}\u001b[0m\u001b[1;33m\u001b[0m\u001b[1;33m\u001b[0m\u001b[0m\n\u001b[0m\u001b[0;32m      8\u001b[0m \u001b[0mprint\u001b[0m\u001b[1;33m(\u001b[0m\u001b[0md\u001b[0m\u001b[1;33m)\u001b[0m\u001b[1;33m\u001b[0m\u001b[1;33m\u001b[0m\u001b[0m\n",
      "\u001b[1;31mIndexError\u001b[0m: list assignment index out of range"
     ]
    }
   ],
   "source": [
    "# wap to make dict inside list\n",
    "d=list()\n",
    "n=int(input(\"Enter number of rows in dict= \"))\n",
    "for i in range(n):\n",
    "    name=input(\"Enter name= \")\n",
    "    address=input(\"Enter address\")\n",
    "    d[i]={name,address}\n",
    "print(d)"
   ]
  },
  {
   "cell_type": "code",
   "execution_count": 2,
   "id": "ee6af34e",
   "metadata": {},
   "outputs": [
    {
     "name": "stdout",
     "output_type": "stream",
     "text": [
      "Nested dictionary 1-\n",
      "{'Dict1': {}, 'Dict2': {}}\n",
      "\n",
      "Nested dictionary 2-\n",
      "{'Dict1': {'name': 'Ali', 'age': '19'}, 'Dict2': {'name': 'Bob', 'age': '25'}}\n",
      "\n",
      "Nested dictionary 3-\n",
      "{'Dict1': {1: 'G', 2: 'F', 3: 'G'}, 'Dict2': {'Name': 'Geeks', 1: [1, 2]}}\n"
     ]
    }
   ],
   "source": [
    "Dict = { 'Dict1': { }, \n",
    "         'Dict2': { }}\n",
    "print(\"Nested dictionary 1-\")\n",
    "print(Dict)\n",
    "  \n",
    "# Nested dictionary having same keys\n",
    "Dict = { 'Dict1': {'name': 'Ali', 'age': '19'},\n",
    "         'Dict2': {'name': 'Bob', 'age': '25'}}\n",
    "print(\"\\nNested dictionary 2-\")\n",
    "print(Dict)\n",
    "  \n",
    "# Nested dictionary of mixed dictionary keys\n",
    "Dict = { 'Dict1': {1: 'G', 2: 'F', 3: 'G'}, \n",
    "         'Dict2': {'Name': 'Geeks', 1: [1, 2]} }\n",
    "print(\"\\nNested dictionary 3-\")\n",
    "print(Dict)"
   ]
  },
  {
   "cell_type": "code",
   "execution_count": null,
   "id": "fd66a634",
   "metadata": {},
   "outputs": [],
   "source": []
  }
 ],
 "metadata": {
  "kernelspec": {
   "display_name": "Python 3",
   "language": "python",
   "name": "python3"
  },
  "language_info": {
   "codemirror_mode": {
    "name": "ipython",
    "version": 3
   },
   "file_extension": ".py",
   "mimetype": "text/x-python",
   "name": "python",
   "nbconvert_exporter": "python",
   "pygments_lexer": "ipython3",
   "version": "3.8.8"
  }
 },
 "nbformat": 4,
 "nbformat_minor": 5
}
