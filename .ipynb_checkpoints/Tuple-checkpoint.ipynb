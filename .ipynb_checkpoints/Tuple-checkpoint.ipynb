{
 "cells": [
  {
   "cell_type": "code",
   "execution_count": 1,
   "id": "6790ed4c",
   "metadata": {},
   "outputs": [],
   "source": [
    "# tuple\n",
    "#-Contain Multiple data\n",
    "#-Duplicate value\n",
    "#-Indexing\n",
    "#-Ordered\n",
    "#-IMutable -> not liable to change(it can only create)\n",
    "\n"
   ]
  },
  {
   "cell_type": "code",
   "execution_count": 2,
   "id": "2ef4c2e4",
   "metadata": {},
   "outputs": [
    {
     "name": "stdout",
     "output_type": "stream",
     "text": [
      "<class 'tuple'>\n",
      "<class 'tuple'>\n"
     ]
    }
   ],
   "source": [
    "a=(1,2,3,4)  \n",
    "b=(\"Apple\",\"Ball\",\"Cat\")\n",
    "print(type(a))\n",
    "print(type(b))"
   ]
  },
  {
   "cell_type": "code",
   "execution_count": 3,
   "id": "92d8f13f",
   "metadata": {},
   "outputs": [
    {
     "name": "stdout",
     "output_type": "stream",
     "text": [
      "(1, 2, 3, 4, 'Apple', 'Ball', 'Cat')\n"
     ]
    }
   ],
   "source": [
    "a=(1,2,3,4)  \n",
    "b=(\"Apple\",\"Ball\",\"Cat\")\n",
    "c=a+b\n",
    "print(c)"
   ]
  },
  {
   "cell_type": "code",
   "execution_count": 5,
   "id": "f9a0cf56",
   "metadata": {},
   "outputs": [
    {
     "data": {
      "text/plain": [
       "tuple"
      ]
     },
     "execution_count": 5,
     "metadata": {},
     "output_type": "execute_result"
    }
   ],
   "source": [
    "s=(\"Apple\",)\n",
    "type(s)"
   ]
  },
  {
   "cell_type": "code",
   "execution_count": 6,
   "id": "c3e04c77",
   "metadata": {},
   "outputs": [
    {
     "data": {
      "text/plain": [
       "('Apple',)"
      ]
     },
     "execution_count": 6,
     "metadata": {},
     "output_type": "execute_result"
    }
   ],
   "source": [
    "a = tuple()\n",
    "b = (\"Apple\",)\n",
    "c=a+b\n",
    "c\n"
   ]
  },
  {
   "cell_type": "code",
   "execution_count": 7,
   "id": "6bd123f9",
   "metadata": {},
   "outputs": [
    {
     "name": "stdout",
     "output_type": "stream",
     "text": [
      "Enter n= 2\n",
      "Enter x=asas\n",
      "Enter x=aadad\n",
      "('asas', 'aadad')\n"
     ]
    }
   ],
   "source": [
    "t=tuple()\n",
    "n=int(input(\"Enter n= \"))\n",
    "for i in range(n):\n",
    "    x=input(\"Enter x=\")\n",
    "    t=t+(x,)\n",
    "print(t)    \n",
    "    \n",
    "    \n",
    "    "
   ]
  },
  {
   "cell_type": "code",
   "execution_count": 8,
   "id": "f8e6d955",
   "metadata": {},
   "outputs": [
    {
     "data": {
      "text/plain": [
       "(10, 20)"
      ]
     },
     "execution_count": 8,
     "metadata": {},
     "output_type": "execute_result"
    }
   ],
   "source": [
    "# it did not change the arrangement\n",
    "def cal():\n",
    "    a=10\n",
    "    b=20\n",
    "    return a,b\n",
    "cal()"
   ]
  },
  {
   "cell_type": "code",
   "execution_count": null,
   "id": "3ebfe633",
   "metadata": {},
   "outputs": [],
   "source": [
    "# use for\n",
    "# search indexing max min sum\n",
    "# we can not update , delete, sort"
   ]
  },
  {
   "cell_type": "code",
   "execution_count": 9,
   "id": "3157ccb1",
   "metadata": {},
   "outputs": [
    {
     "data": {
      "text/plain": [
       "(1, 3, 'Apple', 'Cat')"
      ]
     },
     "execution_count": 9,
     "metadata": {},
     "output_type": "execute_result"
    }
   ],
   "source": [
    "a = (1, 2, 3, 4, 'Apple', 'Ball', 'Cat')\n",
    "a[0:8:2]"
   ]
  },
  {
   "cell_type": "code",
   "execution_count": 10,
   "id": "b12cabed",
   "metadata": {},
   "outputs": [
    {
     "name": "stdout",
     "output_type": "stream",
     "text": [
      "6\n",
      "1\n"
     ]
    },
    {
     "data": {
      "text/plain": [
       "21"
      ]
     },
     "execution_count": 10,
     "metadata": {},
     "output_type": "execute_result"
    }
   ],
   "source": [
    "a = (1,2,3,4,5,6)\n",
    "print(max(a))\n",
    "print(min(a))\n",
    "sum(a)"
   ]
  },
  {
   "cell_type": "code",
   "execution_count": 13,
   "id": "b5ddcc7a",
   "metadata": {},
   "outputs": [
    {
     "name": "stdout",
     "output_type": "stream",
     "text": [
      "[1, 2, 3, 4, 5, 6]\n",
      "(1, 3, 2, 5, 6, 4)\n"
     ]
    }
   ],
   "source": [
    "a = (1,3,2,5,6,4)\n",
    "print(sorted(a))\n",
    "print(a)"
   ]
  },
  {
   "cell_type": "code",
   "execution_count": 14,
   "id": "655b385a",
   "metadata": {},
   "outputs": [
    {
     "data": {
      "text/plain": [
       "[1, 3, 2, 5, 6, 4]"
      ]
     },
     "execution_count": 14,
     "metadata": {},
     "output_type": "execute_result"
    }
   ],
   "source": [
    "a = (1,3,2,5,6,4)\n",
    "b=list(a)\n",
    "b"
   ]
  },
  {
   "cell_type": "code",
   "execution_count": 15,
   "id": "236bea0a",
   "metadata": {},
   "outputs": [
    {
     "data": {
      "text/plain": [
       "[3, 2, 5, 6, 4]"
      ]
     },
     "execution_count": 15,
     "metadata": {},
     "output_type": "execute_result"
    }
   ],
   "source": [
    "a = (1,3,2,5,6,4)\n",
    "b=list(a)\n",
    "del b[0]\n",
    "b"
   ]
  },
  {
   "cell_type": "code",
   "execution_count": 16,
   "id": "67434c6c",
   "metadata": {},
   "outputs": [
    {
     "data": {
      "text/plain": [
       "(3, 2, 5, 6, 4)"
      ]
     },
     "execution_count": 16,
     "metadata": {},
     "output_type": "execute_result"
    }
   ],
   "source": [
    "a=tuple(b)\n",
    "a"
   ]
  },
  {
   "cell_type": "code",
   "execution_count": 17,
   "id": "11ffa3e3",
   "metadata": {},
   "outputs": [
    {
     "data": {
      "text/plain": [
       "(3, 2, 5, 6, 4)"
      ]
     },
     "execution_count": 17,
     "metadata": {},
     "output_type": "execute_result"
    }
   ],
   "source": [
    "d=[1, 3, 2, 5, 6, 4]\n",
    "e=tuple(d)\n",
    "a"
   ]
  },
  {
   "cell_type": "code",
   "execution_count": null,
   "id": "9672cbd4",
   "metadata": {},
   "outputs": [],
   "source": [
    "# tuple inside tuple\n",
    "# list inside tuple\n",
    "# tuple inside list"
   ]
  },
  {
   "cell_type": "code",
   "execution_count": 1,
   "id": "70d0dc63",
   "metadata": {},
   "outputs": [
    {
     "name": "stdout",
     "output_type": "stream",
     "text": [
      "(1, 2, 3)\n"
     ]
    }
   ],
   "source": [
    "a = ((1,2,3),(4,5,6),(7,8,9))\n",
    "print(a[0])"
   ]
  },
  {
   "cell_type": "code",
   "execution_count": 2,
   "id": "4124ea3c",
   "metadata": {},
   "outputs": [
    {
     "name": "stdout",
     "output_type": "stream",
     "text": [
      "Enter n = 2\n",
      "Enter name = Ram\n",
      "Enter age=34\n",
      "Enter add=kathmandu\n",
      "Enter name = Shyam\n",
      "Enter age=33\n",
      "Enter add=Pokhara\n",
      "(('Ram', '34', 'kathmandu'), ('Shyam', '33', 'Pokhara'))\n"
     ]
    }
   ],
   "source": [
    "t = tuple()\n",
    "n = int(input(\"Enter n = \"))\n",
    "for i in range(n):\n",
    "    name=input(\"Enter name = \")\n",
    "    age =input(\"Enter age=\")\n",
    "    add=input(\"Enter add=\")\n",
    "    x= (name,age,add)\n",
    "    t=t+(x,)\n",
    "print(t)    "
   ]
  },
  {
   "cell_type": "code",
   "execution_count": 3,
   "id": "4446a4d8",
   "metadata": {},
   "outputs": [
    {
     "data": {
      "text/plain": [
       "[('Ram', '34', 'kathmandu'), ('Shyam', '33', 'Pokhara')]"
      ]
     },
     "execution_count": 3,
     "metadata": {},
     "output_type": "execute_result"
    }
   ],
   "source": [
    "a = (('Ram', '34', 'kathmandu'), ('Shyam', '33', 'Pokhara'))\n",
    "list(a)\n"
   ]
  },
  {
   "cell_type": "code",
   "execution_count": 4,
   "id": "848efd06",
   "metadata": {},
   "outputs": [
    {
     "name": "stdout",
     "output_type": "stream",
     "text": [
      "[('Ram', '34', 'kathmandu'), ('Shyam', '33', 'Pokhara')]\n"
     ]
    }
   ],
   "source": [
    "# tuple inside list\n",
    "a= [('Ram', '34', 'kathmandu'), \n",
    "    ('Shyam', '33', 'Pokhara')]\n",
    "print(a)"
   ]
  },
  {
   "cell_type": "code",
   "execution_count": 5,
   "id": "31a6e931",
   "metadata": {},
   "outputs": [
    {
     "data": {
      "text/plain": [
       "[('Rama', '32', 'Patan'), ('Shyam', '33', 'Pokhara')]"
      ]
     },
     "execution_count": 5,
     "metadata": {},
     "output_type": "execute_result"
    }
   ],
   "source": [
    "a[0]=(\"Rama\",\"32\",\"Patan\")\n",
    "a"
   ]
  },
  {
   "cell_type": "code",
   "execution_count": 8,
   "id": "7e6c0ac2",
   "metadata": {},
   "outputs": [
    {
     "data": {
      "text/plain": [
       "[('Ram', '34', 'kathmandu'),\n",
       " ('Shyam', '33', 'Pokhara'),\n",
       " ('Hari', '34', 'Kath')]"
      ]
     },
     "execution_count": 8,
     "metadata": {},
     "output_type": "execute_result"
    }
   ],
   "source": [
    "a = [('Ram', '34', 'kathmandu'), ('Shyam', '33', 'Pokhara')]\n",
    "a.append((\"Hari\",\"34\",\"Kath\"))\n",
    "a"
   ]
  },
  {
   "cell_type": "code",
   "execution_count": 6,
   "id": "36fc4b7c",
   "metadata": {},
   "outputs": [
    {
     "ename": "TypeError",
     "evalue": "'tuple' object does not support item assignment",
     "output_type": "error",
     "traceback": [
      "\u001b[1;31m---------------------------------------------------------------------------\u001b[0m",
      "\u001b[1;31mTypeError\u001b[0m                                 Traceback (most recent call last)",
      "\u001b[1;32m<ipython-input-6-98717ba54d13>\u001b[0m in \u001b[0;36m<module>\u001b[1;34m\u001b[0m\n\u001b[0;32m      1\u001b[0m \u001b[0ma\u001b[0m\u001b[1;33m=\u001b[0m\u001b[1;33m[\u001b[0m\u001b[1;33m(\u001b[0m\u001b[1;34m'Ram'\u001b[0m\u001b[1;33m,\u001b[0m \u001b[1;34m'34'\u001b[0m\u001b[1;33m,\u001b[0m \u001b[1;34m'kathmandu'\u001b[0m\u001b[1;33m)\u001b[0m\u001b[1;33m,\u001b[0m \u001b[1;33m(\u001b[0m\u001b[1;34m'Shyam'\u001b[0m\u001b[1;33m,\u001b[0m \u001b[1;34m'33'\u001b[0m\u001b[1;33m,\u001b[0m \u001b[1;34m'Pokhara'\u001b[0m\u001b[1;33m)\u001b[0m\u001b[1;33m]\u001b[0m\u001b[1;33m\u001b[0m\u001b[1;33m\u001b[0m\u001b[0m\n\u001b[1;32m----> 2\u001b[1;33m \u001b[0ma\u001b[0m\u001b[1;33m[\u001b[0m\u001b[1;36m0\u001b[0m\u001b[1;33m]\u001b[0m\u001b[1;33m[\u001b[0m\u001b[1;36m0\u001b[0m\u001b[1;33m]\u001b[0m\u001b[1;33m=\u001b[0m\u001b[1;34m\"rama\"\u001b[0m\u001b[1;33m\u001b[0m\u001b[1;33m\u001b[0m\u001b[0m\n\u001b[0m\u001b[0;32m      3\u001b[0m \u001b[0ma\u001b[0m\u001b[1;33m\u001b[0m\u001b[1;33m\u001b[0m\u001b[0m\n",
      "\u001b[1;31mTypeError\u001b[0m: 'tuple' object does not support item assignment"
     ]
    }
   ],
   "source": [
    "a=[('Ram', '34', 'kathmandu'), ('Shyam', '33', 'Pokhara')]\n",
    "a[0][0]=\"rama\"\n",
    "a"
   ]
  },
  {
   "cell_type": "code",
   "execution_count": 9,
   "id": "9d7cb99b",
   "metadata": {},
   "outputs": [
    {
     "data": {
      "text/plain": [
       "(['Ram', '34', 'kathmandu', ['Hari', '45', 'Palpa']],\n",
       " ['Shyam', '33', 'Pokhara'])"
      ]
     },
     "execution_count": 9,
     "metadata": {},
     "output_type": "execute_result"
    }
   ],
   "source": [
    "# list inside tuple\n",
    "a=(['Ram', '34', 'kathmandu'], ['Shyam', '33', 'Pokhara'])\n",
    "a[0].append([\"Hari\",\"45\",\"Palpa\"])\n",
    "a\n"
   ]
  },
  {
   "cell_type": "code",
   "execution_count": 10,
   "id": "2ff9809b",
   "metadata": {},
   "outputs": [
    {
     "ename": "TypeError",
     "evalue": "'tuple' object does not support item assignment",
     "output_type": "error",
     "traceback": [
      "\u001b[1;31m---------------------------------------------------------------------------\u001b[0m",
      "\u001b[1;31mTypeError\u001b[0m                                 Traceback (most recent call last)",
      "\u001b[1;32m<ipython-input-10-bdaa776fc6a3>\u001b[0m in \u001b[0;36m<module>\u001b[1;34m\u001b[0m\n\u001b[0;32m      1\u001b[0m \u001b[1;31m# tuple inside list\u001b[0m\u001b[1;33m\u001b[0m\u001b[1;33m\u001b[0m\u001b[1;33m\u001b[0m\u001b[0m\n\u001b[0;32m      2\u001b[0m \u001b[0ma\u001b[0m\u001b[1;33m=\u001b[0m\u001b[1;33m(\u001b[0m\u001b[1;33m[\u001b[0m\u001b[1;34m'Ram'\u001b[0m\u001b[1;33m,\u001b[0m \u001b[1;34m'34'\u001b[0m\u001b[1;33m,\u001b[0m \u001b[1;34m'kathmandu'\u001b[0m\u001b[1;33m]\u001b[0m\u001b[1;33m,\u001b[0m \u001b[1;33m[\u001b[0m\u001b[1;34m'Shyam'\u001b[0m\u001b[1;33m,\u001b[0m \u001b[1;34m'33'\u001b[0m\u001b[1;33m,\u001b[0m \u001b[1;34m'Pokhara'\u001b[0m\u001b[1;33m]\u001b[0m\u001b[1;33m)\u001b[0m\u001b[1;33m\u001b[0m\u001b[1;33m\u001b[0m\u001b[0m\n\u001b[1;32m----> 3\u001b[1;33m \u001b[0ma\u001b[0m\u001b[1;33m[\u001b[0m\u001b[1;36m0\u001b[0m\u001b[1;33m]\u001b[0m\u001b[1;33m=\u001b[0m\u001b[1;33m[\u001b[0m\u001b[1;34m\"Hari\"\u001b[0m\u001b[1;33m,\u001b[0m\u001b[1;34m\"45\"\u001b[0m\u001b[1;33m,\u001b[0m\u001b[1;34m\"Palpa\"\u001b[0m\u001b[1;33m]\u001b[0m\u001b[1;33m\u001b[0m\u001b[1;33m\u001b[0m\u001b[0m\n\u001b[0m\u001b[0;32m      4\u001b[0m \u001b[0ma\u001b[0m\u001b[1;33m\u001b[0m\u001b[1;33m\u001b[0m\u001b[0m\n",
      "\u001b[1;31mTypeError\u001b[0m: 'tuple' object does not support item assignment"
     ]
    }
   ],
   "source": [
    "# list inside tuple\n",
    "a=(['Ram', '34', 'kathmandu'], ['Shyam', '33', 'Pokhara'])\n",
    "a[0]=[\"Hari\",\"45\",\"Palpa\"]\n",
    "a"
   ]
  },
  {
   "cell_type": "code",
   "execution_count": 12,
   "id": "c34c71dc",
   "metadata": {},
   "outputs": [
    {
     "name": "stdout",
     "output_type": "stream",
     "text": [
      "[['Ram', '34', 'kathmandu'], ['Shyam', '33', 'Pokhara']]\n"
     ]
    }
   ],
   "source": [
    "# tuple inside tuple to list inside list\n",
    "a=(('Ram', '34', 'kathmandu'), ('Shyam', '33', 'Pokhara'))\n",
    "l = []\n",
    "for i in range(len(a)):\n",
    "    x= list(a[i])\n",
    "    l.append(x)\n",
    "print(l)    "
   ]
  },
  {
   "cell_type": "code",
   "execution_count": 13,
   "id": "f22610eb",
   "metadata": {},
   "outputs": [
    {
     "name": "stdout",
     "output_type": "stream",
     "text": [
      "(('Ram', '34', 'kathmandu'), ('Shyam', '33', 'Pokhara'))\n"
     ]
    }
   ],
   "source": [
    "# list inside list to tuple inside tuple\n",
    "a=[['Ram', '34', 'kathmandu'], ['Shyam', '33', 'Pokhara']]\n",
    "l = ()\n",
    "for i in range(len(a)):\n",
    "    x= tuple(a[i])\n",
    "    l=l+(x,)\n",
    "print(l)"
   ]
  },
  {
   "cell_type": "code",
   "execution_count": 7,
   "id": "518a1bce",
   "metadata": {},
   "outputs": [
    {
     "name": "stdout",
     "output_type": "stream",
     "text": [
      "Enter the row of the matrix= 2\n",
      "Enter the colume of matrix= 2\n",
      "Enter data= 1\n",
      "Enter data= 2\n",
      "Enter data= 3\n",
      "Enter data= 4\n",
      "[[1, 2], [3, 4]]\n"
     ]
    }
   ],
   "source": [
    "# WAP to make a matrix using list\n",
    "m=[]\n",
    "i=int(input(\"Enter the row of the matrix= \"))\n",
    "j=int(input(\"Enter the colume of matrix= \"))\n",
    "for k in range(i):\n",
    "    x=[]\n",
    "    for l in range(j):\n",
    "        data = int(input(\"Enter data= \"))\n",
    "        x.append(data)\n",
    "    m.append(x)\n",
    "    \n",
    "print(m)        \n"
   ]
  },
  {
   "cell_type": "markdown",
   "id": "5b9eeee7",
   "metadata": {},
   "source": []
  },
  {
   "cell_type": "code",
   "execution_count": 9,
   "id": "cb255809",
   "metadata": {},
   "outputs": [
    {
     "name": "stdout",
     "output_type": "stream",
     "text": [
      "Enter the row of the matrix= 2\n",
      "Enter the colume of matrix= 2\n",
      "Enter data= 1\n",
      "Enter data= 2\n",
      "Enter data= 3\n",
      "Enter data= 4\n",
      "((1, 2), (3, 4))\n"
     ]
    }
   ],
   "source": [
    "# Wap to make a matrix using tuple\n",
    "m=()\n",
    "i=int(input(\"Enter the row of the matrix= \"))\n",
    "j=int(input(\"Enter the colume of matrix= \"))\n",
    "for k in range(i):\n",
    "    x=()\n",
    "    for l in range(j):\n",
    "        data = int(input(\"Enter data= \"))\n",
    "        x=x+(data,)\n",
    "    m=m+(x,)\n",
    "    \n",
    "print(m)   "
   ]
  },
  {
   "cell_type": "code",
   "execution_count": null,
   "id": "dbefc5be",
   "metadata": {},
   "outputs": [],
   "source": [
    "# \\n is only using in string in python\n"
   ]
  }
 ],
 "metadata": {
  "kernelspec": {
   "display_name": "Python 3",
   "language": "python",
   "name": "python3"
  },
  "language_info": {
   "codemirror_mode": {
    "name": "ipython",
    "version": 3
   },
   "file_extension": ".py",
   "mimetype": "text/x-python",
   "name": "python",
   "nbconvert_exporter": "python",
   "pygments_lexer": "ipython3",
   "version": "3.8.8"
  }
 },
 "nbformat": 4,
 "nbformat_minor": 5
}
