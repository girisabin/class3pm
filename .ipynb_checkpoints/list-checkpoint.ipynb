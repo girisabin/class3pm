{
 "cells": [
  {
   "cell_type": "code",
   "execution_count": 1,
   "id": "ef36f107",
   "metadata": {},
   "outputs": [],
   "source": [
    "#python collection\n",
    "#list\n",
    "#tuple\n",
    "#set\n",
    "#dict"
   ]
  },
  {
   "cell_type": "code",
   "execution_count": 2,
   "id": "a55ebfcb",
   "metadata": {},
   "outputs": [],
   "source": [
    "#list\n",
    "#-Contain Multiple data\n",
    "#-Duplicate value\n",
    "#-Indexing\n",
    "#-Ordered\n",
    "#-Mutable -> liable to change"
   ]
  },
  {
   "cell_type": "code",
   "execution_count": 3,
   "id": "cd2289af",
   "metadata": {},
   "outputs": [
    {
     "name": "stdout",
     "output_type": "stream",
     "text": [
      "<class 'list'>\n",
      "['Apple', 'Ball', 'Cat', 'Dog']\n"
     ]
    }
   ],
   "source": [
    "a=[1,2,3,4,5,6,7,8,9]\n",
    "b=[\"Apple\",\"Ball\",\"Cat\",\"Dog\"]\n",
    "print(type(a))\n",
    "print(b)"
   ]
  },
  {
   "cell_type": "code",
   "execution_count": 4,
   "id": "cad1ef1a",
   "metadata": {},
   "outputs": [
    {
     "name": "stdout",
     "output_type": "stream",
     "text": [
      "['Apple', 'Ball', 'Cat', 'Dog', 'Apple']\n",
      "['Apple', 'Ball', 'Cat', 'Dog', 'Apple', 'Apple', 'Ball', 'Cat', 'Dog', 'Apple']\n"
     ]
    }
   ],
   "source": [
    "b=[\"Apple\",\"Ball\",\"Cat\",\"Dog\",\"Apple\"]\n",
    "print(b)\n",
    "print(b*2)"
   ]
  },
  {
   "cell_type": "code",
   "execution_count": 8,
   "id": "f6aae95d",
   "metadata": {},
   "outputs": [
    {
     "data": {
      "text/plain": [
       "'Ball'"
      ]
     },
     "execution_count": 8,
     "metadata": {},
     "output_type": "execute_result"
    }
   ],
   "source": [
    "b=[\"Apple\",\"Ball\",\"Cat\",\"Dog\"]\n",
    "b[1]\n"
   ]
  },
  {
   "cell_type": "code",
   "execution_count": 9,
   "id": "c31bd537",
   "metadata": {},
   "outputs": [
    {
     "data": {
      "text/plain": [
       "['Apple', 'Ball', 'Cat']"
      ]
     },
     "execution_count": 9,
     "metadata": {},
     "output_type": "execute_result"
    }
   ],
   "source": [
    "b=[\"Apple\",\"Ball\",\"Cat\",\"Dog\"]\n",
    "b[0:3]"
   ]
  },
  {
   "cell_type": "code",
   "execution_count": 10,
   "id": "083690e6",
   "metadata": {},
   "outputs": [
    {
     "data": {
      "text/plain": [
       "['Apple', 'Cat']"
      ]
     },
     "execution_count": 10,
     "metadata": {},
     "output_type": "execute_result"
    }
   ],
   "source": [
    "b=[\"Apple\",\"Ball\",\"Cat\",\"Dog\"]\n",
    "b[0:4:2]"
   ]
  },
  {
   "cell_type": "code",
   "execution_count": 1,
   "id": "7e9b3539",
   "metadata": {},
   "outputs": [
    {
     "data": {
      "text/plain": [
       "['Apple', 'Cat']"
      ]
     },
     "execution_count": 1,
     "metadata": {},
     "output_type": "execute_result"
    }
   ],
   "source": [
    "b=[\"Apple\",\"Ball\",\"Cat\",\"Dog\"]\n",
    "b[0::2]"
   ]
  },
  {
   "cell_type": "code",
   "execution_count": 11,
   "id": "7444768b",
   "metadata": {},
   "outputs": [
    {
     "data": {
      "text/plain": [
       "['Apple', 'Cat']"
      ]
     },
     "execution_count": 11,
     "metadata": {},
     "output_type": "execute_result"
    }
   ],
   "source": [
    "b=[\"Apple\",\"Ball\",\"Cat\",\"Dog\"]\n",
    "b[0:6:2]"
   ]
  },
  {
   "cell_type": "code",
   "execution_count": 12,
   "id": "da19be61",
   "metadata": {},
   "outputs": [
    {
     "name": "stdout",
     "output_type": "stream",
     "text": [
      "['Apple', 'Ball', 'Cat']\n"
     ]
    }
   ],
   "source": [
    "a=[\"Apple\",\"Ball\"]\n",
    "b=[\"Cat\"]\n",
    "print(a+b)"
   ]
  },
  {
   "cell_type": "code",
   "execution_count": 14,
   "id": "89f1820d",
   "metadata": {},
   "outputs": [
    {
     "name": "stdout",
     "output_type": "stream",
     "text": [
      "['Apple', 'Ball', 'Apple', 'Ball']\n"
     ]
    }
   ],
   "source": [
    "a=[\"Apple\",\"Ball\"]\n",
    "b=[\"Cat\"]\n",
    "print(a*2)"
   ]
  },
  {
   "cell_type": "code",
   "execution_count": 17,
   "id": "cd9ea8a9",
   "metadata": {},
   "outputs": [
    {
     "name": "stdout",
     "output_type": "stream",
     "text": [
      "['Ant', 'Ball']\n"
     ]
    }
   ],
   "source": [
    "#why list is mutable??\n",
    "a=[\"Apple\",\"Ball\"]\n",
    "a[0]=\"Ant\"\n",
    "print(a)"
   ]
  },
  {
   "cell_type": "code",
   "execution_count": 19,
   "id": "43575836",
   "metadata": {},
   "outputs": [
    {
     "name": "stdout",
     "output_type": "stream",
     "text": [
      "hello World\n",
      "Hello World\n"
     ]
    }
   ],
   "source": [
    "# in string\n",
    "a=\"Hello World\"\n",
    "b = a.replace(\"Hello\",\"hello\")\n",
    "print(b)\n",
    "print(a)"
   ]
  },
  {
   "cell_type": "code",
   "execution_count": 1,
   "id": "3e64dba2",
   "metadata": {},
   "outputs": [
    {
     "name": "stdout",
     "output_type": "stream",
     "text": [
      "['Apple', 'Ball']\n"
     ]
    }
   ],
   "source": [
    "x=[]\n",
    "a=\"Apple\"\n",
    "b=\"Ball\"\n",
    "c=x+[a]\n",
    "d=c+[b]\n",
    "print(d)\n"
   ]
  },
  {
   "cell_type": "code",
   "execution_count": 4,
   "id": "e81ccf76",
   "metadata": {},
   "outputs": [
    {
     "name": "stdout",
     "output_type": "stream",
     "text": [
      "Enter the value of n=2\n",
      "Enter x= apple\n",
      "Enter x= ball\n",
      "['apple', 'ball']\n"
     ]
    }
   ],
   "source": [
    "a=[]  # or a = list()\n",
    "n = int(input(\"Enter the value of n=\"))\n",
    "for i in range(n):\n",
    "    x=input(\"Enter x= \")\n",
    "    a=a+[x]\n",
    "    \n",
    "print(a)    \n",
    "    \n",
    "    \n",
    "    "
   ]
  },
  {
   "cell_type": "code",
   "execution_count": 9,
   "id": "399aaa64",
   "metadata": {},
   "outputs": [
    {
     "name": "stdout",
     "output_type": "stream",
     "text": [
      "Enter the value of n=5\n",
      "Enter x= 1\n",
      "Enter x= 2\n",
      "Enter x= 3\n",
      "Enter x= 4\n",
      "Enter x= 5\n",
      "[1, 2, 3, 4, 5]\n",
      "Sum=  15\n",
      "Max=  5\n",
      "Min=  1\n",
      "Avg=  3.0\n"
     ]
    }
   ],
   "source": [
    "a=[]  # or a = list()\n",
    "n = int(input(\"Enter the value of n=\"))\n",
    "for i in range(n):\n",
    "    x=int(input(\"Enter x= \"))\n",
    "    a=a+[x]\n",
    "    \n",
    "print(a)  \n",
    "print(\"Sum= \",sum(a))\n",
    "print(\"Max= \",max(a))\n",
    "print(\"Min= \",min(a))\n",
    "print(\"Avg= \",sum(a)/n)"
   ]
  },
  {
   "cell_type": "code",
   "execution_count": 10,
   "id": "8c863bba",
   "metadata": {},
   "outputs": [
    {
     "name": "stdout",
     "output_type": "stream",
     "text": [
      "[1, 2, 3, 4, 5]\n"
     ]
    }
   ],
   "source": [
    "a=[2,5,4,3,1]\n",
    "a.sort()         #Use for accessing order\n",
    "print(a)"
   ]
  },
  {
   "cell_type": "code",
   "execution_count": 11,
   "id": "adbd48b7",
   "metadata": {},
   "outputs": [
    {
     "name": "stdout",
     "output_type": "stream",
     "text": [
      "['Apple', 'Ball', 'Xray', 'Zoo']\n"
     ]
    }
   ],
   "source": [
    "a=[\"Ball\",\"Apple\",\"Zoo\",\"Xray\"]\n",
    "a.sort()\n",
    "print(a)"
   ]
  },
  {
   "cell_type": "code",
   "execution_count": 12,
   "id": "d735f9d6",
   "metadata": {},
   "outputs": [
    {
     "name": "stdout",
     "output_type": "stream",
     "text": [
      "Apple\n",
      "Ball\n",
      "Xray\n",
      "Zoo\n"
     ]
    }
   ],
   "source": [
    "a= ['Apple', 'Ball', 'Xray', 'Zoo']\n",
    "for i in a:\n",
    "    print(i)"
   ]
  },
  {
   "cell_type": "code",
   "execution_count": 17,
   "id": "6199d16c",
   "metadata": {},
   "outputs": [
    {
     "name": "stdout",
     "output_type": "stream",
     "text": [
      "Yes\n"
     ]
    }
   ],
   "source": [
    "a= ['Apple', 'Ball', 'Xray', 'Zoo']\n",
    "b==\"Apple\"\n",
    "if b in a:\n",
    "    print(\"Yes\")"
   ]
  },
  {
   "cell_type": "code",
   "execution_count": 26,
   "id": "0cd1d48e",
   "metadata": {},
   "outputs": [
    {
     "name": "stdout",
     "output_type": "stream",
     "text": [
      "Apple\n",
      "apple\n",
      "2\n"
     ]
    }
   ],
   "source": [
    "c=0\n",
    "a= ['Apple', 'Ball', 'Xray', 'Zoo','apple']\n",
    "\n",
    "\n",
    "b=\"Apple\"\n",
    "\n",
    "for i in a:\n",
    "    if i.lower() == b.lower():\n",
    "        print(i)\n",
    "        c=c+1\n",
    "  \n",
    "print(c)"
   ]
  },
  {
   "cell_type": "code",
   "execution_count": 28,
   "id": "810fc182",
   "metadata": {},
   "outputs": [
    {
     "name": "stdout",
     "output_type": "stream",
     "text": [
      "Enter b= apple\n",
      "Apple\n",
      "apple\n",
      "2\n"
     ]
    }
   ],
   "source": [
    "c=0\n",
    "a= ['Apple', 'Ball', 'Xray', 'Zoo','apple']\n",
    "\n",
    "\n",
    "b=input(\"Enter b= \")\n",
    "\n",
    "for i in a:\n",
    "    if i.lower() == b.lower():\n",
    "        print(i)\n",
    "        c=c+1\n",
    "  \n",
    "print(c)"
   ]
  },
  {
   "cell_type": "code",
   "execution_count": 29,
   "id": "7031d2d3",
   "metadata": {},
   "outputs": [],
   "source": [
    "# different functions used in list\n",
    "#append() insert()  extend()"
   ]
  },
  {
   "cell_type": "code",
   "execution_count": 30,
   "id": "fbc7381a",
   "metadata": {},
   "outputs": [
    {
     "name": "stdout",
     "output_type": "stream",
     "text": [
      "['ball']\n"
     ]
    }
   ],
   "source": [
    "a=[]\n",
    "b=\"ball\"\n",
    "a.append(b)\n",
    "print(a)"
   ]
  },
  {
   "cell_type": "code",
   "execution_count": 31,
   "id": "a1d8c0fc",
   "metadata": {},
   "outputs": [
    {
     "name": "stdout",
     "output_type": "stream",
     "text": [
      "['Ball', 'Zoo', 'Cat']\n"
     ]
    }
   ],
   "source": [
    "a=[]  # we cannot use multiple value inside append function\n",
    "\n",
    "a.append(\"Ball\")\n",
    "a.append(\"Zoo\")\n",
    "a.append(\"Cat\")\n",
    "print(a)"
   ]
  },
  {
   "cell_type": "code",
   "execution_count": 32,
   "id": "d147bffe",
   "metadata": {},
   "outputs": [
    {
     "name": "stdout",
     "output_type": "stream",
     "text": [
      "Enter the value of n=1\n",
      "Enter x= 1\n",
      "[1]\n",
      "Sum=  1\n",
      "Max=  1\n",
      "Min=  1\n",
      "Avg=  1.0\n"
     ]
    }
   ],
   "source": [
    "a=[]  # or a = list()\n",
    "n = int(input(\"Enter the value of n=\"))\n",
    "for i in range(n):\n",
    "    x=int(input(\"Enter x= \"))\n",
    "    a.append(x)\n",
    "    \n",
    "print(a)  \n",
    "print(\"Sum= \",sum(a))\n",
    "print(\"Max= \",max(a))\n",
    "print(\"Min= \",min(a))\n",
    "print(\"Avg= \",sum(a)/n)"
   ]
  },
  {
   "cell_type": "code",
   "execution_count": 33,
   "id": "a1abd6d8",
   "metadata": {},
   "outputs": [
    {
     "name": "stdout",
     "output_type": "stream",
     "text": [
      "['Apple', 'Ball', 'Cat', 'Dog']\n"
     ]
    }
   ],
   "source": [
    "a=[\"Apple\",\"Ball\",\"Cat\"]\n",
    "a.append(\"Dog\")\n",
    "print(a)"
   ]
  },
  {
   "cell_type": "code",
   "execution_count": 34,
   "id": "f610a151",
   "metadata": {},
   "outputs": [
    {
     "name": "stdout",
     "output_type": "stream",
     "text": [
      "['Apple', 'Fish', 'Ball', 'Cat', 'Dog']\n"
     ]
    }
   ],
   "source": [
    "# insert()\n",
    "a = ['Apple', 'Ball', 'Cat', 'Dog']\n",
    "a.insert(1,\"Fish\")\n",
    "print(a)"
   ]
  },
  {
   "cell_type": "code",
   "execution_count": 36,
   "id": "365efb28",
   "metadata": {},
   "outputs": [
    {
     "name": "stdout",
     "output_type": "stream",
     "text": [
      "['Apple', 'Ball', 'Fish', 'Cat', 'Dog']\n"
     ]
    }
   ],
   "source": [
    "# insert()\n",
    "a = ['Apple', 'Ball', 'Cat', 'Dog']\n",
    "a.insert(2,\"Fish\")\n",
    "print(a)"
   ]
  },
  {
   "cell_type": "code",
   "execution_count": 4,
   "id": "3bed5ac7",
   "metadata": {},
   "outputs": [
    {
     "name": "stdout",
     "output_type": "stream",
     "text": [
      "['Apple', 'Ball', 'Cat', 'Dog', 'Elephant', 'Fan']\n"
     ]
    }
   ],
   "source": [
    "# extend()\n",
    "a = ['Apple', 'Ball', 'Cat', 'Dog']\n",
    "b= [\"Elephant\",\"Fan\"]\n",
    "a.extend(b)\n",
    "print(a)"
   ]
  },
  {
   "cell_type": "code",
   "execution_count": 6,
   "id": "2b996404",
   "metadata": {},
   "outputs": [
    {
     "name": "stdout",
     "output_type": "stream",
     "text": [
      "['Ball', 'Cat', 'Dog']\n"
     ]
    }
   ],
   "source": [
    "# delete -> del remove() pop()\n",
    "#del use for delete by index\n",
    "\n",
    "a = ['Apple', 'Ball', 'Cat', 'Dog']\n",
    "del a[0]\n",
    "print(a)"
   ]
  },
  {
   "cell_type": "code",
   "execution_count": 7,
   "id": "1ed03b23",
   "metadata": {},
   "outputs": [
    {
     "name": "stdout",
     "output_type": "stream",
     "text": [
      "['Dog']\n"
     ]
    }
   ],
   "source": [
    "a = ['Apple', 'Ball', 'Cat', 'Dog']\n",
    "del a[0:3]\n",
    "print(a)"
   ]
  },
  {
   "cell_type": "code",
   "execution_count": 8,
   "id": "c78e52b0",
   "metadata": {},
   "outputs": [
    {
     "name": "stdout",
     "output_type": "stream",
     "text": [
      "['Ball', 'Cat', 'Dog']\n"
     ]
    }
   ],
   "source": [
    "# remove()  use for delete value\n",
    "\n",
    "a = ['Apple', 'Ball', 'Cat', 'Dog']\n",
    "a.remove(\"Apple\")\n",
    "print(a)"
   ]
  },
  {
   "cell_type": "code",
   "execution_count": 12,
   "id": "33d96368",
   "metadata": {},
   "outputs": [
    {
     "name": "stdout",
     "output_type": "stream",
     "text": [
      "['Ball', 'Cat', 'Dog', 'Apple']\n",
      "['Ball', 'Cat', 'Dog']\n"
     ]
    }
   ],
   "source": [
    "# remove()  use for delete value\n",
    "# c=a.count(\"Apple\")\n",
    "\n",
    "a = ['Apple', 'Ball', 'Cat', 'Dog',\"Apple\"]\n",
    "b=\"Apple\"\n",
    "c=a.count(b)\n",
    "for i in range(c):\n",
    "    if b in a:\n",
    "        a.remove(b)\n",
    "    print(a)"
   ]
  },
  {
   "cell_type": "code",
   "execution_count": 17,
   "id": "94b8b82f",
   "metadata": {},
   "outputs": [
    {
     "name": "stdout",
     "output_type": "stream",
     "text": [
      "['Ball', 'Cat', 'Dog']\n"
     ]
    }
   ],
   "source": [
    "# remove()\n",
    "x=[]\n",
    "a = ['Apple', 'Ball', 'Cat', 'Dog',\"Apple\"]\n",
    "b=\"Apple\"\n",
    "l=len(a)\n",
    "for i in range(l):\n",
    "    if b!=a[i]:\n",
    "        x.append(a[i])\n",
    "print(x)        \n",
    "        \n",
    "    "
   ]
  },
  {
   "cell_type": "code",
   "execution_count": 18,
   "id": "9d264c33",
   "metadata": {},
   "outputs": [
    {
     "name": "stdout",
     "output_type": "stream",
     "text": [
      "['Ball', 'Cat', 'Dog', 'Apple']\n"
     ]
    }
   ],
   "source": [
    "# pop()\n",
    "a = ['Apple', 'Ball', 'Cat', 'Dog',\"Apple\"]\n",
    "a.pop(0)\n",
    "print(a)\n"
   ]
  },
  {
   "cell_type": "code",
   "execution_count": 20,
   "id": "291f2f7a",
   "metadata": {},
   "outputs": [
    {
     "name": "stdout",
     "output_type": "stream",
     "text": [
      "['Ball', 'Cat', 'Dog', 'Apple']\n",
      "Apple\n"
     ]
    }
   ],
   "source": [
    "a = ['Apple', 'Ball', 'Cat', 'Dog',\"Apple\"]\n",
    "b=a.pop(0)\n",
    "print(a)\n",
    "print(b)"
   ]
  },
  {
   "cell_type": "code",
   "execution_count": 23,
   "id": "79f81e80",
   "metadata": {},
   "outputs": [
    {
     "data": {
      "text/plain": [
       "2"
      ]
     },
     "execution_count": 23,
     "metadata": {},
     "output_type": "execute_result"
    }
   ],
   "source": [
    "a = ['Apple', 'Ball', 'Cat', 'Dog',\"Apple\"]\n",
    "a.index(\"Cat\")"
   ]
  },
  {
   "cell_type": "code",
   "execution_count": 24,
   "id": "b8317925",
   "metadata": {},
   "outputs": [
    {
     "data": {
      "text/plain": [
       "0"
      ]
     },
     "execution_count": 24,
     "metadata": {},
     "output_type": "execute_result"
    }
   ],
   "source": [
    "a = ['Apple', 'Ball', 'Cat', 'Dog',\"Apple\"]\n",
    "a.index(\"Apple\")"
   ]
  },
  {
   "cell_type": "code",
   "execution_count": 25,
   "id": "03688abb",
   "metadata": {},
   "outputs": [
    {
     "name": "stdout",
     "output_type": "stream",
     "text": [
      "0\n",
      "5\n"
     ]
    }
   ],
   "source": [
    "a = ['Apple',\"fish\", 'Ball', 'Cat', 'Dog',\"Apple\"]\n",
    "for i in range(len(a)):\n",
    "    if \"Apple\"==a[i]:\n",
    "        print(i)\n",
    "    "
   ]
  },
  {
   "cell_type": "code",
   "execution_count": 1,
   "id": "a44c1b3a",
   "metadata": {},
   "outputs": [
    {
     "name": "stdout",
     "output_type": "stream",
     "text": [
      "Enter n= 2\n",
      "Enter product name=coke\n",
      "Enter unit price= 150\n",
      "Enter quantity=2\n",
      "Enter product name=fanta\n",
      "Enter unit price= 150\n",
      "Enter quantity=2\n",
      "The billing is = \n",
      " coke 150 2 300\n",
      "fanta 150 2 300\n",
      "\n",
      "The total price is= 600\n"
     ]
    }
   ],
   "source": [
    "info=\"\"\n",
    "add=0\n",
    "n= int(input(\"Enter n= \"))\n",
    "for i in range(n):\n",
    "    name=input(\"Enter product name=\")\n",
    "    price=int(input(\"Enter unit price= \"))\n",
    "    quantity= int(input(\"Enter quantity=\"))\n",
    "    total=price*quantity\n",
    "    s=f\"{name} {price} {quantity} {total}\\n\"\n",
    "    info=info+s\n",
    "    add=add+total\n",
    "\n",
    "print(\"The billing is = \\n\",info)\n",
    "print(\"The total price is=\",add)\n",
    "    "
   ]
  },
  {
   "cell_type": "code",
   "execution_count": 2,
   "id": "aec47ca2",
   "metadata": {},
   "outputs": [
    {
     "data": {
      "text/plain": [
       "['coke 150 2 300', 'fanta 150 2 300', '']"
      ]
     },
     "execution_count": 2,
     "metadata": {},
     "output_type": "execute_result"
    }
   ],
   "source": [
    "info.split('\\n')"
   ]
  },
  {
   "cell_type": "code",
   "execution_count": 4,
   "id": "aa4f7af3",
   "metadata": {},
   "outputs": [
    {
     "name": "stdout",
     "output_type": "stream",
     "text": [
      "['coke 150 2 300', 'fanta 150 2 300']\n"
     ]
    }
   ],
   "source": [
    "info='coke 150 2 300.fanta 150 2 300'\n",
    "x=info.split('.')\n",
    "print(x)"
   ]
  },
  {
   "cell_type": "code",
   "execution_count": 5,
   "id": "20ddde1a",
   "metadata": {},
   "outputs": [
    {
     "data": {
      "text/plain": [
       "'fanta 150 2 300'"
      ]
     },
     "execution_count": 5,
     "metadata": {},
     "output_type": "execute_result"
    }
   ],
   "source": [
    "x[1]"
   ]
  },
  {
   "cell_type": "code",
   "execution_count": 7,
   "id": "04a48254",
   "metadata": {},
   "outputs": [
    {
     "name": "stdout",
     "output_type": "stream",
     "text": [
      "[[1, 2, 3], [4, 5, 6], [7, 8, 9]]\n",
      "3\n"
     ]
    }
   ],
   "source": [
    "#list inside list\n",
    "a=[[1,2,3],[4,5,6],[7,8,9]]\n",
    "print(a)\n",
    "print(len(a))"
   ]
  },
  {
   "cell_type": "code",
   "execution_count": 13,
   "id": "257ae66d",
   "metadata": {},
   "outputs": [
    {
     "data": {
      "text/plain": [
       "['coke', 150, 2, 300]"
      ]
     },
     "execution_count": 13,
     "metadata": {},
     "output_type": "execute_result"
    }
   ],
   "source": [
    "a= [['coke',150,2 ,300], ['fanta', 150 ,2 ,300]]\n",
    "a[0]"
   ]
  },
  {
   "cell_type": "code",
   "execution_count": 14,
   "id": "ae9bad84",
   "metadata": {},
   "outputs": [
    {
     "data": {
      "text/plain": [
       "['fanta', 150, 2, 300]"
      ]
     },
     "execution_count": 14,
     "metadata": {},
     "output_type": "execute_result"
    }
   ],
   "source": [
    "a[1]"
   ]
  },
  {
   "cell_type": "code",
   "execution_count": 15,
   "id": "96f810ce",
   "metadata": {},
   "outputs": [
    {
     "name": "stdout",
     "output_type": "stream",
     "text": [
      "<class 'list'>\n"
     ]
    }
   ],
   "source": [
    "# list inside list\n",
    "a=[[1,2,3],\n",
    "   [4,5,6],\n",
    "   [7,8,9]]\n",
    "print(type(a))"
   ]
  },
  {
   "cell_type": "code",
   "execution_count": 16,
   "id": "f0f06d5d",
   "metadata": {},
   "outputs": [
    {
     "data": {
      "text/plain": [
       "[1, 2, 3]"
      ]
     },
     "execution_count": 16,
     "metadata": {},
     "output_type": "execute_result"
    }
   ],
   "source": [
    "a[0]"
   ]
  },
  {
   "cell_type": "code",
   "execution_count": 17,
   "id": "f74f8f0c",
   "metadata": {},
   "outputs": [
    {
     "data": {
      "text/plain": [
       "1"
      ]
     },
     "execution_count": 17,
     "metadata": {},
     "output_type": "execute_result"
    }
   ],
   "source": [
    "a[0][0]"
   ]
  },
  {
   "cell_type": "code",
   "execution_count": 19,
   "id": "a998af02",
   "metadata": {},
   "outputs": [
    {
     "data": {
      "text/plain": [
       "6"
      ]
     },
     "execution_count": 19,
     "metadata": {},
     "output_type": "execute_result"
    }
   ],
   "source": [
    "a[1][2]"
   ]
  },
  {
   "cell_type": "code",
   "execution_count": 22,
   "id": "b159324d",
   "metadata": {},
   "outputs": [
    {
     "data": {
      "text/plain": [
       "[['Sprit', 100, 2, 200], ['fanta', 150, 2, 300]]"
      ]
     },
     "execution_count": 22,
     "metadata": {},
     "output_type": "execute_result"
    }
   ],
   "source": [
    "a= [['coke',150,2 ,300], ['fanta', 150 ,2 ,300]]\n",
    "a[0]=[\"Sprit\",100,2,200]\n",
    "a"
   ]
  },
  {
   "cell_type": "code",
   "execution_count": 23,
   "id": "0239ad96",
   "metadata": {},
   "outputs": [
    {
     "data": {
      "text/plain": [
       "[['Sprit', 150, 2, 300], ['fanta', 150, 2, 300]]"
      ]
     },
     "execution_count": 23,
     "metadata": {},
     "output_type": "execute_result"
    }
   ],
   "source": [
    "a= [['coke',150,2 ,300], ['fanta', 150 ,2 ,300]]\n",
    "a[0][0]=\"Sprit\"\n",
    "a"
   ]
  },
  {
   "cell_type": "code",
   "execution_count": 25,
   "id": "46eb2692",
   "metadata": {},
   "outputs": [
    {
     "data": {
      "text/plain": [
       "[['coke', 150, 2, 300], ['fanta', 'Sprit', 2, 300]]"
      ]
     },
     "execution_count": 25,
     "metadata": {},
     "output_type": "execute_result"
    }
   ],
   "source": [
    "a= [['coke',150,2 ,300], ['fanta', 150 ,2 ,300]]\n",
    "a[1][1]=\"Sprit\"\n",
    "a"
   ]
  },
  {
   "cell_type": "code",
   "execution_count": 31,
   "id": "0c5e8d4e",
   "metadata": {},
   "outputs": [
    {
     "name": "stdout",
     "output_type": "stream",
     "text": [
      "coke 150 2 300.fanta 150 2 300\n",
      "['coke 150 2 300', 'fanta 150 2 300']\n",
      "[['coke', '150', '2', '300'], ['fanta', '150', '2', '300']]\n"
     ]
    }
   ],
   "source": [
    "print(info)\n",
    "output=[]\n",
    "x=info.split('.')\n",
    "print(x)\n",
    "for i in x:\n",
    "    y=i.split()\n",
    "    output.append(y)\n",
    "    \n",
    "print(output)    "
   ]
  },
  {
   "cell_type": "code",
   "execution_count": 32,
   "id": "ccf468cf",
   "metadata": {},
   "outputs": [
    {
     "name": "stdout",
     "output_type": "stream",
     "text": [
      "[1, 2, 3]\n"
     ]
    }
   ],
   "source": [
    "a=1\n",
    "b=2\n",
    "c=3\n",
    "d=[a,b,c]\n",
    "print(d)"
   ]
  },
  {
   "cell_type": "code",
   "execution_count": 33,
   "id": "a011358a",
   "metadata": {},
   "outputs": [
    {
     "name": "stdout",
     "output_type": "stream",
     "text": [
      "Enter n= 2\n",
      "Enter product name=coke\n",
      "Enter unit price= 150\n",
      "Enter quantity=2\n",
      "Enter product name=fanta\n",
      "Enter unit price= 150\n",
      "Enter quantity=2\n",
      "The billing is = \n",
      " [['coke', 150, 2, 300], ['fanta', 150, 2, 300]]\n",
      "The total price is= 600\n"
     ]
    }
   ],
   "source": [
    "info=[]\n",
    "add=0\n",
    "n= int(input(\"Enter n= \"))\n",
    "for i in range(n):\n",
    "    name=input(\"Enter product name=\")\n",
    "    price=int(input(\"Enter unit price= \"))\n",
    "    quantity= int(input(\"Enter quantity=\"))\n",
    "    total=price*quantity\n",
    "    data=[name,price,quantity,total]\n",
    "    info.append(data)\n",
    "    add=add+total\n",
    "    \n",
    "    \n",
    "\n",
    "print(\"The billing is = \\n\",info)\n",
    "print(\"The total price is=\",add)"
   ]
  },
  {
   "cell_type": "code",
   "execution_count": 7,
   "id": "b45ae9e0",
   "metadata": {},
   "outputs": [
    {
     "name": "stdout",
     "output_type": "stream",
     "text": [
      "Enter a= 2\n",
      "['coke', '150', '2', '300']\n",
      "['fanta', '150', '2', '300']\n"
     ]
    }
   ],
   "source": [
    "# search \n",
    "\n",
    "a = [['coke', '150', '2', '300'], ['fanta', '150', '2', '300']]\n",
    "data= input(\"Enter a= \")\n",
    "for i in a:\n",
    "    if data in i:\n",
    "        print(i)\n",
    "\n",
    "\n",
    "\n",
    "\n"
   ]
  },
  {
   "cell_type": "code",
   "execution_count": 2,
   "id": "5e7da60d",
   "metadata": {},
   "outputs": [
    {
     "name": "stdout",
     "output_type": "stream",
     "text": [
      "Enter a= fanta\n",
      "[['coke', '150', '2', '300']]\n"
     ]
    }
   ],
   "source": [
    "# delete\n",
    "\n",
    "a = [['coke', '150', '2', '300'], ['fanta', '150', '2', '300']]\n",
    "data= input(\"Enter a= \")\n",
    "for i in a:\n",
    "    if data in i:\n",
    "        a.remove(i)\n",
    "        \n",
    "print(a)        \n",
    "        "
   ]
  },
  {
   "cell_type": "code",
   "execution_count": 8,
   "id": "a09ca3df",
   "metadata": {},
   "outputs": [
    {
     "data": {
      "text/plain": [
       "150"
      ]
     },
     "execution_count": 8,
     "metadata": {},
     "output_type": "execute_result"
    }
   ],
   "source": [
    "a = [['coke', [150,300]], ['fanta', '150', '2', '300']]\n",
    "price=a[0][1][0]\n",
    "price"
   ]
  },
  {
   "cell_type": "code",
   "execution_count": 13,
   "id": "78dd852f",
   "metadata": {},
   "outputs": [
    {
     "data": {
      "text/plain": [
       "[['coke', [150, 300, 500]], ['fanta', '150', '2', '300']]"
      ]
     },
     "execution_count": 13,
     "metadata": {},
     "output_type": "execute_result"
    }
   ],
   "source": [
    "a = [['coke', [150,300]], ['fanta', '150', '2', '300']]\n",
    "price=a[0][1].append(500)\n",
    "a"
   ]
  },
  {
   "cell_type": "code",
   "execution_count": 14,
   "id": "0b33f4fa",
   "metadata": {},
   "outputs": [
    {
     "data": {
      "text/plain": [
       "[['coke', [300]], ['fanta', '150', '2', '300']]"
      ]
     },
     "execution_count": 14,
     "metadata": {},
     "output_type": "execute_result"
    }
   ],
   "source": [
    "a = [['coke', [150,300]], ['fanta', '150', '2', '300']]\n",
    "del a[0][1][0]\n",
    "a"
   ]
  },
  {
   "cell_type": "code",
   "execution_count": 15,
   "id": "a9f6664b",
   "metadata": {},
   "outputs": [
    {
     "data": {
      "text/plain": [
       "[['coke', [150, 350]], ['fanta', '150', '2', '300']]"
      ]
     },
     "execution_count": 15,
     "metadata": {},
     "output_type": "execute_result"
    }
   ],
   "source": [
    "a = [['coke', [150,300]], ['fanta', '150', '2', '300']]\n",
    "a[0][1][1]=350\n",
    "a"
   ]
  },
  {
   "cell_type": "code",
   "execution_count": null,
   "id": "44beb0c3",
   "metadata": {},
   "outputs": [],
   "source": []
  }
 ],
 "metadata": {
  "kernelspec": {
   "display_name": "Python 3",
   "language": "python",
   "name": "python3"
  },
  "language_info": {
   "codemirror_mode": {
    "name": "ipython",
    "version": 3
   },
   "file_extension": ".py",
   "mimetype": "text/x-python",
   "name": "python",
   "nbconvert_exporter": "python",
   "pygments_lexer": "ipython3",
   "version": "3.8.8"
  }
 },
 "nbformat": 4,
 "nbformat_minor": 5
}
