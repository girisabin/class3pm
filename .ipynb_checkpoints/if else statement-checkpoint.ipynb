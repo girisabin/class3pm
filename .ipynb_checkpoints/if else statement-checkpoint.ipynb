{
 "cells": [
  {
   "cell_type": "code",
   "execution_count": 1,
   "id": "eb708ae1",
   "metadata": {},
   "outputs": [],
   "source": [
    "#if<condition>:\n",
    "#   <operations>\n",
    "#elif<condition>:\n",
    "#    <operations>\n",
    "#else:\n",
    "#    <operation>\n",
    "    "
   ]
  },
  {
   "cell_type": "code",
   "execution_count": 2,
   "id": "4ca79b85",
   "metadata": {},
   "outputs": [
    {
     "data": {
      "text/plain": [
       "True"
      ]
     },
     "execution_count": 2,
     "metadata": {},
     "output_type": "execute_result"
    }
   ],
   "source": [
    "a=10\n",
    "b=20\n",
    "a<b"
   ]
  },
  {
   "cell_type": "code",
   "execution_count": null,
   "id": "b5dfb6fb",
   "metadata": {},
   "outputs": [],
   "source": [
    "#< > == != <=>="
   ]
  },
  {
   "cell_type": "code",
   "execution_count": 12,
   "id": "25803b18",
   "metadata": {},
   "outputs": [
    {
     "name": "stdout",
     "output_type": "stream",
     "text": [
      "both are equal\n"
     ]
    }
   ],
   "source": [
    "a=10\n",
    "b=10\n",
    "if a<b:\n",
    "    print(\"b is greater\")\n",
    "elif b<a:\n",
    "    print(\"a is greater\")\n",
    "else:\n",
    "     print(\"both are equal\")"
   ]
  },
  {
   "cell_type": "code",
   "execution_count": 13,
   "id": "47bca129",
   "metadata": {},
   "outputs": [
    {
     "name": "stdout",
     "output_type": "stream",
     "text": [
      "enter value of a12\n",
      "enter value of a13\n",
      "b is greater\n"
     ]
    }
   ],
   "source": [
    "a=int(input(\"enter value of a\"))\n",
    "b=int(input(\"enter value of a\"))\n",
    "if a<b:\n",
    "    print(\"b is greater\")\n",
    "elif b<a:\n",
    "    print(\"a is greater\")\n",
    "else:\n",
    "     print(\"both are equal\")"
   ]
  },
  {
   "cell_type": "code",
   "execution_count": 20,
   "id": "802a56b2",
   "metadata": {},
   "outputs": [
    {
     "name": "stdout",
     "output_type": "stream",
     "text": [
      "enter l=1\n",
      "enter b=2\n",
      "enter 1 to calculate area & 2 to calculate volume3\n",
      "invalid input!!!!! try again \n"
     ]
    }
   ],
   "source": [
    "l=int(input(\"enter l=\"))\n",
    "b=int(input(\"enter b=\"))\n",
    "\n",
    "x=int(input(\"enter 1 to calculate area & 2 to calculate volume\"))\n",
    "if x==1:\n",
    "    a=l*b\n",
    "    print(\"the area is=\",a)\n",
    "elif x==2:\n",
    "    h=int(input(\"enter h=\"))\n",
    "    v=l*b*h\n",
    "    print(\"the volume is=\",v)\n",
    "else:\n",
    "    print(\"invalid input!!!!! try again \")\n",
    "    \n",
    "    \n",
    "    \n",
    "    "
   ]
  },
  {
   "cell_type": "code",
   "execution_count": null,
   "id": "f5ea4956",
   "metadata": {},
   "outputs": [],
   "source": [
    "#note: if b=0 it is exception"
   ]
  },
  {
   "cell_type": "code",
   "execution_count": 28,
   "id": "33e4993c",
   "metadata": {},
   "outputs": [
    {
     "name": "stdout",
     "output_type": "stream",
     "text": [
      "enter first number10\n",
      "enter second number0\n",
      "Enter operator + - * / /\n",
      "the value of b can not be zero\n"
     ]
    }
   ],
   "source": [
    "a=float(input(\"enter first number\"))\n",
    "b=float(input(\"enter second number\"))\n",
    "o=str(input(\"Enter operator + - * / \"))\n",
    "if o=='+':\n",
    "    print(a+b)\n",
    "    \n",
    "elif o=='-':\n",
    "    print(a-b)\n",
    "    \n",
    "elif o=='*':\n",
    "    print(a*b)\n",
    "    \n",
    "elif o=='/':\n",
    "    if b==0:\n",
    "        print(\"the value of b can not be zero\")\n",
    "    else:\n",
    "        print(a/b)\n",
    "    \n",
    "else:\n",
    "    print(\"You enter invalid operator !!!!!!\")\n",
    "\n",
    "\n",
    "\n",
    "\n",
    "\n"
   ]
  },
  {
   "cell_type": "code",
   "execution_count": 39,
   "id": "3f32d058",
   "metadata": {},
   "outputs": [
    {
     "name": "stdout",
     "output_type": "stream",
     "text": [
      "Enter Physics marks=50\n",
      "Enter Chemistry marks=50\n",
      "Enter math marks=50\n",
      "Enter english marks=50\n",
      "Enter nepali marks=50\n",
      "you grade is = C\n"
     ]
    }
   ],
   "source": [
    "physics=int(input(\"Enter Physics marks=\"))\n",
    "chemistry=int(input(\"Enter Chemistry marks=\"))\n",
    "math=int(input(\"Enter math marks=\"))\n",
    "english=int(input(\"Enter english marks=\"))\n",
    "nepali=int(input(\"Enter nepali marks=\"))\n",
    "\n",
    "total=physics+chemistry+math+english+nepali\n",
    "per=total/5\n",
    "if per >=80:\n",
    "    print(\"you grade is =\",'A')\n",
    "    \n",
    "elif per>=60:\n",
    "     print(\"you grade is =\",'B')\n",
    "    \n",
    "elif per>=50:\n",
    "     print(\"you grade is =\",'C')  \n",
    "\n",
    "else: \n",
    "    print(\"you have grade is =\",'F')\n",
    "    \n",
    "    "
   ]
  },
  {
   "cell_type": "code",
   "execution_count": 29,
   "id": "c861d672",
   "metadata": {},
   "outputs": [],
   "source": [
    "# Nested if\n",
    "#  if<condition>:\n",
    "#   <operations>"
   ]
  },
  {
   "cell_type": "code",
   "execution_count": 30,
   "id": "05b77ed0",
   "metadata": {},
   "outputs": [],
   "source": [
    "# and &\n",
    "# or |"
   ]
  },
  {
   "cell_type": "code",
   "execution_count": 32,
   "id": "d173cbcf",
   "metadata": {},
   "outputs": [
    {
     "name": "stdout",
     "output_type": "stream",
     "text": [
      "False\n",
      "True\n"
     ]
    }
   ],
   "source": [
    "a= True\n",
    "b= False\n",
    "print(a and b)\n",
    "print(a or b)"
   ]
  },
  {
   "cell_type": "code",
   "execution_count": 37,
   "id": "2a387475",
   "metadata": {},
   "outputs": [
    {
     "name": "stdout",
     "output_type": "stream",
     "text": [
      "enter first number3\n",
      "enter second number0\n",
      "Enter operator + - * / /\n",
      "Value of b cannot be zero\n"
     ]
    }
   ],
   "source": [
    "a=float(input(\"enter first number\"))\n",
    "b=float(input(\"enter second number\"))\n",
    "o=str(input(\"Enter operator + - * / \"))\n",
    "if o=='+':\n",
    "    print(a+b)\n",
    "    \n",
    "elif o=='-':\n",
    "    print(a-b)\n",
    "    \n",
    "elif o=='*':\n",
    "    print(a*b)\n",
    "    \n",
    "elif o=='/' and b!=0:\n",
    "        print(a/b) \n",
    "        \n",
    "elif o=='/' and b==0:\n",
    "    print(\"Value of b cannot be zero\")\n",
    "    \n",
    "else:\n",
    "    print(\"You enter invalid operator !!!!!!\")\n",
    "\n"
   ]
  },
  {
   "cell_type": "code",
   "execution_count": null,
   "id": "f7b5b518",
   "metadata": {},
   "outputs": [],
   "source": []
  }
 ],
 "metadata": {
  "kernelspec": {
   "display_name": "Python 3",
   "language": "python",
   "name": "python3"
  },
  "language_info": {
   "codemirror_mode": {
    "name": "ipython",
    "version": 3
   },
   "file_extension": ".py",
   "mimetype": "text/x-python",
   "name": "python",
   "nbconvert_exporter": "python",
   "pygments_lexer": "ipython3",
   "version": "3.8.8"
  }
 },
 "nbformat": 4,
 "nbformat_minor": 5
}
