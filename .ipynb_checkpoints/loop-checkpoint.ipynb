{
 "cells": [
  {
   "cell_type": "code",
   "execution_count": 1,
   "id": "72dd7d91",
   "metadata": {},
   "outputs": [],
   "source": [
    "# Loop\n",
    "#for\n",
    "#while"
   ]
  },
  {
   "cell_type": "code",
   "execution_count": 3,
   "id": "b8975e00",
   "metadata": {},
   "outputs": [
    {
     "name": "stdout",
     "output_type": "stream",
     "text": [
      "0 hello world\n",
      "1 hello world\n",
      "2 hello world\n",
      "3 hello world\n",
      "4 hello world\n"
     ]
    }
   ],
   "source": [
    "# for loop\n",
    "# range()-creat sequence of numbers\n",
    "for i in range(5):      #for(i=0;i<5;i++) which indicates 0 to 4 \n",
    "    print(i,\"hello world\")"
   ]
  },
  {
   "cell_type": "code",
   "execution_count": 5,
   "id": "96f3d2eb",
   "metadata": {},
   "outputs": [
    {
     "name": "stdout",
     "output_type": "stream",
     "text": [
      "1 hello\n",
      "2 hello\n",
      "3 hello\n",
      "4 hello\n"
     ]
    }
   ],
   "source": [
    "for i in range(1,5):    #you can define ranges ///\n",
    "    print(i,\"hello\")"
   ]
  },
  {
   "cell_type": "code",
   "execution_count": 32,
   "id": "67dd0b92",
   "metadata": {},
   "outputs": [
    {
     "name": "stdout",
     "output_type": "stream",
     "text": [
      "1 hello\n",
      "3 hello\n"
     ]
    }
   ],
   "source": [
    "for i in range(1,5,2):    #for(i=0;i<5;i=i+2)\n",
    "    print(i,\"hello\")"
   ]
  },
  {
   "cell_type": "code",
   "execution_count": 7,
   "id": "69c0a559",
   "metadata": {},
   "outputs": [
    {
     "name": "stdout",
     "output_type": "stream",
     "text": [
      "Enter n=5\n",
      "5\n",
      "10\n",
      "15\n",
      "20\n",
      "25\n",
      "30\n",
      "35\n",
      "40\n",
      "45\n",
      "50\n"
     ]
    }
   ],
   "source": []
  },
  {
   "cell_type": "code",
   "execution_count": 9,
   "id": "030ed738",
   "metadata": {},
   "outputs": [
    {
     "name": "stdout",
     "output_type": "stream",
     "text": [
      "Enter n=5\n",
      "5 * 1 = 5\n",
      "5 * 2 = 10\n",
      "5 * 3 = 15\n",
      "5 * 4 = 20\n",
      "5 * 5 = 25\n",
      "5 * 6 = 30\n",
      "5 * 7 = 35\n",
      "5 * 8 = 40\n",
      "5 * 9 = 45\n",
      "5 * 10 = 50\n"
     ]
    }
   ],
   "source": [
    "# wap a program to display multiplication table\n",
    "n=int(input(\"Enter n=\"))\n",
    "for i in range(1,11):\n",
    "    print(n,\"*\",i,\"=\",n*i)"
   ]
  },
  {
   "cell_type": "code",
   "execution_count": 10,
   "id": "9ece204e",
   "metadata": {},
   "outputs": [
    {
     "name": "stdout",
     "output_type": "stream",
     "text": [
      "Enter n=5\n",
      "Enter x=1\n",
      "Enter x=2\n",
      "Enter x=3\n",
      "Enter x=4\n",
      "Enter x=5\n",
      "15\n"
     ]
    }
   ],
   "source": [
    "s=0\n",
    "n=int(input(\"Enter n=\"))\n",
    "for i in range(n):\n",
    "    x=int(input(\"Enter x=\"))\n",
    "    s=s+x\n",
    "\n",
    "print(\"the total sum is\",s)    \n",
    "    \n",
    "    \n",
    "    \n",
    "    "
   ]
  },
  {
   "cell_type": "code",
   "execution_count": 11,
   "id": "7acfbde5",
   "metadata": {},
   "outputs": [
    {
     "name": "stdout",
     "output_type": "stream",
     "text": [
      "Enter n=5\n",
      "Enter x=1\n",
      "the total sum is 1\n",
      "Enter x=2\n",
      "the total sum is 3\n",
      "Enter x=3\n",
      "the total sum is 6\n",
      "Enter x=4\n",
      "the total sum is 10\n",
      "Enter x=5\n",
      "the total sum is 15\n"
     ]
    }
   ],
   "source": [
    "s=0\n",
    "n=int(input(\"Enter n=\"))\n",
    "for i in range(n):\n",
    "    x=int(input(\"Enter x=\"))\n",
    "    s=s+x\n",
    "\n",
    "    print(\"the total sum is\",s)  "
   ]
  },
  {
   "cell_type": "code",
   "execution_count": 12,
   "id": "a2817635",
   "metadata": {},
   "outputs": [
    {
     "name": "stdout",
     "output_type": "stream",
     "text": [
      "enter n=4\n",
      "24\n"
     ]
    }
   ],
   "source": [
    "#factorial of number\n",
    "# eg 4!= 1*2*3*4\n",
    "fac=1\n",
    "n=int(input(\"enter n=\"))\n",
    "for i in range(1,n+1):\n",
    "    fac=fac*i\n",
    "\n",
    "print(fac)    \n",
    "\n",
    "    "
   ]
  },
  {
   "cell_type": "code",
   "execution_count": 14,
   "id": "34547685",
   "metadata": {},
   "outputs": [
    {
     "name": "stdout",
     "output_type": "stream",
     "text": [
      "P\n",
      "y\n",
      "t\n",
      "h\n",
      "o\n",
      "n\n"
     ]
    }
   ],
   "source": [
    "a=\"Python\" # string is sequence of character\n",
    "for i in a:\n",
    "    print(i)\n"
   ]
  },
  {
   "cell_type": "code",
   "execution_count": 15,
   "id": "2f18b0ad",
   "metadata": {},
   "outputs": [
    {
     "name": "stdout",
     "output_type": "stream",
     "text": [
      "hello\n",
      "hello\n",
      "hello\n",
      "hello\n",
      "hello\n",
      "hello\n"
     ]
    }
   ],
   "source": [
    "a=\"Python\" # string is sequence of character\n",
    "for i in a:\n",
    "    print(\"hello\")"
   ]
  },
  {
   "cell_type": "code",
   "execution_count": 16,
   "id": "d516a7ac",
   "metadata": {},
   "outputs": [
    {
     "name": "stdout",
     "output_type": "stream",
     "text": [
      "P\n",
      "y\n",
      "t\n",
      "h\n",
      "o\n",
      "n\n"
     ]
    }
   ],
   "source": [
    "a=\"Python\" # string is sequence of character\n",
    "l=len(a)\n",
    "for i in range(l):\n",
    "    print(a[i])"
   ]
  },
  {
   "cell_type": "code",
   "execution_count": 19,
   "id": "763713a5",
   "metadata": {},
   "outputs": [
    {
     "name": "stdout",
     "output_type": "stream",
     "text": [
      "Enter n2\n",
      "Enter name=ram\n",
      "Enter phone no.=1222\n",
      "Enter name=shyam\n",
      "Enter phone no.=12223\n",
      "ram 1222\n",
      "shyam 12223\n",
      "\n"
     ]
    }
   ],
   "source": [
    "s=\"\"\n",
    "n= int(input(\"Enter n\"))\n",
    "for i in range(n):\n",
    "    name=input(\"Enter name=\")\n",
    "    phone=input(\"Enter phone no.=\")\n",
    "    info=name+\" \"+phone \n",
    "    s=s+info+\"\\n\"\n",
    "    \n",
    "print(s)    "
   ]
  },
  {
   "cell_type": "markdown",
   "id": "1deb4e2b",
   "metadata": {},
   "source": []
  },
  {
   "cell_type": "code",
   "execution_count": 21,
   "id": "33f1c2c3",
   "metadata": {},
   "outputs": [
    {
     "name": "stdout",
     "output_type": "stream",
     "text": [
      "1\n",
      "3\n",
      "5\n",
      "7\n",
      "9\n",
      "11\n",
      "13\n",
      "15\n",
      "17\n",
      "19\n"
     ]
    }
   ],
   "source": [
    "for i in range(1,21):\n",
    "    if i%2 !=0:\n",
    "        print(i)"
   ]
  },
  {
   "cell_type": "code",
   "execution_count": 29,
   "id": "c2a55956",
   "metadata": {},
   "outputs": [
    {
     "name": "stdout",
     "output_type": "stream",
     "text": [
      "Enter n=1\n",
      "Enter your nameSabin\n",
      "Enter Physics marks=80\n",
      "Enter Chemistry marks=80\n",
      "Enter math marks=80\n",
      "Enter english marks=80\n",
      "Enter nepali marks=80\n",
      "you grade is = A\n",
      "Sabin  your have scored  total marks 400 in your exam\n"
     ]
    }
   ],
   "source": [
    "n=int(input(\"Enter n=\"))\n",
    "for i in range(n):\n",
    "    name=input(\"Enter your name\")\n",
    "    physics=int(input(\"Enter Physics marks=\"))\n",
    "    chemistry=int(input(\"Enter Chemistry marks=\"))\n",
    "    math=int(input(\"Enter math marks=\"))\n",
    "    english=int(input(\"Enter english marks=\"))\n",
    "    nepali=int(input(\"Enter nepali marks=\"))\n",
    "\n",
    "    total=physics+chemistry+math+english+nepali\n",
    "    per=total/5\n",
    "    if per >=80:\n",
    "        print(\"you grade is =\",'A')\n",
    "\n",
    "    elif per>=60:\n",
    "         print(\"you grade is =\",'B')\n",
    "\n",
    "    elif per>=50:\n",
    "         print(\"you grade is =\",'C')  \n",
    "\n",
    "    else: \n",
    "        print(\"you have grade is =\",'F')\n",
    "        \n",
    "info=name+\"  your have scored  total marks \"+str(total)+\" in your exam\"\n",
    "print(info)"
   ]
  },
  {
   "cell_type": "code",
   "execution_count": 1,
   "id": "c3de241e",
   "metadata": {},
   "outputs": [],
   "source": [
    "#control statement \n",
    "#break\n",
    "#continue\n",
    "#pass -null operation return"
   ]
  },
  {
   "cell_type": "code",
   "execution_count": 5,
   "id": "ae03199c",
   "metadata": {},
   "outputs": [
    {
     "name": "stdout",
     "output_type": "stream",
     "text": [
      "0\n",
      "1\n",
      "2\n",
      "3\n",
      "4\n"
     ]
    }
   ],
   "source": [
    "for i in range(10):\n",
    "    if i==5:\n",
    "        break\n",
    "    else:\n",
    "        print(i)"
   ]
  },
  {
   "cell_type": "code",
   "execution_count": 7,
   "id": "733b2d4e",
   "metadata": {},
   "outputs": [
    {
     "name": "stdout",
     "output_type": "stream",
     "text": [
      "h\n",
      "e\n",
      "l\n",
      "l\n",
      "o\n"
     ]
    }
   ],
   "source": [
    "a=\"hello world\"\n",
    "for i in a:\n",
    "    if i==\" \":\n",
    "        break\n",
    "    print(i)    "
   ]
  },
  {
   "cell_type": "code",
   "execution_count": 8,
   "id": "a04ce099",
   "metadata": {},
   "outputs": [
    {
     "name": "stdout",
     "output_type": "stream",
     "text": [
      "0\n",
      "1\n",
      "2\n",
      "3\n",
      "4\n",
      "6\n",
      "7\n",
      "8\n",
      "9\n"
     ]
    }
   ],
   "source": [
    "for i in range(10):\n",
    "    if i==5:       #skip 5 or like skip code execution for particular candition \n",
    "        continue\n",
    "    else:\n",
    "        print(i)"
   ]
  },
  {
   "cell_type": "code",
   "execution_count": 12,
   "id": "3a5363fb",
   "metadata": {},
   "outputs": [
    {
     "name": "stdout",
     "output_type": "stream",
     "text": [
      "helloworld"
     ]
    }
   ],
   "source": [
    "a=\"hello world\"\n",
    "for i in a:\n",
    "    if i==\" \":\n",
    "        continue\n",
    "    print(i,end=\"\")  "
   ]
  },
  {
   "cell_type": "code",
   "execution_count": 13,
   "id": "a05ca22e",
   "metadata": {},
   "outputs": [
    {
     "name": "stdout",
     "output_type": "stream",
     "text": [
      "helloworldmyfriends"
     ]
    }
   ],
   "source": [
    "a=\"hello,world,my,friends\"\n",
    "for i in a:\n",
    "    if i==\",\":\n",
    "        continue\n",
    "    print(i,end=\"\") "
   ]
  },
  {
   "cell_type": "code",
   "execution_count": 6,
   "id": "2238fc0e",
   "metadata": {},
   "outputs": [
    {
     "name": "stdout",
     "output_type": "stream",
     "text": [
      "2\n",
      "4\n",
      "6\n",
      "8\n",
      "10\n",
      "12\n",
      "14\n",
      "16\n",
      "18\n",
      "20\n"
     ]
    }
   ],
   "source": [
    "for i in range(1,21):\n",
    "    if i % 2 !=0:\n",
    "        continue\n",
    "    else:\n",
    "         print(i)"
   ]
  },
  {
   "cell_type": "code",
   "execution_count": 16,
   "id": "b602018e",
   "metadata": {},
   "outputs": [
    {
     "name": "stdout",
     "output_type": "stream",
     "text": [
      "0\n",
      "1\n",
      "2\n",
      "3\n",
      "4\n"
     ]
    }
   ],
   "source": [
    "for i in range(11):\n",
    "    if i==5:\n",
    "        break\n",
    "    print(i)"
   ]
  },
  {
   "cell_type": "code",
   "execution_count": 5,
   "id": "b91a63ed",
   "metadata": {},
   "outputs": [
    {
     "name": "stdout",
     "output_type": "stream",
     "text": [
      "enter any number n=2\n",
      "this is prime number\n"
     ]
    }
   ],
   "source": [
    "n=int(input(\"enter any number n=\"))\n",
    "if n>=2:\n",
    "    for i in range(2,n):           #for else loop\n",
    "        if n%i ==0:\n",
    "            print(\"this is composite number\")\n",
    "            break\n",
    "    else:\n",
    "        print(\"this is prime number\")\n",
    "\n",
    "else:\n",
    "    print(\"The number should be greater or equal to 2\")\n",
    "    \n",
    "    "
   ]
  },
  {
   "cell_type": "code",
   "execution_count": null,
   "id": "fc365900",
   "metadata": {},
   "outputs": [],
   "source": [
    "# 0 1 1 2 3 5 8 13 "
   ]
  },
  {
   "cell_type": "code",
   "execution_count": 33,
   "id": "0ba4f376",
   "metadata": {},
   "outputs": [
    {
     "name": "stdout",
     "output_type": "stream",
     "text": [
      "5\n",
      "3\n",
      "1\n"
     ]
    }
   ],
   "source": [
    "for i in range(5,0,-2):    #decending order\n",
    "    print(i)"
   ]
  },
  {
   "cell_type": "code",
   "execution_count": 34,
   "id": "e7259e33",
   "metadata": {},
   "outputs": [
    {
     "name": "stdout",
     "output_type": "stream",
     "text": [
      "0\n",
      "-1\n",
      "-2\n",
      "-3\n",
      "-4\n",
      "-5\n",
      "-6\n",
      "-7\n",
      "-8\n",
      "-9\n"
     ]
    }
   ],
   "source": [
    "for i in range(0,-10,-1):    #decending order\n",
    "    print(i)"
   ]
  },
  {
   "cell_type": "code",
   "execution_count": 10,
   "id": "56dd87d0",
   "metadata": {},
   "outputs": [
    {
     "name": "stdout",
     "output_type": "stream",
     "text": [
      "6\n",
      "n\n",
      "nohtyp"
     ]
    }
   ],
   "source": [
    "a=\"python\"\n",
    "l=len(a)\n",
    "print(l)\n",
    "print(a[5])\n",
    "for i in range(l-1,-1,-1):\n",
    "    print(a[i],end=\"\")\n",
    "    "
   ]
  },
  {
   "cell_type": "code",
   "execution_count": 44,
   "id": "cee1e0b2",
   "metadata": {},
   "outputs": [],
   "source": [
    "# nested for\n",
    "#for<>:\n",
    "#    for<>:"
   ]
  },
  {
   "cell_type": "code",
   "execution_count": 45,
   "id": "f29836ec",
   "metadata": {},
   "outputs": [
    {
     "name": "stdout",
     "output_type": "stream",
     "text": [
      "0 0\n",
      "0 1\n",
      "1 0\n",
      "1 1\n"
     ]
    }
   ],
   "source": [
    "for i in range(2):\n",
    "    for j in range(2):\n",
    "        print(i,j)"
   ]
  },
  {
   "cell_type": "code",
   "execution_count": 48,
   "id": "586a8a0e",
   "metadata": {},
   "outputs": [
    {
     "name": "stdout",
     "output_type": "stream",
     "text": [
      "0 0 0\n",
      "0 0 1\n",
      "0 0 2\n",
      "0 1 0\n",
      "0 1 1\n",
      "0 1 2\n",
      "0 2 0\n",
      "0 2 1\n",
      "0 2 2\n",
      "1 0 0\n",
      "1 0 1\n",
      "1 0 2\n",
      "1 1 0\n",
      "1 1 1\n",
      "1 1 2\n",
      "1 2 0\n",
      "1 2 1\n",
      "1 2 2\n",
      "2 0 0\n",
      "2 0 1\n",
      "2 0 2\n",
      "2 1 0\n",
      "2 1 1\n",
      "2 1 2\n",
      "2 2 0\n",
      "2 2 1\n",
      "2 2 2\n"
     ]
    }
   ],
   "source": [
    "for i in range(3):\n",
    "    for j in range(3):\n",
    "        for k in range(3):\n",
    "            print(i,j,k)"
   ]
  },
  {
   "cell_type": "code",
   "execution_count": 5,
   "id": "21888581",
   "metadata": {},
   "outputs": [],
   "source": [
    "# while loop\n",
    "#while <condition>:\n",
    " #   <operations>\n",
    "    \n"
   ]
  },
  {
   "cell_type": "code",
   "execution_count": 5,
   "id": "81f09fe5",
   "metadata": {},
   "outputs": [],
   "source": [
    "while True:\n",
    "    print(\"hello world\")\n",
    "    "
   ]
  },
  {
   "cell_type": "code",
   "execution_count": 1,
   "id": "284d2803",
   "metadata": {},
   "outputs": [
    {
     "data": {
      "text/plain": [
       "False"
      ]
     },
     "execution_count": 1,
     "metadata": {},
     "output_type": "execute_result"
    }
   ],
   "source": [
    "a=10\n",
    "b=20\n",
    "a>b"
   ]
  },
  {
   "cell_type": "code",
   "execution_count": 2,
   "id": "95bd1b48",
   "metadata": {},
   "outputs": [
    {
     "name": "stdout",
     "output_type": "stream",
     "text": [
      "0\n",
      "1\n",
      "2\n",
      "3\n",
      "4\n"
     ]
    }
   ],
   "source": [
    "n=0\n",
    "while n<5:\n",
    "    print(n)\n",
    "    n=n+1"
   ]
  },
  {
   "cell_type": "code",
   "execution_count": 7,
   "id": "75223406",
   "metadata": {},
   "outputs": [
    {
     "name": "stdout",
     "output_type": "stream",
     "text": [
      "1 hello world\n",
      "3 hello world\n"
     ]
    }
   ],
   "source": [
    "n=1\n",
    "while n<5:\n",
    "    print(n,\"hello world\")\n",
    "    n=n+2"
   ]
  },
  {
   "cell_type": "code",
   "execution_count": 8,
   "id": "d3708f18",
   "metadata": {},
   "outputs": [
    {
     "name": "stdout",
     "output_type": "stream",
     "text": [
      "Enter n=5\n",
      "5 * 1 = 5\n",
      "5 * 2 = 10\n",
      "5 * 3 = 15\n",
      "5 * 4 = 20\n",
      "5 * 5 = 25\n",
      "5 * 6 = 30\n",
      "5 * 7 = 35\n",
      "5 * 8 = 40\n",
      "5 * 9 = 45\n",
      "5 * 10 = 50\n"
     ]
    }
   ],
   "source": [
    "# wap a program to display multiplication table\n",
    "i=1\n",
    "n=int(input(\"Enter n=\"))\n",
    "while i<=10:\n",
    "    print(n,\"*\",i,\"=\",n*i)\n",
    "    i=i+1                     #or i+=1\n"
   ]
  },
  {
   "cell_type": "code",
   "execution_count": 11,
   "id": "2c6c1b6e",
   "metadata": {},
   "outputs": [
    {
     "name": "stdout",
     "output_type": "stream",
     "text": [
      "Enter n=3\n",
      "Enter x=1\n",
      "Enter x=2\n",
      "Enter x=3\n",
      "the total sum is 6\n"
     ]
    }
   ],
   "source": [
    "s=0\n",
    "i=0\n",
    "n=int(input(\"Enter n=\"))\n",
    "while i<n:\n",
    "    x=int(input(\"Enter x=\"))\n",
    "    s=s+x\n",
    "    i=i+1\n",
    "\n",
    "print(\"the total sum is\",s)  "
   ]
  },
  {
   "cell_type": "code",
   "execution_count": null,
   "id": "0892bba4",
   "metadata": {},
   "outputs": [],
   "source": [
    "s=\"\"\n",
    "i=0\n",
    "n= int(input(\"Enter n\"))\n",
    "for i in range(n):\n",
    "    name=input(\"Enter name=\")\n",
    "    phone=input(\"Enter phone no.=\")\n",
    "    info=name+\" \"+phone \n",
    "    s=s+info+\"\\n\"\n",
    "    "
   ]
  },
  {
   "cell_type": "code",
   "execution_count": 3,
   "id": "1b04d8bc",
   "metadata": {},
   "outputs": [],
   "source": [
    "a=\"Python\"\n",
    "l=len(a)\n",
    "i=0\n",
    "while i<l:\n",
    "    print(a[i])\n",
    "    i=i+1\n",
    "    \n",
    "\n"
   ]
  },
  {
   "cell_type": "code",
   "execution_count": 1,
   "id": "cf82c152",
   "metadata": {},
   "outputs": [
    {
     "name": "stdout",
     "output_type": "stream",
     "text": [
      "P\n",
      "y\n",
      "t\n",
      "h\n",
      "o\n",
      "n\n"
     ]
    }
   ],
   "source": [
    "a=\"Python\"\n",
    "l=len(a)\n",
    "i=0\n",
    "while i<l:\n",
    "    print(a[i])\n",
    "    i=i+1"
   ]
  },
  {
   "cell_type": "code",
   "execution_count": 2,
   "id": "1c85ae39",
   "metadata": {},
   "outputs": [
    {
     "name": "stdout",
     "output_type": "stream",
     "text": [
      "nohtyP"
     ]
    }
   ],
   "source": [
    "a=\"Python\"\n",
    "l=len(a)-1\n",
    "i=0\n",
    "while l>=i:\n",
    "    print(a[l],end=\"\")\n",
    "    l=l-1"
   ]
  },
  {
   "cell_type": "code",
   "execution_count": 22,
   "id": "6543f50d",
   "metadata": {},
   "outputs": [
    {
     "name": "stdout",
     "output_type": "stream",
     "text": [
      "enter any number n=111\n",
      "this is composite number\n"
     ]
    }
   ],
   "source": [
    "n=int(input(\"enter any number n=\"))\n",
    "m=2\n",
    "if n>=m:\n",
    "    while m<n:           #while else loop\n",
    "        if n%m ==0:\n",
    "            print(\"this is composite number\")\n",
    "            break\n",
    "        m=m+1    \n",
    "    else:\n",
    "        print(\"this is prime number\")\n",
    "\n",
    "else:\n",
    "    print(\"The number should be greater or equal to 2\")"
   ]
  },
  {
   "cell_type": "code",
   "execution_count": 24,
   "id": "d0f8cc26",
   "metadata": {},
   "outputs": [
    {
     "name": "stdout",
     "output_type": "stream",
     "text": [
      "Hello World\n"
     ]
    }
   ],
   "source": [
    "#control statement in while loop\n",
    "#break\n",
    "\n",
    "while True:\n",
    "    print(\"Hello World\")\n",
    "    break"
   ]
  },
  {
   "cell_type": "code",
   "execution_count": 1,
   "id": "ce284ec7",
   "metadata": {},
   "outputs": [
    {
     "name": "stdout",
     "output_type": "stream",
     "text": [
      "10 is greater than 20\n"
     ]
    }
   ],
   "source": [
    "while 10<20:\n",
    "    print(\"10 is greater than 20\")\n",
    "    break\n",
    "    "
   ]
  },
  {
   "cell_type": "code",
   "execution_count": 7,
   "id": "a81f6d8d",
   "metadata": {},
   "outputs": [
    {
     "name": "stdout",
     "output_type": "stream",
     "text": [
      "hello"
     ]
    }
   ],
   "source": [
    "a=\"hello world\"\n",
    "l=len(a)-1\n",
    "k=0\n",
    "while k<l:\n",
    "    if a[k]==\" \":\n",
    "        break\n",
    "    print(a[k],end=\"\")\n",
    "    k=k+1"
   ]
  },
  {
   "cell_type": "code",
   "execution_count": 6,
   "id": "754eb919",
   "metadata": {},
   "outputs": [
    {
     "name": "stdout",
     "output_type": "stream",
     "text": [
      "helloworld"
     ]
    }
   ],
   "source": [
    "a=\"hello world\"\n",
    "l=len(a)-1\n",
    "k=0\n",
    "while k<=l:\n",
    "    if a[k]==\" \":\n",
    "        k=k+1\n",
    "        continue\n",
    "    print(a[k],end=\"\")\n",
    "    k=k+1"
   ]
  },
  {
   "cell_type": "code",
   "execution_count": null,
   "id": "e244fee5",
   "metadata": {},
   "outputs": [],
   "source": [
    "# pass "
   ]
  }
 ],
 "metadata": {
  "kernelspec": {
   "display_name": "Python 3",
   "language": "python",
   "name": "python3"
  },
  "language_info": {
   "codemirror_mode": {
    "name": "ipython",
    "version": 3
   },
   "file_extension": ".py",
   "mimetype": "text/x-python",
   "name": "python",
   "nbconvert_exporter": "python",
   "pygments_lexer": "ipython3",
   "version": "3.8.8"
  }
 },
 "nbformat": 4,
 "nbformat_minor": 5
}
