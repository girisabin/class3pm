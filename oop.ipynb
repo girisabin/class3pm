{
 "cells": [
  {
   "cell_type": "code",
   "execution_count": 1,
   "id": "0026ed4e",
   "metadata": {},
   "outputs": [],
   "source": [
    "# object oriented programming\n",
    "#-> creating reuseable code...\n",
    "#basic principles\n",
    "#1.inheritance - create new class using existing class\n",
    "#2.Encapsulation - hiding private details of a class from other objects\n",
    "#3.Polymorphism - A concept of using common operation in different ways for different data output.\n"
   ]
  },
  {
   "cell_type": "code",
   "execution_count": 2,
   "id": "3a797393",
   "metadata": {},
   "outputs": [
    {
     "name": "stdout",
     "output_type": "stream",
     "text": [
      "Hello World\n"
     ]
    }
   ],
   "source": [
    "# define a class\n",
    "class Python:              #class\n",
    "    print(\"Hello World\")\n",
    "\n",
    "obj = Python()            #object\n",
    "    "
   ]
  },
  {
   "cell_type": "code",
   "execution_count": 3,
   "id": "09dc4891",
   "metadata": {},
   "outputs": [
    {
     "name": "stdout",
     "output_type": "stream",
     "text": [
      "Hello World\n"
     ]
    }
   ],
   "source": [
    "class Python:              #class\n",
    "    print(\"Hello World\")"
   ]
  },
  {
   "cell_type": "code",
   "execution_count": 2,
   "id": "f49c68f0",
   "metadata": {},
   "outputs": [
    {
     "name": "stdout",
     "output_type": "stream",
     "text": [
      "Hello World\n"
     ]
    }
   ],
   "source": [
    "class Python:        #class\n",
    "    def hello(self):      #method   must used argument\n",
    "        print(\"Hello World\")\n",
    "        \n",
    "obj = Python()        #object\n",
    "obj.hello()        "
   ]
  },
  {
   "cell_type": "code",
   "execution_count": 4,
   "id": "7ab2eead",
   "metadata": {},
   "outputs": [
    {
     "name": "stdout",
     "output_type": "stream",
     "text": [
      "Hello World\n"
     ]
    }
   ],
   "source": [
    "class Python:     #class\n",
    "    @staticmethod      #\n",
    "    def hello():      #method   must used argument\n",
    "        print(\"Hello World\")\n",
    "        \n",
    "obj = Python()        #object\n",
    "obj.hello()"
   ]
  },
  {
   "cell_type": "code",
   "execution_count": 2,
   "id": "a8646bec",
   "metadata": {},
   "outputs": [
    {
     "name": "stdout",
     "output_type": "stream",
     "text": [
      "Hello World I am Python\n"
     ]
    }
   ],
   "source": [
    "class Python:        #class\n",
    "    def hello(self,language):      #method   must used argument\n",
    "        print(\"Hello World I am\",language)\n",
    "        \n",
    "obj = Python()        #object\n",
    "obj.hello(\"Python\")        "
   ]
  },
  {
   "cell_type": "code",
   "execution_count": 10,
   "id": "408016df",
   "metadata": {},
   "outputs": [
    {
     "name": "stdout",
     "output_type": "stream",
     "text": [
      "200\n",
      "6\n"
     ]
    }
   ],
   "source": [
    "class cal:\n",
    "    def area(self,l,b):\n",
    "        a=l*b\n",
    "        print(a)\n",
    "        \n",
    "    def volume(self,l,b,h):\n",
    "        v=l*b*h\n",
    "        print(v)\n",
    "        \n",
    "obj = cal()   # it initialize class\n",
    "obj.area(10,20)\n",
    "obj.volume(1,2,3)"
   ]
  },
  {
   "cell_type": "code",
   "execution_count": 12,
   "id": "d2e9e6ea",
   "metadata": {},
   "outputs": [
    {
     "name": "stdout",
     "output_type": "stream",
     "text": [
      "200\n",
      "6\n"
     ]
    }
   ],
   "source": [
    "class cal:\n",
    "    @staticmethod    #decorator using for validations\n",
    "    def area(l,b):\n",
    "        a=l*b\n",
    "        print(a)\n",
    "        \n",
    "class Volume:        \n",
    "    def volume(self,l,b,h):\n",
    "        v=l*b*h\n",
    "        print(v)\n",
    "        \n",
    "obj1 = cal() # it initialize class\n",
    "obj2 = Volume()\n",
    "obj1.area(10,20)\n",
    "obj2.volume(1,2,3)"
   ]
  },
  {
   "cell_type": "code",
   "execution_count": 22,
   "id": "79842f11",
   "metadata": {},
   "outputs": [
    {
     "name": "stdout",
     "output_type": "stream",
     "text": [
      "50\n",
      "150\n"
     ]
    }
   ],
   "source": [
    "class Cal:\n",
    "    def __init__(self,l,b,h):  # uses values in multiple methods\n",
    "        self.l = l\n",
    "        self.b = b\n",
    "        self.h = h\n",
    "        \n",
    "    def area(self):\n",
    "        a = self.l*self.b\n",
    "        print(a)\n",
    "    \n",
    "    def volume(self):\n",
    "        v = self.l*self.b*self.h\n",
    "        print(v)\n",
    "        \n",
    "    \n",
    "obj = Cal(10,5,3)\n",
    "obj.area()\n",
    "obj.volume()"
   ]
  },
  {
   "cell_type": "code",
   "execution_count": 23,
   "id": "f44a3c67",
   "metadata": {},
   "outputs": [
    {
     "name": "stdout",
     "output_type": "stream",
     "text": [
      "50\n",
      "100\n"
     ]
    }
   ],
   "source": [
    "class Cal:\n",
    "    def __init__(self,l,b):  # uses values in multiple methods\n",
    "        self.l = l\n",
    "        self.b = b\n",
    "       \n",
    "        \n",
    "    def area(self):\n",
    "        a = self.l*self.b\n",
    "        print(a)\n",
    "    \n",
    "    def volume(self,h):\n",
    "        v = self.l*self.b*h\n",
    "        print(v)\n",
    "        \n",
    "    \n",
    "obj = Cal(10,5)\n",
    "obj.area()\n",
    "obj.volume(2)"
   ]
  },
  {
   "cell_type": "code",
   "execution_count": 24,
   "id": "b1904df0",
   "metadata": {},
   "outputs": [
    {
     "name": "stdout",
     "output_type": "stream",
     "text": [
      "Enter l = 2\n",
      "Enter b = 3\n",
      "Enter h = 4\n",
      "6\n",
      "24\n"
     ]
    }
   ],
   "source": [
    "class Cal:\n",
    "    def __init__(self,l,b):  # uses values in multiple methods\n",
    "        self.l = l\n",
    "        self.b = b\n",
    "       \n",
    "        \n",
    "    def area(self):\n",
    "        a = self.l*self.b\n",
    "        print(a)\n",
    "    \n",
    "    def volume(self,h):\n",
    "        v = self.l*self.b*h\n",
    "        print(v)\n",
    "        \n",
    "l=int(input(\"Enter l = \")) \n",
    "b=int(input(\"Enter b = \")) \n",
    "h=int(input(\"Enter h = \")) \n",
    "obj = Cal(l,b)\n",
    "obj.area()\n",
    "obj.volume(h)"
   ]
  },
  {
   "cell_type": "code",
   "execution_count": 1,
   "id": "f13695e1",
   "metadata": {},
   "outputs": [
    {
     "name": "stdout",
     "output_type": "stream",
     "text": [
      "Ram\n",
      "Ram\n"
     ]
    }
   ],
   "source": [
    "class information:\n",
    "    def __init__(self,name,age,add):\n",
    "        self.name=name\n",
    "        self.age=age\n",
    "        self.add=add\n",
    "    def __str__(self):\n",
    "        return self.name\n",
    "obj=information('Ram',43,'kathmandu')\n",
    "print(obj)\n",
    "print(obj.__str__())"
   ]
  },
  {
   "cell_type": "code",
   "execution_count": 3,
   "id": "577d7d01",
   "metadata": {},
   "outputs": [
    {
     "name": "stdout",
     "output_type": "stream",
     "text": [
      "{'Name': 'Ram', 'Age': 43, 'Address': 'kathmandu'}\n"
     ]
    }
   ],
   "source": [
    "class information:\n",
    "    def __init__(self,name,age,add):\n",
    "        self.name=name\n",
    "        self.age=age\n",
    "        self.add=add\n",
    "    def __repr__(self):   # repr dinot print object directly\n",
    "        return {'Name':self.name,'Age':self.age,'Address':self.add}\n",
    "obj= information('Ram',43,'kathmandu')\n",
    "print(obj.__repr__())"
   ]
  },
  {
   "cell_type": "code",
   "execution_count": 6,
   "id": "b17ef35b",
   "metadata": {},
   "outputs": [
    {
     "name": "stdout",
     "output_type": "stream",
     "text": [
      "{'Name': 'Ram', 'Age': 43, 'Address': 'kathmandu'}\n"
     ]
    }
   ],
   "source": [
    "class information:\n",
    "    def __init__(self,name,age,add):\n",
    "        self.name=name\n",
    "        self.age=age\n",
    "        self.add=add\n",
    "    def __str__(self):  # str don't dictionary directly\n",
    "        return {'Name':self.name,'Age':self.age,'Address':self.add}\n",
    "obj= information('Ram',43,'kathmandu')\n",
    "print(obj.__str__())"
   ]
  },
  {
   "cell_type": "code",
   "execution_count": 9,
   "id": "b65ffcd1",
   "metadata": {},
   "outputs": [
    {
     "name": "stdout",
     "output_type": "stream",
     "text": [
      "2 3\n",
      "-1 2\n",
      "4 6\n",
      "1 5\n",
      "1 5\n",
      "5 11\n",
      "5 11\n",
      "5 11\n",
      "<class '__main__.Point'>\n"
     ]
    }
   ],
   "source": [
    "class Point:\n",
    "    def __init__(self, x=0, y=0):\n",
    "        self.x=x\n",
    "        self.y=y\n",
    "        print(self.x,self.y)\n",
    "        \n",
    "    def __str__(self):\n",
    "        return f\"{self.x} {self.y}\"\n",
    "    \n",
    "    def __add__(self,other):\n",
    "        x=self.x + other.x\n",
    "        y=self.y + other.y\n",
    "        print(x,y)\n",
    "        return Point(x,y)\n",
    "    \n",
    "p1 = Point(2,3)\n",
    "p2 = Point(-1,2)\n",
    "p3 = Point(4,6)\n",
    "p = p1+p2+p3\n",
    "print(p)\n",
    "print(type(p))"
   ]
  },
  {
   "cell_type": "code",
   "execution_count": 11,
   "id": "63e9d3ee",
   "metadata": {},
   "outputs": [
    {
     "name": "stdout",
     "output_type": "stream",
     "text": [
      "1000\n",
      "1500\n",
      "2000\n",
      "2500\n",
      "2500\n",
      "4500\n",
      "4500\n",
      "4500\n",
      "<class '__main__.Point'>\n"
     ]
    }
   ],
   "source": [
    "class Point:\n",
    "    def __init__(self, x=0):\n",
    "        self.x=x\n",
    "        \n",
    "        print(self.x)\n",
    "        \n",
    "    def __str__(self):\n",
    "        return f\"{self.x}\"\n",
    "    \n",
    "    def __add__(self,other):\n",
    "        x=self.x + other.x\n",
    "       \n",
    "        print(x)\n",
    "        return Point(x)\n",
    "    \n",
    "p1 = Point(1000)\n",
    "p2 = Point(1500)\n",
    "p3 = Point(2000)\n",
    "p = p1+p2+p3\n",
    "print(p)\n",
    "print(type(p))"
   ]
  },
  {
   "cell_type": "code",
   "execution_count": 2,
   "id": "5c960d06",
   "metadata": {},
   "outputs": [
    {
     "name": "stdout",
     "output_type": "stream",
     "text": [
      "Enter name = Ram\n",
      "Enter age = 23\n",
      "Enter add = ktm\n",
      "Hello World I am Ram. I am from ktm. I am 23 years old\n"
     ]
    }
   ],
   "source": [
    "# inheritance\n",
    "class Data:\n",
    "    def  __init__(self,name,age,add):\n",
    "        self.name = name\n",
    "        self.age = age\n",
    "        self.add = add\n",
    "        \n",
    "class Information(Data):\n",
    "    def output(self):\n",
    "        info = f\"Hello World I am {self.name}. I am from {self.add}. I am {self.age} years old\"\n",
    "        print(info)\n",
    "        \n",
    "name = input(\"Enter name = \")\n",
    "age = int(input(\"Enter age = \"))\n",
    "add = input(\"Enter add = \")\n",
    "obj = Information(name,age,add)\n",
    "obj.output()"
   ]
  },
  {
   "cell_type": "code",
   "execution_count": 5,
   "id": "c80e852b",
   "metadata": {},
   "outputs": [
    {
     "name": "stdout",
     "output_type": "stream",
     "text": [
      "Enter name = ram\n",
      "Enter age = 23\n",
      "Enter add = ktm\n",
      "Hello World I am ram. I am from ktm. I am 23 years old\n"
     ]
    }
   ],
   "source": [
    "# inheritance\n",
    "class Data:\n",
    "    def  __init__(self):\n",
    "        self.name = input(\"Enter name = \")\n",
    "        self.age = input(\"Enter age = \")\n",
    "        self.add = input(\"Enter add = \")\n",
    "        \n",
    "class Information(Data):\n",
    "    def output(self):\n",
    "        info = f\"Hello World I am {self.name}. I am from {self.add}. I am {self.age} years old\"\n",
    "        print(info)\n",
    "        \n",
    "\n",
    "obj = Information()\n",
    "obj.output()\n",
    "#obj1 = Data()\n",
    "#print(obj1.name,obj.age,obj1.add)"
   ]
  },
  {
   "cell_type": "code",
   "execution_count": 7,
   "id": "41b02061",
   "metadata": {},
   "outputs": [
    {
     "name": "stdout",
     "output_type": "stream",
     "text": [
      "This is class A\n",
      "This is class B\n",
      "This is class C\n"
     ]
    }
   ],
   "source": [
    "# multi level inheritance\n",
    "class A:\n",
    "    print(\"This is class A\")\n",
    "class B(A):\n",
    "    print(\"This is class B\")\n",
    "class C(B):\n",
    "    print(\"This is class C\")\n",
    "obj = C()"
   ]
  },
  {
   "cell_type": "code",
   "execution_count": 16,
   "id": "68f65aef",
   "metadata": {},
   "outputs": [
    {
     "name": "stdout",
     "output_type": "stream",
     "text": [
      "Kathmandu\n",
      "Ram\n",
      "23\n"
     ]
    }
   ],
   "source": [
    "# multi level inheritance\n",
    "class A:\n",
    "    def __init__(self,name):\n",
    "        self.name = name\n",
    "        \n",
    "class B(A):\n",
    "    def __init__(self,name,age):\n",
    "        self.age = age\n",
    "        A.__init__(self,name)\n",
    "        print(self.name)\n",
    "    \n",
    "class C(B):\n",
    "    def __init__(self,name,age,add):\n",
    "        self.add = add\n",
    "        print(self.add)\n",
    "        B.__init__(self,name,age)\n",
    "        print(self.age)\n",
    "            \n",
    "      \n",
    "obj = C(\"Ram\",23,\"Kathmandu\")\n"
   ]
  },
  {
   "cell_type": "code",
   "execution_count": 20,
   "id": "66beea44",
   "metadata": {},
   "outputs": [
    {
     "name": "stdout",
     "output_type": "stream",
     "text": [
      "Hello I am Ram. I am from Kathmandu. I am 23.\n"
     ]
    }
   ],
   "source": [
    "# multiple inheritance\n",
    "class A:\n",
    "    def __init__(self,name):\n",
    "        self.name = name\n",
    "        \n",
    "class B:\n",
    "    def __init__(self,age):\n",
    "        self.age = age\n",
    "        \n",
    "    \n",
    "class C(A,B):\n",
    "    def __init__(self,name,age,add):\n",
    "        self.add = add\n",
    "        A.__init__(self,name)\n",
    "        B.__init__(self,age)\n",
    "        \n",
    "    def info(self):    \n",
    "        info = f\"Hello I am {self.name}. I am from {self.add}. I am {self.age}.\"\n",
    "        print(info)\n",
    "            \n",
    "      \n",
    "obj = C(\"Ram\",23,\"Kathmandu\")\n",
    "obj.info()"
   ]
  },
  {
   "cell_type": "code",
   "execution_count": null,
   "id": "ba4c9d4f",
   "metadata": {},
   "outputs": [],
   "source": [
    "# multiple inheritance\n",
    "class A:\n",
    "    def __init__(self):\n",
    "        self.name = input(\"Enter name= \")\n",
    "        \n",
    "        \n",
    "class B:\n",
    "    def __init__(self):\n",
    "        self.age = input(\"Enter age = \")\n",
    "        \n",
    "    \n",
    "class C(A,B):\n",
    "    def __init__(self,add):\n",
    "        self.add = add\n",
    "        A.__init__(self)\n",
    "        B.__init__(self)\n",
    "        \n",
    "    def info(self):    \n",
    "        info = f\"Hello I am {self.name}. I am from {self.add}. I am {self.age}.\"\n",
    "        print(info)\n",
    "            \n",
    "      \n",
    "obj = C(\"Kathmandu\")\n",
    "obj.info()"
   ]
  },
  {
   "cell_type": "code",
   "execution_count": 1,
   "id": "79bb69de",
   "metadata": {},
   "outputs": [
    {
     "name": "stdout",
     "output_type": "stream",
     "text": [
      "Enter name= Ram\n",
      "Enter age = 23\n",
      "Hello I am Ram. Thapa I am from Kathmandu. I am 23.\n"
     ]
    }
   ],
   "source": [
    "# multiple inheritance\n",
    "class A:\n",
    "    def __init__(self):\n",
    "        self.name = input(\"Enter name= \")\n",
    "    def a(self):\n",
    "        last_name=\"Thapa\"\n",
    "        return last_name\n",
    "        \n",
    "        \n",
    "class B:\n",
    "    def __init__(self):\n",
    "        self.age = input(\"Enter age = \")\n",
    "        \n",
    "    \n",
    "class C(A,B):\n",
    "    def __init__(self,add):\n",
    "        self.add = add\n",
    "        A.__init__(self)\n",
    "        B.__init__(self)\n",
    "        \n",
    "    def info(self):    \n",
    "        info = f\"Hello I am {self.name}. {super().a()} I am from {self.add}. I am {self.age}.\"\n",
    "        print(info)\n",
    "            \n",
    "      \n",
    "obj = C(\"Kathmandu\")\n",
    "obj.info()"
   ]
  },
  {
   "cell_type": "code",
   "execution_count": 2,
   "id": "88485b54",
   "metadata": {},
   "outputs": [
    {
     "name": "stdout",
     "output_type": "stream",
     "text": [
      "Enter name= ram\n",
      "Enter age = 23\n",
      "Hello I am ram. I am from Kathmandu. I am 23.\n",
      "Thapa\n"
     ]
    }
   ],
   "source": [
    "# multiple inheritance\n",
    "class A:\n",
    "    def __init__(self):\n",
    "        self.name = input(\"Enter name= \")\n",
    "    def a(self):\n",
    "        last_name=\"Thapa\"\n",
    "        print(last_name)\n",
    "        \n",
    "        \n",
    "class B:\n",
    "    def __init__(self):\n",
    "        self.age = input(\"Enter age = \")\n",
    "        \n",
    "    \n",
    "class C(A,B):\n",
    "    def __init__(self,add):\n",
    "        self.add = add\n",
    "        A.__init__(self)\n",
    "        B.__init__(self)\n",
    "        \n",
    "    def info(self):    \n",
    "        info = f\"Hello I am {self.name}. I am from {self.add}. I am {self.age}.\"\n",
    "        print(info)\n",
    "        super().a()    \n",
    "      \n",
    "obj = C(\"Kathmandu\")\n",
    "obj.info()"
   ]
  },
  {
   "cell_type": "code",
   "execution_count": null,
   "id": "64baa156",
   "metadata": {},
   "outputs": [],
   "source": []
  }
 ],
 "metadata": {
  "kernelspec": {
   "display_name": "Python 3",
   "language": "python",
   "name": "python3"
  },
  "language_info": {
   "codemirror_mode": {
    "name": "ipython",
    "version": 3
   },
   "file_extension": ".py",
   "mimetype": "text/x-python",
   "name": "python",
   "nbconvert_exporter": "python",
   "pygments_lexer": "ipython3",
   "version": "3.8.8"
  }
 },
 "nbformat": 4,
 "nbformat_minor": 5
}
