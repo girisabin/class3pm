{
 "cells": [
  {
   "cell_type": "code",
   "execution_count": 1,
   "id": "8b142b59",
   "metadata": {},
   "outputs": [
    {
     "data": {
      "text/plain": [
       "'Hello World'"
      ]
     },
     "execution_count": 1,
     "metadata": {},
     "output_type": "execute_result"
    }
   ],
   "source": [
    "#strings\n",
    "a=\"Hello World\"\n",
    "a"
   ]
  },
  {
   "cell_type": "code",
   "execution_count": 2,
   "id": "c31c47ff",
   "metadata": {},
   "outputs": [
    {
     "name": "stdout",
     "output_type": "stream",
     "text": [
      "H\n"
     ]
    }
   ],
   "source": [
    "a=\"Hello World\"\n",
    "print(a[0])"
   ]
  },
  {
   "cell_type": "code",
   "execution_count": 3,
   "id": "cad54e8f",
   "metadata": {},
   "outputs": [
    {
     "name": "stdout",
     "output_type": "stream",
     "text": [
      "Hello World\n"
     ]
    }
   ],
   "source": [
    "a=\"Hello World\"\n",
    "print(a[0:])"
   ]
  },
  {
   "cell_type": "code",
   "execution_count": 4,
   "id": "7c3e821b",
   "metadata": {},
   "outputs": [
    {
     "name": "stdout",
     "output_type": "stream",
     "text": [
      "olleH\n"
     ]
    }
   ],
   "source": [
    "a=\"Hello\"\n",
    "print(a[5::-1])"
   ]
  },
  {
   "cell_type": "code",
   "execution_count": 5,
   "id": "f5cea631",
   "metadata": {},
   "outputs": [
    {
     "name": "stdout",
     "output_type": "stream",
     "text": [
      "Hello\n"
     ]
    }
   ],
   "source": [
    "a=\"Hello World\"\n",
    "print(a[0:5])"
   ]
  },
  {
   "cell_type": "code",
   "execution_count": 6,
   "id": "af554da7",
   "metadata": {},
   "outputs": [
    {
     "name": "stdout",
     "output_type": "stream",
     "text": [
      "Hlo\n"
     ]
    }
   ],
   "source": [
    "a=\"Hello World\"\n",
    "print(a[0:5:2])"
   ]
  },
  {
   "cell_type": "code",
   "execution_count": 10,
   "id": "67f811de",
   "metadata": {},
   "outputs": [
    {
     "name": "stdout",
     "output_type": "stream",
     "text": [
      "hello I am Ram I am 23\n"
     ]
    }
   ],
   "source": [
    "#string formatting\n",
    "a=\"Ram\"\n",
    "b=23\n",
    "c=f\"hello I am {a} I am {b}\"\n",
    "print(c)"
   ]
  },
  {
   "cell_type": "code",
   "execution_count": 11,
   "id": "d6ff1192",
   "metadata": {},
   "outputs": [
    {
     "data": {
      "text/plain": [
       "'HELLO WORLD'"
      ]
     },
     "execution_count": 11,
     "metadata": {},
     "output_type": "execute_result"
    }
   ],
   "source": [
    "a=\"Hello WOrld\"\n",
    "a.upper()\n"
   ]
  },
  {
   "cell_type": "code",
   "execution_count": 13,
   "id": "d8b96b4a",
   "metadata": {},
   "outputs": [
    {
     "name": "stdout",
     "output_type": "stream",
     "text": [
      "hello world\n"
     ]
    }
   ],
   "source": [
    "a=\"Hello WOrld\"\n",
    "print(a.lower())"
   ]
  },
  {
   "cell_type": "code",
   "execution_count": 19,
   "id": "45ce7bf0",
   "metadata": {},
   "outputs": [
    {
     "name": "stdout",
     "output_type": "stream",
     "text": [
      "Enter the no. of things you want to buy=1\n",
      "Enter product name=coke\n",
      "Enter unit price=150\n",
      "Enter unit quantity=2\n",
      "the billing is \n",
      " coke 150 2 300\n",
      "\n",
      "the total price is 300\n"
     ]
    }
   ],
   "source": [
    "info=\"\"\n",
    "add=0\n",
    "n=int(input(\"Enter the no. of things you want to buy=\"))\n",
    "for i in range(n):\n",
    "    name=input(\"Enter product name=\")\n",
    "    price=int(input(\"Enter unit price=\"))\n",
    "    quantity=int(input(\"Enter unit quantity=\"))\n",
    "    \n",
    "    total=price*quantity\n",
    "    s=f\"{name} {price} {quantity} {total}\\n\"\n",
    "    info=info+s\n",
    "    add=add+total\n",
    "    \n",
    "    print(\"the billing is \\n\",info)\n",
    "    print(\"the total price is\",add)\n"
   ]
  },
  {
   "cell_type": "code",
   "execution_count": 28,
   "id": "0ad83e1d",
   "metadata": {},
   "outputs": [
    {
     "name": "stdout",
     "output_type": "stream",
     "text": [
      "NO\n"
     ]
    }
   ],
   "source": [
    "a=\"Hello World I am python\".lower()\n",
    "if \"z\".lower() in a:\n",
    "    print(\"YES\")\n",
    "else:\n",
    "    print(\"NO\")"
   ]
  },
  {
   "cell_type": "code",
   "execution_count": 29,
   "id": "88f2920e",
   "metadata": {},
   "outputs": [
    {
     "name": "stdout",
     "output_type": "stream",
     "text": [
      "Enter the value you want to search=hello\n",
      "yes\n",
      "1\n"
     ]
    }
   ],
   "source": [
    "a=\"Hello World I am python\"\n",
    "x=a.lower()\n",
    "b=input(\"Enter the value you want to search=\")\n",
    "y=b.lower()\n",
    "if y in x:\n",
    "    print(\"yes\")\n",
    "    print(x.count(y))\n",
    "else:\n",
    "    print(\"INvalid input or doesnot match!!!!\")"
   ]
  },
  {
   "cell_type": "code",
   "execution_count": 34,
   "id": "076377f0",
   "metadata": {},
   "outputs": [
    {
     "data": {
      "text/plain": [
       "'Hello World I am python'"
      ]
     },
     "execution_count": 34,
     "metadata": {},
     "output_type": "execute_result"
    }
   ],
   "source": [
    "#replace\n",
    "a=\"Hello World I am python\"\n",
    "b=a.replace(\"Python\",\"PYTHON\")\n",
    "b"
   ]
  },
  {
   "cell_type": "code",
   "execution_count": 38,
   "id": "c63db176",
   "metadata": {},
   "outputs": [
    {
     "name": "stdout",
     "output_type": "stream",
     "text": [
      "Enter the value you want to search=o\n",
      "yes\n",
      "Enter the value you want to replace=ty\n",
      "hellty wtyrld i am pythtyn\n"
     ]
    }
   ],
   "source": [
    "a=\"Hello World I am python\"\n",
    "x=a.lower()\n",
    "b=input(\"Enter the value you want to search=\")\n",
    "y=b.lower()\n",
    "if y in x:\n",
    "    print(\"yes\")\n",
    "    c=input(\"Enter the value you want to replace=\")\n",
    "    s=x.replace(y,c)\n",
    "    print(s)\n",
    "    \n",
    "else:\n",
    "    print(\"Invalid input or doesnot match!!!!\")\n",
    "    "
   ]
  },
  {
   "cell_type": "code",
   "execution_count": 2,
   "id": "0adeb913",
   "metadata": {},
   "outputs": [
    {
     "name": "stdout",
     "output_type": "stream",
     "text": [
      "['Apple', 'Ball', 'Cat', 'Dog']\n",
      "['Apple', 'Ball', 'Cat', 1, 2, 3, 4, 5]\n"
     ]
    }
   ],
   "source": [
    "a=[\"Apple\",\"Ball\",\"Cat\"]\n",
    "b=[1,2,3,4,5]\n",
    "c=[\"Dog\"]\n",
    "print(a+c)\n",
    "print(a+b)"
   ]
  },
  {
   "cell_type": "code",
   "execution_count": 3,
   "id": "a8828f26",
   "metadata": {},
   "outputs": [
    {
     "data": {
      "text/plain": [
       "'Apple'"
      ]
     },
     "execution_count": 3,
     "metadata": {},
     "output_type": "execute_result"
    }
   ],
   "source": [
    "a=[\"Apple\",\"Ball\",\"Cat\"]\n",
    "a[0]"
   ]
  },
  {
   "cell_type": "code",
   "execution_count": 12,
   "id": "82d7278a",
   "metadata": {},
   "outputs": [
    {
     "name": "stdout",
     "output_type": "stream",
     "text": [
      "['Apple', 'Cat']\n",
      "['Apple', 'Ball', 'Cat', 'Apple', 'Ball', 'Cat']\n",
      "False\n"
     ]
    }
   ],
   "source": [
    "a=[\"Apple\",\"Ball\",\"Cat\"]\n",
    "\n",
    "print(a[0:122:2])\n",
    "print(a*2)\n",
    "print(a[0]==\"Append\")"
   ]
  },
  {
   "cell_type": "code",
   "execution_count": 15,
   "id": "83ef2fff",
   "metadata": {},
   "outputs": [
    {
     "name": "stdout",
     "output_type": "stream",
     "text": [
      "hello World\n",
      "Hello World\n"
     ]
    }
   ],
   "source": [
    "a=\"Hello World\"\n",
    "b=a.replace(\"Hello\",\"hello\")\n",
    "print(b)\n",
    "print(a)"
   ]
  },
  {
   "cell_type": "code",
   "execution_count": 22,
   "id": "07fcd259",
   "metadata": {},
   "outputs": [
    {
     "name": "stdout",
     "output_type": "stream",
     "text": [
      "[('Apple', 'Ball')]\n"
     ]
    }
   ],
   "source": [
    "x=[]\n",
    "a=\"Apple\",\"Ball\"\n",
    "b=\"Ball\"\n",
    "c=x+[a]\n",
    "print(c)\n"
   ]
  },
  {
   "cell_type": "code",
   "execution_count": 28,
   "id": "0cbdf619",
   "metadata": {},
   "outputs": [
    {
     "name": "stdout",
     "output_type": "stream",
     "text": [
      "Enter n= 5\n",
      "Enter value for insert in x[]= 1\n",
      "Enter value for insert in x[]= 2\n",
      "Enter value for insert in x[]= 3\n",
      "Enter value for insert in x[]= 4\n",
      "Enter value for insert in x[]= 5\n",
      "[1, 2, 3, 4, 5]\n",
      "The sum is=  15\n",
      "The Max is=  5\n",
      "The Min is=  1\n"
     ]
    }
   ],
   "source": [
    "x=[]\n",
    "n=int(input(\"Enter n= \"))\n",
    "for i in range(n):\n",
    "    a=int(input(\"Enter value for insert in x[]= \"))\n",
    "    x.append(a)\n",
    "print(x)\n",
    "print(\"The sum is= \",sum(x))\n",
    "print(\"The Max is= \",max(x))\n",
    "\n",
    "print(\"The Min is= \",min(x))"
   ]
  },
  {
   "cell_type": "code",
   "execution_count": 29,
   "id": "50643e31",
   "metadata": {},
   "outputs": [
    {
     "name": "stdout",
     "output_type": "stream",
     "text": [
      "Apple\n",
      "Ball\n",
      "Cat\n"
     ]
    }
   ],
   "source": [
    "a=[\"Apple\",\"Ball\",\"Cat\"]\n",
    "for i in a:\n",
    "    print(i)"
   ]
  },
  {
   "cell_type": "code",
   "execution_count": 30,
   "id": "6533faf5",
   "metadata": {},
   "outputs": [
    {
     "name": "stdout",
     "output_type": "stream",
     "text": [
      "Yes\n"
     ]
    }
   ],
   "source": [
    "a=[\"Apple\",\"Ball\",\"Cat\"]\n",
    "b=\"Apple\"\n",
    "if b in a:\n",
    "    print(\"Yes\")"
   ]
  },
  {
   "cell_type": "code",
   "execution_count": 5,
   "id": "6f5560f9",
   "metadata": {},
   "outputs": [
    {
     "name": "stdout",
     "output_type": "stream",
     "text": [
      "Enter b=apple\n",
      "Apple\n",
      "APPLE\n",
      "2\n"
     ]
    }
   ],
   "source": [
    "c=0\n",
    "a=[\"Apple\",\"Ball\",\"Cat\",\"APPLE\"]\n",
    "b=input(\"Enter b=\")\n",
    "for i in a:\n",
    "    if i.lower()==b.lower():\n",
    "        c=c+1\n",
    "        print(i)\n",
    "        \n",
    "print(c)       "
   ]
  },
  {
   "cell_type": "code",
   "execution_count": 9,
   "id": "75b54d05",
   "metadata": {},
   "outputs": [
    {
     "data": {
      "text/plain": [
       "['Apple', 'Ball', 'Zoo', 'Cat', 'APPLE']"
      ]
     },
     "execution_count": 9,
     "metadata": {},
     "output_type": "execute_result"
    }
   ],
   "source": [
    "a=[\"Apple\",\"Ball\",\"Cat\",\"APPLE\"]\n",
    "a.insert(2,\"Zoo\")\n",
    "a"
   ]
  },
  {
   "cell_type": "code",
   "execution_count": 7,
   "id": "0c9461bf",
   "metadata": {},
   "outputs": [
    {
     "data": {
      "text/plain": [
       "['Apple', 'APPLE']"
      ]
     },
     "execution_count": 7,
     "metadata": {},
     "output_type": "execute_result"
    }
   ],
   "source": [
    "a=[\"Apple\",\"Ball\",\"Cat\",\"APPLE\"]\n",
    "del a[1:3:1]\n",
    "a\n",
    "\n",
    "\n"
   ]
  },
  {
   "cell_type": "code",
   "execution_count": 8,
   "id": "40173e91",
   "metadata": {},
   "outputs": [
    {
     "data": {
      "text/plain": [
       "['Apple', 'Ball', 'Cat']"
      ]
     },
     "execution_count": 8,
     "metadata": {},
     "output_type": "execute_result"
    }
   ],
   "source": [
    "a=[\"Apple\",\"Ball\",\"Cat\",\"APPLE\"]\n",
    "a.remove(\"APPLE\")\n",
    "a"
   ]
  },
  {
   "cell_type": "code",
   "execution_count": 15,
   "id": "78f9df44",
   "metadata": {},
   "outputs": [
    {
     "name": "stdout",
     "output_type": "stream",
     "text": [
      "2\n",
      "['Ball', 'Cat', 'Apple']\n",
      "['Ball', 'Cat']\n"
     ]
    }
   ],
   "source": [
    "a=[\"Apple\",\"Ball\",\"Cat\",\"Apple\"]\n",
    "b=\"Apple\"\n",
    "c=a.count(b)\n",
    "print(c)\n",
    "for i in range(0,2):\n",
    "    if b in a:\n",
    "        a.remove(b)\n",
    "    print(a)    "
   ]
  },
  {
   "cell_type": "code",
   "execution_count": 19,
   "id": "bc3b0c75",
   "metadata": {},
   "outputs": [
    {
     "name": "stdout",
     "output_type": "stream",
     "text": [
      "['Ball', 'Cat']\n"
     ]
    }
   ],
   "source": [
    "x=[]\n",
    "a=[\"Apple\",\"Ball\",\"Cat\",\"Apple\"]\n",
    "b=\"Apple\"\n",
    "l=len(a)\n",
    "for i in range(l):\n",
    "    if b!=a[i]:\n",
    "        x.append(a[i])\n",
    "print(x) "
   ]
  },
  {
   "cell_type": "code",
   "execution_count": 26,
   "id": "5532d962",
   "metadata": {},
   "outputs": [
    {
     "data": {
      "text/plain": [
       "['Apple', 'Cat', 'Apple']"
      ]
     },
     "execution_count": 26,
     "metadata": {},
     "output_type": "execute_result"
    }
   ],
   "source": [
    "a=[\"Apple\",\"Ball\",\"Cat\",\"Apple\"]\n",
    "b=a.pop(1)\n",
    "a\n",
    "\n"
   ]
  },
  {
   "cell_type": "code",
   "execution_count": 28,
   "id": "dd68b423",
   "metadata": {},
   "outputs": [
    {
     "data": {
      "text/plain": [
       "1"
      ]
     },
     "execution_count": 28,
     "metadata": {},
     "output_type": "execute_result"
    }
   ],
   "source": [
    "a=[\"Apple\",\"Ball\",\"Cat\",\"Apple\"]\n",
    "a.index(\"Ball\")\n"
   ]
  },
  {
   "cell_type": "code",
   "execution_count": 32,
   "id": "ade94206",
   "metadata": {},
   "outputs": [
    {
     "name": "stdout",
     "output_type": "stream",
     "text": [
      "0\n",
      "5\n"
     ]
    }
   ],
   "source": [
    "a = ['Apple',\"fish\", 'Ball', 'Cat', 'Dog',\"Apple\"]\n",
    "for i in range(len(a)):\n",
    "    if \"Apple\"==a[i]:\n",
    "        print(i)"
   ]
  },
  {
   "cell_type": "code",
   "execution_count": 34,
   "id": "8918988f",
   "metadata": {},
   "outputs": [
    {
     "name": "stdout",
     "output_type": "stream",
     "text": [
      "Enter n= 2\n",
      "Enter name=coke\n",
      "Enter price=150\n",
      "Enter quantity=2\n",
      "Enter name=fanta\n",
      "Enter price=150\n",
      "Enter quantity=2\n",
      "The billing is \n",
      " coke 150 2 300 \n",
      "fanta 150 2 300 \n",
      "\n",
      "The total price is  300\n"
     ]
    }
   ],
   "source": [
    "info=\"\"\n",
    "add=0\n",
    "n=int(input(\"Enter n= \"))\n",
    "for i in range(n):\n",
    "    name=input(\"Enter name=\")\n",
    "    price=int(input(\"Enter price=\"))\n",
    "    quantity=int(input(\"Enter quantity=\"))\n",
    "    total=price*quantity\n",
    "    s=f\"{name} {price} {quantity} {total} \\n\"\n",
    "    info=info+s\n",
    "    add=add+total\n",
    "    \n",
    "print(\"The billing is \\n\",info)\n",
    "print(\"The total price is \",add)\n",
    "    \n",
    "    \n",
    "    \n",
    "    \n",
    "    "
   ]
  },
  {
   "cell_type": "code",
   "execution_count": 35,
   "id": "43c0e8e9",
   "metadata": {},
   "outputs": [
    {
     "data": {
      "text/plain": [
       "['coke 150 2 300 ', 'fanta 150 2 300 ', '']"
      ]
     },
     "execution_count": 35,
     "metadata": {},
     "output_type": "execute_result"
    }
   ],
   "source": [
    "info.split('\\n')"
   ]
  },
  {
   "cell_type": "code",
   "execution_count": 37,
   "id": "759542ca",
   "metadata": {},
   "outputs": [
    {
     "name": "stdout",
     "output_type": "stream",
     "text": [
      "Enter n= 2\n",
      "Enter name=coke\n",
      "Enter price=150\n",
      "Enter quantity=2\n",
      "Enter name=fanta\n",
      "Enter price=150\n",
      "Enter quantity=2\n",
      "The billing is \n",
      " [['coke', 150, 2, 300], ['fanta', 150, 2, 300]]\n",
      "The total price is  600\n"
     ]
    }
   ],
   "source": [
    "info=[]\n",
    "add=0\n",
    "n=int(input(\"Enter n= \"))\n",
    "for i in range(n):\n",
    "    name=input(\"Enter name=\")\n",
    "    price=int(input(\"Enter price=\"))\n",
    "    quantity=int(input(\"Enter quantity=\"))\n",
    "    total=price*quantity\n",
    "    data=[name,price,quantity,total]\n",
    "    info.append(data)\n",
    "    add=add+total\n",
    "    \n",
    "print(\"The billing is \\n\",info)\n",
    "print(\"The total price is \",add)\n",
    "    "
   ]
  },
  {
   "cell_type": "code",
   "execution_count": 38,
   "id": "63711ec3",
   "metadata": {},
   "outputs": [
    {
     "data": {
      "text/plain": [
       "[1, 2, 3]"
      ]
     },
     "execution_count": 38,
     "metadata": {},
     "output_type": "execute_result"
    }
   ],
   "source": [
    "a=[[1,2,3],\n",
    "   [4,5,6],\n",
    "   [7,8,9]]\n",
    "a[0]"
   ]
  },
  {
   "cell_type": "code",
   "execution_count": 39,
   "id": "4ef05633",
   "metadata": {},
   "outputs": [
    {
     "data": {
      "text/plain": [
       "1"
      ]
     },
     "execution_count": 39,
     "metadata": {},
     "output_type": "execute_result"
    }
   ],
   "source": [
    "a[0][0]"
   ]
  },
  {
   "cell_type": "code",
   "execution_count": 40,
   "id": "d13f952d",
   "metadata": {},
   "outputs": [
    {
     "data": {
      "text/plain": [
       "5"
      ]
     },
     "execution_count": 40,
     "metadata": {},
     "output_type": "execute_result"
    }
   ],
   "source": [
    "a[1][1]"
   ]
  },
  {
   "cell_type": "code",
   "execution_count": 48,
   "id": "ce4e3732",
   "metadata": {},
   "outputs": [
    {
     "name": "stdout",
     "output_type": "stream",
     "text": [
      "coke 150 2 300.fanta 150 2 300\n",
      "['coke 150 2 300', 'fanta 150 2 300']\n",
      "[['coke', '150', '2', '300'], ['fanta', '150', '2', '300']]\n"
     ]
    }
   ],
   "source": [
    "info='coke 150 2 300.fanta 150 2 300'\n",
    "print(info)\n",
    "x=info.split('.')\n",
    "print(x)\n",
    "o=[]\n",
    "for i in x:\n",
    "    y=i.split()\n",
    "    o.append(y)\n",
    "print(o)    \n"
   ]
  },
  {
   "cell_type": "code",
   "execution_count": 5,
   "id": "e883a8ae",
   "metadata": {},
   "outputs": [
    {
     "name": "stdout",
     "output_type": "stream",
     "text": [
      "['Ball', 'Cat', 'Dog']\n"
     ]
    }
   ],
   "source": [
    "# remove()\n",
    "x=[]\n",
    "a = ['Apple', 'Ball', 'Cat', 'Dog',\"Apple\"]\n",
    "b=\"Apple\"\n",
    "l=len(a)\n",
    "for i in range(l):\n",
    "    if b!=a[i]:\n",
    "        x.append(a[i])\n",
    "print(x)        \n",
    "        "
   ]
  },
  {
   "cell_type": "code",
   "execution_count": 1,
   "id": "a910b15a",
   "metadata": {},
   "outputs": [
    {
     "name": "stdout",
     "output_type": "stream",
     "text": [
      "<class 'tuple'>\n",
      "<class 'tuple'>\n"
     ]
    }
   ],
   "source": [
    "# tuples\n",
    "a=(1,2,3)\n",
    "b=(\"Apple\",\"Ball\",\"Cat\")\n",
    "print(type(a))\n",
    "print(type(b))"
   ]
  },
  {
   "cell_type": "code",
   "execution_count": 3,
   "id": "f51d4e2b",
   "metadata": {},
   "outputs": [
    {
     "name": "stdout",
     "output_type": "stream",
     "text": [
      "<class 'tuple'>\n"
     ]
    }
   ],
   "source": [
    "a=(\"apple\",)\n",
    "print(type(a))"
   ]
  },
  {
   "cell_type": "code",
   "execution_count": 5,
   "id": "045024a1",
   "metadata": {},
   "outputs": [
    {
     "name": "stdout",
     "output_type": "stream",
     "text": [
      "('Apple',)\n"
     ]
    }
   ],
   "source": [
    "a=tuple()\n",
    "b=(\"Apple\",)\n",
    "c=a+b\n",
    "print(c)"
   ]
  },
  {
   "cell_type": "code",
   "execution_count": 6,
   "id": "3242ba1a",
   "metadata": {},
   "outputs": [
    {
     "name": "stdout",
     "output_type": "stream",
     "text": [
      "Enter n= 2\n",
      "Enter x= apple\n",
      "Enter x= ball\n",
      "('apple', 'ball')\n"
     ]
    }
   ],
   "source": [
    "a=tuple()\n",
    "n=int(input(\"Enter n= \"))\n",
    "for i in range(n):\n",
    "    x=input(\"Enter x= \")\n",
    "    a=a+(x,)\n",
    "print(a)    \n",
    "    "
   ]
  },
  {
   "cell_type": "code",
   "execution_count": 10,
   "id": "4aeb7bf4",
   "metadata": {},
   "outputs": [
    {
     "name": "stdout",
     "output_type": "stream",
     "text": [
      "[1, 2, 3, 4, 5, 6]\n",
      "(1, 3, 4, 2, 6, 5)\n"
     ]
    }
   ],
   "source": [
    "a=(1,3,4,2,6,5)\n",
    "b=sorted(a)\n",
    "print(b)\n",
    "print(a)"
   ]
  },
  {
   "cell_type": "code",
   "execution_count": 11,
   "id": "59868414",
   "metadata": {},
   "outputs": [
    {
     "data": {
      "text/plain": [
       "(1, 3, 5)"
      ]
     },
     "execution_count": 11,
     "metadata": {},
     "output_type": "execute_result"
    }
   ],
   "source": [
    "c=(1,2,3,4,5,6)\n",
    "c[0:222:2]"
   ]
  },
  {
   "cell_type": "code",
   "execution_count": 13,
   "id": "b6884922",
   "metadata": {},
   "outputs": [
    {
     "name": "stdout",
     "output_type": "stream",
     "text": [
      "6\n"
     ]
    },
    {
     "data": {
      "text/plain": [
       "(6, 5, 4, 3, 2, 1)"
      ]
     },
     "execution_count": 13,
     "metadata": {},
     "output_type": "execute_result"
    }
   ],
   "source": [
    "c=(1,2,3,4,5,6)\n",
    "print(len(c))\n",
    "c[5::-1]"
   ]
  },
  {
   "cell_type": "code",
   "execution_count": 15,
   "id": "b98aa67a",
   "metadata": {},
   "outputs": [
    {
     "data": {
      "text/plain": [
       "[1, 2, 3, 4, 5, 6]"
      ]
     },
     "execution_count": 15,
     "metadata": {},
     "output_type": "execute_result"
    }
   ],
   "source": [
    "c=(1,2,3,4,5,6)\n",
    "d=list(c)\n",
    "d"
   ]
  },
  {
   "cell_type": "code",
   "execution_count": 16,
   "id": "16b69c59",
   "metadata": {},
   "outputs": [
    {
     "data": {
      "text/plain": [
       "(10, 20)"
      ]
     },
     "execution_count": 16,
     "metadata": {},
     "output_type": "execute_result"
    }
   ],
   "source": [
    "def cal():\n",
    "    a=10\n",
    "    b=20\n",
    "    return a,b\n",
    "cal()"
   ]
  },
  {
   "cell_type": "code",
   "execution_count": 19,
   "id": "5db6125a",
   "metadata": {},
   "outputs": [
    {
     "data": {
      "text/plain": [
       "[2, 3, 4, 5, 6]"
      ]
     },
     "execution_count": 19,
     "metadata": {},
     "output_type": "execute_result"
    }
   ],
   "source": [
    "c=(1,2,3,4,5,6)\n",
    "o=list(c)\n",
    "del o[0]\n",
    "o\n"
   ]
  },
  {
   "cell_type": "code",
   "execution_count": 21,
   "id": "f3570255",
   "metadata": {},
   "outputs": [
    {
     "name": "stdout",
     "output_type": "stream",
     "text": [
      "21\n",
      "6\n",
      "1\n"
     ]
    }
   ],
   "source": [
    "c=(1,2,3,4,5,6)\n",
    "print(sum(c))\n",
    "print(max(c))\n",
    "print(min(c))"
   ]
  },
  {
   "cell_type": "code",
   "execution_count": 23,
   "id": "d4b10143",
   "metadata": {},
   "outputs": [
    {
     "ename": "AttributeError",
     "evalue": "'tuple' object has no attribute 'append'",
     "output_type": "error",
     "traceback": [
      "\u001b[1;31m---------------------------------------------------------------------------\u001b[0m",
      "\u001b[1;31mAttributeError\u001b[0m                            Traceback (most recent call last)",
      "\u001b[1;32m<ipython-input-23-d93165faa889>\u001b[0m in \u001b[0;36m<module>\u001b[1;34m\u001b[0m\n\u001b[0;32m      1\u001b[0m \u001b[0mf\u001b[0m\u001b[1;33m=\u001b[0m\u001b[1;33m(\u001b[0m\u001b[1;36m1\u001b[0m\u001b[1;33m,\u001b[0m\u001b[1;36m2\u001b[0m\u001b[1;33m,\u001b[0m\u001b[1;36m3\u001b[0m\u001b[1;33m,\u001b[0m\u001b[1;36m4\u001b[0m\u001b[1;33m,\u001b[0m\u001b[1;36m5\u001b[0m\u001b[1;33m,\u001b[0m\u001b[1;36m6\u001b[0m\u001b[1;33m)\u001b[0m\u001b[1;33m\u001b[0m\u001b[1;33m\u001b[0m\u001b[0m\n\u001b[1;32m----> 2\u001b[1;33m \u001b[0mf\u001b[0m\u001b[1;33m.\u001b[0m\u001b[0mappend\u001b[0m\u001b[1;33m(\u001b[0m\u001b[1;36m7\u001b[0m\u001b[1;33m)\u001b[0m\u001b[1;33m\u001b[0m\u001b[1;33m\u001b[0m\u001b[0m\n\u001b[0m",
      "\u001b[1;31mAttributeError\u001b[0m: 'tuple' object has no attribute 'append'"
     ]
    }
   ],
   "source": [
    "f=(1,2,3,4,5,6)\n",
    "f.append(7)"
   ]
  },
  {
   "cell_type": "code",
   "execution_count": 25,
   "id": "e6de779e",
   "metadata": {},
   "outputs": [
    {
     "data": {
      "text/plain": [
       "[2, 3, 4, 5, 6, 7]"
      ]
     },
     "execution_count": 25,
     "metadata": {},
     "output_type": "execute_result"
    }
   ],
   "source": [
    "v=[2, 3, 4, 5, 6]\n",
    "v.append(7)\n",
    "v"
   ]
  },
  {
   "cell_type": "code",
   "execution_count": 2,
   "id": "703a091f",
   "metadata": {},
   "outputs": [
    {
     "name": "stdout",
     "output_type": "stream",
     "text": [
      "Enter search data=  fanta\n",
      "['fanta', '150', '2', '300']\n"
     ]
    }
   ],
   "source": [
    "# Search\n",
    "a = [['coke', '150', '2', '300'], ['fanta', '150', '2', '300']]\n",
    "b=input(\"Enter search data=  \")\n",
    "for i in a:\n",
    "    if b in i:\n",
    "        \n",
    "        print(i)"
   ]
  },
  {
   "cell_type": "code",
   "execution_count": null,
   "id": "52ebec9d",
   "metadata": {},
   "outputs": [],
   "source": [
    "# Delete\n",
    "a = [['coke', '150', '2', '300'], ['fanta', '150', '2', '300']]\n",
    "b=input(\"Enter search data=  \")\n",
    "for i in a:\n",
    "    if b in i:\n",
    "        a.remove(i)\n",
    "print(a)        "
   ]
  },
  {
   "cell_type": "code",
   "execution_count": 1,
   "id": "ebe8c11b",
   "metadata": {},
   "outputs": [
    {
     "name": "stdout",
     "output_type": "stream",
     "text": [
      "Enter n= 2\n",
      "Enter name = Ram\n",
      "Enter age= 21\n",
      "Enter address= Ktm\n",
      "Enter name = Shyam\n",
      "Enter age= 22\n",
      "Enter address= Palpa\n",
      "(('Ram', 21, 'Ktm'), ('Shyam', 22, 'Palpa'))\n"
     ]
    }
   ],
   "source": [
    "# tuple inside tuple\n",
    "t=()\n",
    "n=int(input(\"Enter n= \"))\n",
    "for i in range(n):\n",
    "    name=str(input(\"Enter name = \"))\n",
    "    age=int(input(\"Enter age= \"))\n",
    "    address=input(\"Enter address= \")\n",
    "    x= (name,age,address)\n",
    "    t=t+(x,)\n",
    "print(t)    \n",
    "    "
   ]
  },
  {
   "cell_type": "code",
   "execution_count": 13,
   "id": "5749e2a9",
   "metadata": {},
   "outputs": [
    {
     "data": {
      "text/plain": [
       "(('Ram', 21, 'Ktm'), ('Shyam', 22, 'Palpa'), ('kalu', 43, 'pop'))"
      ]
     },
     "execution_count": 13,
     "metadata": {},
     "output_type": "execute_result"
    }
   ],
   "source": [
    "a = (('Ram', 21, 'Ktm'), ('Shyam', 22, 'Palpa'))\n",
    "b=(\"kalu\",43,\"pop\")\n",
    "a=a+(b,)\n",
    "a\n"
   ]
  },
  {
   "cell_type": "code",
   "execution_count": 9,
   "id": "5e2f9c14",
   "metadata": {},
   "outputs": [
    {
     "ename": "TypeError",
     "evalue": "'tuple' object does not support item assignment",
     "output_type": "error",
     "traceback": [
      "\u001b[1;31m---------------------------------------------------------------------------\u001b[0m",
      "\u001b[1;31mTypeError\u001b[0m                                 Traceback (most recent call last)",
      "\u001b[1;32m<ipython-input-9-1b5d83f41e89>\u001b[0m in \u001b[0;36m<module>\u001b[1;34m\u001b[0m\n\u001b[0;32m      1\u001b[0m \u001b[1;31m# tuple inside list\u001b[0m\u001b[1;33m\u001b[0m\u001b[1;33m\u001b[0m\u001b[1;33m\u001b[0m\u001b[0m\n\u001b[0;32m      2\u001b[0m \u001b[0ma\u001b[0m \u001b[1;33m=\u001b[0m\u001b[1;33m[\u001b[0m\u001b[1;33m(\u001b[0m\u001b[1;34m'Ram'\u001b[0m\u001b[1;33m,\u001b[0m \u001b[1;36m21\u001b[0m\u001b[1;33m,\u001b[0m \u001b[1;34m'Ktm'\u001b[0m\u001b[1;33m)\u001b[0m\u001b[1;33m,\u001b[0m \u001b[1;33m(\u001b[0m\u001b[1;34m'Shyam'\u001b[0m\u001b[1;33m,\u001b[0m \u001b[1;36m22\u001b[0m\u001b[1;33m,\u001b[0m \u001b[1;34m'Palpa'\u001b[0m\u001b[1;33m)\u001b[0m\u001b[1;33m]\u001b[0m\u001b[1;33m\u001b[0m\u001b[1;33m\u001b[0m\u001b[0m\n\u001b[1;32m----> 3\u001b[1;33m \u001b[0ma\u001b[0m\u001b[1;33m[\u001b[0m\u001b[1;36m0\u001b[0m\u001b[1;33m]\u001b[0m\u001b[1;33m[\u001b[0m\u001b[1;36m0\u001b[0m\u001b[1;33m]\u001b[0m\u001b[1;33m=\u001b[0m\u001b[1;34m\"Rama\"\u001b[0m\u001b[1;33m\u001b[0m\u001b[1;33m\u001b[0m\u001b[0m\n\u001b[0m\u001b[0;32m      4\u001b[0m \u001b[0ma\u001b[0m\u001b[1;33m\u001b[0m\u001b[1;33m\u001b[0m\u001b[0m\n",
      "\u001b[1;31mTypeError\u001b[0m: 'tuple' object does not support item assignment"
     ]
    }
   ],
   "source": [
    "# tuple inside list\n",
    "a =[('Ram', 21, 'Ktm'), ('Shyam', 22, 'Palpa')]\n",
    "a[0][0]=\"Rama\"\n",
    "a\n"
   ]
  },
  {
   "cell_type": "code",
   "execution_count": 14,
   "id": "f083589f",
   "metadata": {},
   "outputs": [
    {
     "data": {
      "text/plain": [
       "[('Ram', 21, 'Ktm'), ('Shyam', 22, 'Palpa'), ('kalu', 56, 'lol')]"
      ]
     },
     "execution_count": 14,
     "metadata": {},
     "output_type": "execute_result"
    }
   ],
   "source": [
    "a =[('Ram', 21, 'Ktm'), ('Shyam', 22, 'Palpa')]\n",
    "a.append((\"kalu\",56,\"lol\"))\n",
    "a"
   ]
  },
  {
   "cell_type": "code",
   "execution_count": 15,
   "id": "c7f86c69",
   "metadata": {},
   "outputs": [
    {
     "data": {
      "text/plain": [
       "[('Ram', 21, 'Ktm'), ('Shyam', 22, 'Palpa'), ('kalu', 56, 'lol')]"
      ]
     },
     "execution_count": 15,
     "metadata": {},
     "output_type": "execute_result"
    }
   ],
   "source": [
    "a"
   ]
  },
  {
   "cell_type": "code",
   "execution_count": 16,
   "id": "c0600eed",
   "metadata": {},
   "outputs": [
    {
     "data": {
      "text/plain": [
       "[('lol', 56, 'pop'), ('Shyam', 22, 'Palpa'), ('kalu', 56, 'lol')]"
      ]
     },
     "execution_count": 16,
     "metadata": {},
     "output_type": "execute_result"
    }
   ],
   "source": [
    "a[0]=(\"lol\",56,\"pop\")\n",
    "a"
   ]
  },
  {
   "cell_type": "code",
   "execution_count": 17,
   "id": "4e6ca111",
   "metadata": {},
   "outputs": [
    {
     "name": "stdout",
     "output_type": "stream",
     "text": [
      "[['Ram', 21, 'Ktm'], ['Shyam', 22, 'Palpa'], ['kalu', 56, 'lol']]\n"
     ]
    }
   ],
   "source": [
    "# tuple inside tuple to list inside list\n",
    "a= (('Ram', 21, 'Ktm'), ('Shyam', 22, 'Palpa'), ('kalu', 56, 'lol'))\n",
    "l=[]\n",
    "for i in range(len(a)):\n",
    "    x=list(a[i])\n",
    "    l.append(x)\n",
    "print(l)    "
   ]
  },
  {
   "cell_type": "code",
   "execution_count": 30,
   "id": "a9ae34be",
   "metadata": {},
   "outputs": [
    {
     "name": "stdout",
     "output_type": "stream",
     "text": [
      "[['Ram', 21, 'Ktm'], ['Shyam', 22, 'Palpa'], ['kalu', 56, 'lol']]\n"
     ]
    }
   ],
   "source": [
    "# list inside list to tuple inside tuple\n",
    "a= [['Ram', 21, 'Ktm'], ['Shyam', 22, 'Palpa'], ['kalu', 56, 'lol']]\n",
    "t=()\n",
    "for i in range(len(a)):\n",
    "    x=tuple(a[i])\n",
    "    t=t+(x,)\n",
    "print(a)    \n",
    "    "
   ]
  },
  {
   "cell_type": "code",
   "execution_count": 19,
   "id": "cbb152e2",
   "metadata": {},
   "outputs": [
    {
     "name": "stdout",
     "output_type": "stream",
     "text": [
      "Enter no.of row= 2\n",
      "Enter no.of column= 2\n",
      "Enter values= 1\n",
      "Enter values= 2\n",
      "Enter values= 3\n",
      "Enter values= 4\n",
      "[[1, 2], [3, 4]]\n"
     ]
    }
   ],
   "source": [
    "# WAP to make a matrix using list\n",
    "m=[]\n",
    "i=int(input(\"Enter no.of row= \"))\n",
    "j=int(input(\"Enter no.of column= \"))\n",
    "for k in range(i):\n",
    "    x=[]\n",
    "    for l in range(j):\n",
    "        values=int(input(\"Enter values= \"))\n",
    "        x.append(values)\n",
    "    m.append(x) \n",
    "print(m)    "
   ]
  },
  {
   "cell_type": "code",
   "execution_count": 20,
   "id": "4d9f2ad0",
   "metadata": {},
   "outputs": [
    {
     "name": "stdout",
     "output_type": "stream",
     "text": [
      "Enter no.of row= 2\n",
      "Enter no.of column= 2\n",
      "Enter values= 1\n",
      "Enter values= 2\n",
      "Enter values= 3\n",
      "Enter values= 4\n",
      "((1, 2), (3, 4))\n"
     ]
    }
   ],
   "source": [
    "# Wap to make a matrix using tuple\n",
    "m=()\n",
    "i=int(input(\"Enter no.of row= \"))\n",
    "j=int(input(\"Enter no.of column= \"))\n",
    "for k in range(i):\n",
    "    x=()\n",
    "    for l in range(j):\n",
    "        values=int(input(\"Enter values= \"))\n",
    "        x=x+(values,)\n",
    "    m=m+(x,)\n",
    "print(m)    "
   ]
  },
  {
   "cell_type": "code",
   "execution_count": 27,
   "id": "4a041a7d",
   "metadata": {},
   "outputs": [
    {
     "name": "stdout",
     "output_type": "stream",
     "text": [
      "p\n",
      "y\n",
      "t\n",
      "h\n",
      "o\n",
      "n\n"
     ]
    }
   ],
   "source": [
    "a=\"python\"\n",
    "for i in range(len(a)):\n",
    "    print(a[i])"
   ]
  },
  {
   "cell_type": "code",
   "execution_count": 3,
   "id": "7da568bb",
   "metadata": {},
   "outputs": [
    {
     "name": "stdout",
     "output_type": "stream",
     "text": [
      "<class 'dict'>\n",
      "3\n"
     ]
    }
   ],
   "source": [
    "d={'a': \"Apple\",\n",
    "  'b': 'Ball',\n",
    "  'c': 'Cat'}\n",
    "print(type(d))\n",
    "print(len(d))"
   ]
  },
  {
   "cell_type": "code",
   "execution_count": 4,
   "id": "ee728405",
   "metadata": {},
   "outputs": [
    {
     "name": "stdout",
     "output_type": "stream",
     "text": [
      "Apple\n"
     ]
    }
   ],
   "source": [
    "print(d['a'])"
   ]
  },
  {
   "cell_type": "code",
   "execution_count": 7,
   "id": "4d6336b5",
   "metadata": {},
   "outputs": [
    {
     "data": {
      "text/plain": [
       "{'a': 'apple', 'b': 'ball'}"
      ]
     },
     "execution_count": 7,
     "metadata": {},
     "output_type": "execute_result"
    }
   ],
   "source": [
    "d=dict()\n",
    "d['a']=\"apple\"\n",
    "d['b']=\"ball\"\n",
    "d"
   ]
  },
  {
   "cell_type": "code",
   "execution_count": 8,
   "id": "44818a7b",
   "metadata": {},
   "outputs": [
    {
     "data": {
      "text/plain": [
       "{'a': 'APPLE', 'b': 'ball'}"
      ]
     },
     "execution_count": 8,
     "metadata": {},
     "output_type": "execute_result"
    }
   ],
   "source": [
    "e = {'a': 'apple', 'b': 'ball'}\n",
    "e['a']=\"APPLE\"\n",
    "e"
   ]
  },
  {
   "cell_type": "code",
   "execution_count": 9,
   "id": "cb9bbc31",
   "metadata": {},
   "outputs": [
    {
     "data": {
      "text/plain": [
       "{'Ram': 2, 'Shyam': 3}"
      ]
     },
     "execution_count": 9,
     "metadata": {},
     "output_type": "execute_result"
    }
   ],
   "source": [
    "d={}\n",
    "d['Ram']= 2\n",
    "d['Shyam']= 3\n",
    "d"
   ]
  },
  {
   "cell_type": "code",
   "execution_count": 10,
   "id": "b33beeed",
   "metadata": {},
   "outputs": [
    {
     "name": "stdout",
     "output_type": "stream",
     "text": [
      "Enter the value of n= 2\n",
      "Enter name= Ram\n",
      "Enter phone987\n",
      "Enter name= Shyam \n",
      "Enter phone3\n",
      "{'Ram': 987, 'Shyam ': 3}\n"
     ]
    }
   ],
   "source": [
    "info=dict()\n",
    "n=int(input(\"Enter the value of n= \"))\n",
    "for i in range(n):\n",
    "    name=input(\"Enter name= \")\n",
    "    phone=int(input(\"Enter phone\"))\n",
    "    info[name]=phone\n",
    "print(info)    "
   ]
  },
  {
   "cell_type": "code",
   "execution_count": 16,
   "id": "edcf0f47",
   "metadata": {},
   "outputs": [
    {
     "name": "stdout",
     "output_type": "stream",
     "text": [
      "('Ram', 987)\n",
      "('Shyam ', 3)\n"
     ]
    }
   ],
   "source": [
    "a = {'Ram': 987, 'Shyam ': 3}\n",
    "for i in a.items():\n",
    "    print(i)"
   ]
  },
  {
   "cell_type": "code",
   "execution_count": 14,
   "id": "b3ccc32f",
   "metadata": {},
   "outputs": [
    {
     "name": "stdout",
     "output_type": "stream",
     "text": [
      "Python"
     ]
    }
   ],
   "source": [
    "a= \"Python\"\n",
    "for i in a:\n",
    "    print(i,end=\"\")"
   ]
  },
  {
   "cell_type": "code",
   "execution_count": 17,
   "id": "d5ad2dbe",
   "metadata": {},
   "outputs": [
    {
     "name": "stdout",
     "output_type": "stream",
     "text": [
      "{'Ram': 98678554553, 'Shyam': 984353453535}\n"
     ]
    }
   ],
   "source": [
    "l = [('Ram', 98678554553),('Shyam', 984353453535)]\n",
    "print(dict(l))"
   ]
  },
  {
   "cell_type": "code",
   "execution_count": 23,
   "id": "693b93dc",
   "metadata": {},
   "outputs": [
    {
     "name": "stdout",
     "output_type": "stream",
     "text": [
      "Enter no.= 9\n",
      "Ram\n"
     ]
    }
   ],
   "source": [
    "a = {'Ram': 9, 'Shyam': 8}\n",
    "no=int(input(\"Enter no.= \"))\n",
    "for i in a.items():\n",
    "    \n",
    "    if no==i[1]:\n",
    "        print(i[0])"
   ]
  },
  {
   "cell_type": "code",
   "execution_count": 30,
   "id": "5dd2592d",
   "metadata": {},
   "outputs": [
    {
     "data": {
      "text/plain": [
       "{'Shyam': 8}"
      ]
     },
     "execution_count": 30,
     "metadata": {},
     "output_type": "execute_result"
    }
   ],
   "source": [
    "a = {'Ram': 9, 'Shyam': 8}\n",
    "\n",
    "del a['Ram']\n",
    "a"
   ]
  },
  {
   "cell_type": "code",
   "execution_count": 31,
   "id": "2e0420a5",
   "metadata": {},
   "outputs": [
    {
     "name": "stdout",
     "output_type": "stream",
     "text": [
      "9\n",
      "{'Shyam': 8}\n"
     ]
    }
   ],
   "source": [
    "a = {'Ram': 9, 'Shyam': 8}\n",
    "b=a.pop('Ram')\n",
    "print(b)\n",
    "print(a)"
   ]
  },
  {
   "cell_type": "code",
   "execution_count": 36,
   "id": "be0a922f",
   "metadata": {},
   "outputs": [
    {
     "ename": "TypeError",
     "evalue": "unhashable type: 'list'",
     "output_type": "error",
     "traceback": [
      "\u001b[1;31m---------------------------------------------------------------------------\u001b[0m",
      "\u001b[1;31mTypeError\u001b[0m                                 Traceback (most recent call last)",
      "\u001b[1;32m<ipython-input-36-8d021d45af00>\u001b[0m in \u001b[0;36m<module>\u001b[1;34m\u001b[0m\n\u001b[1;32m----> 1\u001b[1;33m \u001b[0ma\u001b[0m\u001b[1;33m=\u001b[0m\u001b[1;33m{\u001b[0m\u001b[1;33m[\u001b[0m\u001b[1;34m'Ram'\u001b[0m\u001b[1;33m,\u001b[0m\u001b[1;34m'Hari'\u001b[0m\u001b[1;33m]\u001b[0m\u001b[1;33m:\u001b[0m\u001b[1;36m8\u001b[0m\u001b[1;33m,\u001b[0m \u001b[1;34m'Shyam'\u001b[0m\u001b[1;33m:\u001b[0m \u001b[1;36m9\u001b[0m\u001b[1;33m}\u001b[0m\u001b[1;33m\u001b[0m\u001b[1;33m\u001b[0m\u001b[0m\n\u001b[0m\u001b[0;32m      2\u001b[0m \u001b[0mprint\u001b[0m\u001b[1;33m(\u001b[0m\u001b[0ma\u001b[0m\u001b[1;33m)\u001b[0m\u001b[1;33m\u001b[0m\u001b[1;33m\u001b[0m\u001b[0m\n\u001b[0;32m      3\u001b[0m \u001b[0mprint\u001b[0m\u001b[1;33m(\u001b[0m\u001b[0ma\u001b[0m\u001b[1;33m[\u001b[0m\u001b[1;33m(\u001b[0m\u001b[1;34m'Ram'\u001b[0m\u001b[1;33m,\u001b[0m\u001b[1;34m'Hari'\u001b[0m\u001b[1;33m)\u001b[0m\u001b[1;33m]\u001b[0m\u001b[1;33m)\u001b[0m\u001b[1;33m\u001b[0m\u001b[1;33m\u001b[0m\u001b[0m\n",
      "\u001b[1;31mTypeError\u001b[0m: unhashable type: 'list'"
     ]
    }
   ],
   "source": [
    "a={['Ram','Hari']:8, 'Shyam': 9}\n",
    "print(a)\n",
    "print(a[('Ram','Hari')])\n"
   ]
  },
  {
   "cell_type": "code",
   "execution_count": 46,
   "id": "27a0b0df",
   "metadata": {},
   "outputs": [
    {
     "name": "stdout",
     "output_type": "stream",
     "text": [
      "{'Ram': [98678554553, 980043353], 'Shyam': [984353453535, 6898454545, 7], 'Hari': [98434, 877]}\n"
     ]
    }
   ],
   "source": [
    "#list inside dictionary\n",
    "a= {'Ram': [98678554553,980043353], 'Shyam': [984353453535,6898454545]}\n",
    "a['Hari']= [98434,877]\n",
    "a['Shyam'].append(7)\n",
    "print(a)\n"
   ]
  },
  {
   "cell_type": "code",
   "execution_count": 48,
   "id": "d52cbaee",
   "metadata": {},
   "outputs": [
    {
     "name": "stdout",
     "output_type": "stream",
     "text": [
      "Enter n= 2\n",
      "Enter name= LOL\n",
      "Enter ntc no.= 2\n",
      "Enter ncell no. = 3\n",
      "Enter name= POP\n",
      "Enter ntc no.= 1\n",
      "Enter ncell no. = 5\n",
      "{'LOL': [2, 3], 'POP': [1, 5]}\n"
     ]
    }
   ],
   "source": [
    "# list inside dictionary\n",
    "info=dict()\n",
    "n=int(input(\"Enter n= \"))\n",
    "for i in range(n):\n",
    "    name=input(\"Enter name= \")\n",
    "    ntcno=int(input(\"Enter ntc no.= \"))\n",
    "    ncellno=int(input(\"Enter ncell no. = \"))\n",
    "    info[name]=[ntcno,ncellno]\n",
    "    \n",
    "print(info)    \n",
    "    "
   ]
  },
  {
   "cell_type": "code",
   "execution_count": 59,
   "id": "17f9e919",
   "metadata": {},
   "outputs": [
    {
     "name": "stdout",
     "output_type": "stream",
     "text": [
      "Enter addresss= jhapa\n",
      "hari\n"
     ]
    }
   ],
   "source": [
    "a = {'Ram': ['Kathmandu', 'Dhading'],\n",
    "     'Shyam': ['Kathmandu', 'Nuwakot'],\n",
    "     'hari': ['Jhapa','Bara']}\n",
    "address=input(\"Enter addresss= \")\n",
    "for i in a.items():\n",
    "    if address.lower()==i[1][0].lower():\n",
    "        print(i[0])\n",
    "    \n",
    "   "
   ]
  },
  {
   "cell_type": "code",
   "execution_count": 19,
   "id": "abff6e14",
   "metadata": {},
   "outputs": [
    {
     "name": "stdout",
     "output_type": "stream",
     "text": [
      "Enter number of rows in dict= 2\n",
      "Enter name= er\n",
      "Enter address= erer\n",
      "Enter name= rer\n",
      "Enter address= er\n",
      "{'name': ['rer', 'er']}\n"
     ]
    }
   ],
   "source": [
    "# wap to make dict inside dict\n",
    "d=dict()\n",
    "\n",
    "\n"
   ]
  },
  {
   "cell_type": "raw",
   "id": "ce943a85",
   "metadata": {},
   "source": []
  },
  {
   "cell_type": "code",
   "execution_count": 1,
   "id": "113d6e06",
   "metadata": {},
   "outputs": [
    {
     "name": "stdout",
     "output_type": "stream",
     "text": [
      "<class 'set'>\n",
      "<class 'dict'>\n"
     ]
    }
   ],
   "source": [
    "a = {1,2,3,4}\n",
    "b={}\n",
    "print(type(a))\n",
    "print(type(b))"
   ]
  },
  {
   "cell_type": "code",
   "execution_count": 2,
   "id": "e7ce91d8",
   "metadata": {},
   "outputs": [
    {
     "name": "stdout",
     "output_type": "stream",
     "text": [
      "{'ball', 'Apple', 'cat'}\n"
     ]
    }
   ],
   "source": [
    "# set is non ordered\n",
    "a= {\"Apple\",\"ball\",\"cat\"}\n",
    "print(a)"
   ]
  },
  {
   "cell_type": "code",
   "execution_count": 3,
   "id": "cb450150",
   "metadata": {},
   "outputs": [
    {
     "ename": "TypeError",
     "evalue": "'set' object is not subscriptable",
     "output_type": "error",
     "traceback": [
      "\u001b[1;31m---------------------------------------------------------------------------\u001b[0m",
      "\u001b[1;31mTypeError\u001b[0m                                 Traceback (most recent call last)",
      "\u001b[1;32m<ipython-input-3-fb3e2ed90e06>\u001b[0m in \u001b[0;36m<module>\u001b[1;34m\u001b[0m\n\u001b[0;32m      1\u001b[0m \u001b[1;31m#set is non indexing\u001b[0m\u001b[1;33m\u001b[0m\u001b[1;33m\u001b[0m\u001b[1;33m\u001b[0m\u001b[0m\n\u001b[0;32m      2\u001b[0m \u001b[0ma\u001b[0m\u001b[1;33m=\u001b[0m \u001b[1;33m{\u001b[0m\u001b[1;34m\"Apple\"\u001b[0m\u001b[1;33m,\u001b[0m\u001b[1;34m\"ball\"\u001b[0m\u001b[1;33m,\u001b[0m\u001b[1;34m\"cat\"\u001b[0m\u001b[1;33m}\u001b[0m\u001b[1;33m\u001b[0m\u001b[1;33m\u001b[0m\u001b[0m\n\u001b[1;32m----> 3\u001b[1;33m \u001b[0ma\u001b[0m\u001b[1;33m[\u001b[0m\u001b[1;36m0\u001b[0m\u001b[1;33m]\u001b[0m\u001b[1;33m\u001b[0m\u001b[1;33m\u001b[0m\u001b[0m\n\u001b[0m",
      "\u001b[1;31mTypeError\u001b[0m: 'set' object is not subscriptable"
     ]
    }
   ],
   "source": [
    "#set is non indexing\n",
    "a= {\"Apple\",\"ball\",\"cat\"}\n",
    "a[0]"
   ]
  },
  {
   "cell_type": "code",
   "execution_count": 4,
   "id": "b0771ca5",
   "metadata": {},
   "outputs": [
    {
     "name": "stdout",
     "output_type": "stream",
     "text": [
      "{1, 2, 3, 4, 5}\n"
     ]
    }
   ],
   "source": [
    "# no duplicate value\n",
    "a={1,2,3,4,5,4,3,2,1}\n",
    "print(a)"
   ]
  },
  {
   "cell_type": "code",
   "execution_count": 5,
   "id": "77d5a66a",
   "metadata": {},
   "outputs": [
    {
     "name": "stdout",
     "output_type": "stream",
     "text": [
      "{1, 2, 3, 'Apple'}\n"
     ]
    }
   ],
   "source": [
    "# mutable-> liable to change\n",
    "a=set()\n",
    "a.add(1)\n",
    "a.add(2)\n",
    "a.add(3)\n",
    "a.add(\"Apple\")\n",
    "print(a)"
   ]
  },
  {
   "cell_type": "code",
   "execution_count": 8,
   "id": "30295df5",
   "metadata": {},
   "outputs": [
    {
     "name": "stdout",
     "output_type": "stream",
     "text": [
      "Enter n= 2\n",
      "Enter x= 1\n",
      "Enter x= 2\n",
      "{1, 2}\n"
     ]
    }
   ],
   "source": [
    "a=set()\n",
    "n=int(input(\"Enter n= \"))\n",
    "for i in range(n):\n",
    "    x=int(input(\"Enter x= \"))\n",
    "    a.add(x)\n",
    "print(a)    "
   ]
  },
  {
   "cell_type": "code",
   "execution_count": 9,
   "id": "6fcf4cd5",
   "metadata": {},
   "outputs": [
    {
     "name": "stdout",
     "output_type": "stream",
     "text": [
      "[1, 2, 3, 4, 5]\n",
      "(1, 2, 3, 4, 5)\n"
     ]
    }
   ],
   "source": [
    "a= {1,2,3,4,5}\n",
    "b=list(a)\n",
    "c=tuple(a)\n",
    "print(b)\n",
    "print(c)"
   ]
  },
  {
   "cell_type": "code",
   "execution_count": 14,
   "id": "7de7829a",
   "metadata": {},
   "outputs": [
    {
     "name": "stdout",
     "output_type": "stream",
     "text": [
      "[1, 2, 3, 4, 5, 6]\n"
     ]
    }
   ],
   "source": [
    "a= [1,2,3,5,6,4,3,2,]\n",
    "b=set(a)\n",
    "a=list(b)\n",
    "print(a)"
   ]
  },
  {
   "cell_type": "code",
   "execution_count": 16,
   "id": "1ca68361",
   "metadata": {},
   "outputs": [
    {
     "name": "stdout",
     "output_type": "stream",
     "text": [
      "{1, 2, 3, 4, 5}\n",
      "[1, 2, 3, 4, 5]\n"
     ]
    }
   ],
   "source": [
    "a=[1,2,3,4,5,4,3,2,1]\n",
    "b=set(a)\n",
    "print(b)\n",
    "a=list(b)\n",
    "print(a)"
   ]
  },
  {
   "cell_type": "code",
   "execution_count": null,
   "id": "8b7761fc",
   "metadata": {},
   "outputs": [],
   "source": []
  }
 ],
 "metadata": {
  "kernelspec": {
   "display_name": "Python 3",
   "language": "python",
   "name": "python3"
  },
  "language_info": {
   "codemirror_mode": {
    "name": "ipython",
    "version": 3
   },
   "file_extension": ".py",
   "mimetype": "text/x-python",
   "name": "python",
   "nbconvert_exporter": "python",
   "pygments_lexer": "ipython3",
   "version": "3.8.8"
  }
 },
 "nbformat": 4,
 "nbformat_minor": 5
}
