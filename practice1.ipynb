{
 "cells": [
  {
   "cell_type": "code",
   "execution_count": 2,
   "id": "90315eb3",
   "metadata": {},
   "outputs": [
    {
     "name": "stdout",
     "output_type": "stream",
     "text": [
      "hello\n",
      "hello\n",
      "hello\n",
      "hello\n",
      "hello\n"
     ]
    }
   ],
   "source": [
    "#for \n",
    "for i in range(5):\n",
    "    print(\"hello\")"
   ]
  },
  {
   "cell_type": "code",
   "execution_count": 3,
   "id": "05ef5063",
   "metadata": {},
   "outputs": [
    {
     "name": "stdout",
     "output_type": "stream",
     "text": [
      "1\n",
      "2\n",
      "3\n",
      "4\n"
     ]
    }
   ],
   "source": [
    "for i in range(1,5):\n",
    "    print(i)"
   ]
  },
  {
   "cell_type": "code",
   "execution_count": 4,
   "id": "6467a5b3",
   "metadata": {},
   "outputs": [
    {
     "name": "stdout",
     "output_type": "stream",
     "text": [
      "1\n",
      "3\n"
     ]
    }
   ],
   "source": [
    "for i in range(1,5,2):\n",
    "    print(i)"
   ]
  },
  {
   "cell_type": "code",
   "execution_count": 7,
   "id": "df527590",
   "metadata": {},
   "outputs": [
    {
     "name": "stdout",
     "output_type": "stream",
     "text": [
      "enter n=5\n",
      "5 * 1 = 5\n",
      "5 * 2 = 10\n",
      "5 * 3 = 15\n",
      "5 * 4 = 20\n",
      "5 * 5 = 25\n",
      "5 * 6 = 30\n",
      "5 * 7 = 35\n",
      "5 * 8 = 40\n",
      "5 * 9 = 45\n",
      "5 * 10 = 50\n"
     ]
    }
   ],
   "source": [
    "n=int(input(\"enter n=\"))\n",
    "for i in range(1,11):\n",
    "    print(n,\"*\",i,\"=\",n*i)\n"
   ]
  },
  {
   "cell_type": "code",
   "execution_count": 9,
   "id": "69674acf",
   "metadata": {},
   "outputs": [
    {
     "name": "stdout",
     "output_type": "stream",
     "text": [
      "Enter n=3\n",
      "Enter numbers=1\n",
      "Enter numbers=2\n",
      "Enter numbers=3\n",
      "the sum of numbers is  6\n"
     ]
    }
   ],
   "source": [
    "s=0\n",
    "n=int(input(\"Enter n=\"))\n",
    "for i in range(n):\n",
    "    x=int(input(\"Enter numbers=\"))\n",
    "    s=s+x\n",
    "print(\"the sum of numbers is \",s )"
   ]
  },
  {
   "cell_type": "code",
   "execution_count": 10,
   "id": "94adb411",
   "metadata": {},
   "outputs": [
    {
     "name": "stdout",
     "output_type": "stream",
     "text": [
      "enter the number for factorial=4\n",
      "24\n"
     ]
    }
   ],
   "source": [
    "fac=1\n",
    "n=int(input(\"enter the number for factorial=\"))\n",
    "for i in range(1,n+1):\n",
    "    fac=fac*i\n",
    "print(fac)    "
   ]
  },
  {
   "cell_type": "code",
   "execution_count": 3,
   "id": "547f9c3d",
   "metadata": {},
   "outputs": [
    {
     "name": "stdout",
     "output_type": "stream",
     "text": [
      "p hello\n",
      "y hello\n",
      "t hello\n",
      "h hello\n",
      "o hello\n",
      "n hello\n"
     ]
    }
   ],
   "source": [
    "a=\"python\"\n",
    "for i in a:\n",
    "    print(i,\"hello\")"
   ]
  },
  {
   "cell_type": "code",
   "execution_count": 16,
   "id": "63154dc1",
   "metadata": {},
   "outputs": [
    {
     "name": "stdout",
     "output_type": "stream",
     "text": [
      "p\n",
      "y\n",
      "t\n",
      "h\n",
      "o\n",
      "n\n"
     ]
    }
   ],
   "source": [
    "a=\"python\"\n",
    "l=len(a)\n",
    "for i in range(l):\n",
    "    print(a[i])"
   ]
  },
  {
   "cell_type": "code",
   "execution_count": 22,
   "id": "2e990126",
   "metadata": {},
   "outputs": [
    {
     "name": "stdout",
     "output_type": "stream",
     "text": [
      "enter the numbers n as a input=2\n",
      "enter name=ram\n",
      "enter phone number=988606068\n",
      "enter name=sam\n",
      "enter phone number=4454646646\n",
      "ram 988606068\n",
      "sam 4454646646\n",
      "\n"
     ]
    }
   ],
   "source": [
    "s=\"\"\n",
    "n=int(input(\"enter the numbers n as a input=\"))\n",
    "for i in range(n):\n",
    "    name=input(\"enter name=\")\n",
    "    phone=input(\"enter phone number=\")\n",
    "    info=name+\" \"+phone\n",
    "    s=s+info+\"\\n\"\n",
    "print(s)    "
   ]
  },
  {
   "cell_type": "code",
   "execution_count": 7,
   "id": "39011315",
   "metadata": {},
   "outputs": [
    {
     "name": "stdout",
     "output_type": "stream",
     "text": [
      "enter any number you want to check =1\n",
      "invalid input!!!! the number should be 2 or more than 2\n"
     ]
    }
   ],
   "source": [
    "n=int(input(\"enter any number you want to check =\"))\n",
    "if n>=2:\n",
    "    for i in range(2,n):\n",
    "        if n%i==0:\n",
    "            print(\"this is composite number\")\n",
    "            break\n",
    "            \n",
    "    else:\n",
    "        print(\"this is prime number\")\n",
    "        \n",
    "else:\n",
    "    print(\"invalid input!!!! the number should be 2 or more than 2\")\n",
    "            \n",
    "            \n",
    "            \n",
    "            \n",
    "            "
   ]
  },
  {
   "cell_type": "code",
   "execution_count": 1,
   "id": "822507ad",
   "metadata": {},
   "outputs": [
    {
     "name": "stdout",
     "output_type": "stream",
     "text": [
      "enter how many number you want in fibonacci series =5\n",
      "0\n",
      "1\n",
      "1\n",
      "2\n",
      "3\n"
     ]
    }
   ],
   "source": [
    "n=int(input(\"enter how many number you want in fibonacci series =\"))\n",
    "a=0\n",
    "b=1\n",
    "print(a)\n",
    "print(b)\n",
    "for i in range(3,n+1):\n",
    "    c=a+b\n",
    "    a=b\n",
    "    b=c\n",
    "    print(c)\n"
   ]
  },
  {
   "cell_type": "code",
   "execution_count": 15,
   "id": "a48e1733",
   "metadata": {},
   "outputs": [
    {
     "name": "stdout",
     "output_type": "stream",
     "text": [
      "nohtyPn\n"
     ]
    }
   ],
   "source": [
    "a=\"Python\"\n",
    "l=len(a)-1\n",
    "i=0\n",
    "while l>=i:\n",
    "    print(a[l],end=\"\")\n",
    "    l=l-1\n",
    "print(a[5])    \n",
    "    "
   ]
  },
  {
   "cell_type": "code",
   "execution_count": null,
   "id": "0d87793a",
   "metadata": {},
   "outputs": [],
   "source": [
    "n=int(input(\"Enter n=\"))\n",
    "m=2\n",
    "if m<=n:\n",
    "    while m<n:\n",
    "        if n%m==0:\n",
    "            print(\"The number is composite\")\n",
    "            break\n",
    "        m=m+1\n",
    "    else:\n",
    "        print(\"The number is prime\")\n",
    "\n",
    "else:\n",
    "    print(\"the number should be 2 or greater than 2\")\n",
    "        \n",
    "        \n",
    "        "
   ]
  },
  {
   "cell_type": "code",
   "execution_count": 5,
   "id": "45e641c4",
   "metadata": {},
   "outputs": [
    {
     "name": "stdout",
     "output_type": "stream",
     "text": [
      "Enter n=5\n",
      "The number is prime\n",
      "The number is prime\n"
     ]
    }
   ],
   "source": [
    "n=int(input(\"Enter n=\"))\n",
    "m=2\n",
    "if m<=n:\n",
    "    while m<n:\n",
    "        if n%m==0:\n",
    "            print(\"The number is composite\")\n",
    "            break\n",
    "        m=m+1\n",
    "    else:\n",
    "        print(\"The number is prime\")\n",
    "\n",
    "else:\n",
    "    print(\"the number should be 2 or greater than 2\")\n",
    "        "
   ]
  },
  {
   "cell_type": "code",
   "execution_count": 2,
   "id": "12358735",
   "metadata": {},
   "outputs": [
    {
     "name": "stdout",
     "output_type": "stream",
     "text": [
      "hellohello"
     ]
    }
   ],
   "source": [
    "a=\"hello world\"\n",
    "l=len(a)-1\n",
    "i=0\n",
    "while i<l:\n",
    "    if a[i]==\" \":\n",
    "        break\n",
    "    print(a[i],end=\"\")\n",
    "    i=i+1\n",
    "    \n",
    "    "
   ]
  },
  {
   "cell_type": "code",
   "execution_count": 20,
   "id": "b0ac376a",
   "metadata": {},
   "outputs": [
    {
     "name": "stdout",
     "output_type": "stream",
     "text": [
      "hello wohello wo"
     ]
    }
   ],
   "source": [
    "a=\"hello world\"\n",
    "l=len(a)\n",
    "k=0\n",
    "while k<l:\n",
    "    if a[k]==\"r\":\n",
    "        break\n",
    "    print(a[k],end=\"\")\n",
    "    k=k+1"
   ]
  },
  {
   "cell_type": "code",
   "execution_count": 22,
   "id": "0c13de49",
   "metadata": {},
   "outputs": [
    {
     "name": "stdout",
     "output_type": "stream",
     "text": [
      "helloworldhelloworld"
     ]
    }
   ],
   "source": [
    "a=\"hello world\"\n",
    "l=len(a)\n",
    "k=0\n",
    "while k<l:\n",
    "    if a[k]==\" \":\n",
    "        k=k+1\n",
    "        continue\n",
    "    print(a[k],end=\"\")\n",
    "    k=k+1"
   ]
  },
  {
   "cell_type": "code",
   "execution_count": 3,
   "id": "db83c1bd",
   "metadata": {},
   "outputs": [
    {
     "name": "stdout",
     "output_type": "stream",
     "text": [
      "Hello World\n",
      "Hello World\n"
     ]
    }
   ],
   "source": [
    "def hello():\n",
    "    print(\"Hello World\")\n",
    "    \n",
    "hello()    \n",
    "hello()"
   ]
  },
  {
   "cell_type": "code",
   "execution_count": 5,
   "id": "2db70bc3",
   "metadata": {},
   "outputs": [
    {
     "name": "stdout",
     "output_type": "stream",
     "text": [
      "Enter the length=1\n",
      "Enter the breadth=2\n",
      "The area is  2\n",
      "2\n"
     ]
    }
   ],
   "source": [
    "def cal():\n",
    "    global b\n",
    "    l=int(input(\"Enter the length=\"))\n",
    "    b=int(input(\"Enter the breadth=\"))\n",
    "    a=l*b\n",
    "    print(\"The area is \",a)\n",
    "cal()\n",
    "print(b)\n",
    "    "
   ]
  },
  {
   "cell_type": "code",
   "execution_count": 1,
   "id": "3a4bb705",
   "metadata": {},
   "outputs": [
    {
     "name": "stdout",
     "output_type": "stream",
     "text": [
      "Enter 1 to find area and 2 to find volume3\n",
      "Invalid input!!!!\n"
     ]
    }
   ],
   "source": [
    "def area():\n",
    "    l=int(input(\"Enter the l=\"))\n",
    "    b=int(input(\"Enter the b=\"))\n",
    "    print(\"The area is\",l*b)\n",
    "    \n",
    "def volume():\n",
    "    l=int(input(\"Enter the l=\"))\n",
    "    b=int(input(\"Enter the b=\"))\n",
    "    h=int(input(\"Enter the h=\"))\n",
    "    print(\"The volume is\",l*b*h)\n",
    "\n",
    "x=int(input(\"Enter 1 to find area and 2 to find volume\"))\n",
    "if x==1:\n",
    "    area()\n",
    "    \n",
    "elif x==2:\n",
    "    volume()\n",
    "    \n",
    "else:\n",
    "    print(\"Invalid input!!!!\")"
   ]
  },
  {
   "cell_type": "code",
   "execution_count": 3,
   "id": "98d20057",
   "metadata": {},
   "outputs": [
    {
     "name": "stdout",
     "output_type": "stream",
     "text": [
      "Enter 1 to find area and 2 to find volume2\n",
      "Enter the l=1\n",
      "Enter the b=2\n",
      "Enter the h=3\n",
      "The volume is 6\n"
     ]
    }
   ],
   "source": [
    "def area():\n",
    "  \n",
    "    print(\"The area is\",l*b)\n",
    "    \n",
    "def volume():\n",
    "   \n",
    "    h=int(input(\"Enter the h=\"))\n",
    "    print(\"The volume is\",l*b*h)\n",
    "\n",
    "x=int(input(\"Enter 1 to find area and 2 to find volume\"))\n",
    "l=int(input(\"Enter the l=\"))\n",
    "b=int(input(\"Enter the b=\"))\n",
    "if x==1:\n",
    "    area()\n",
    "    \n",
    "elif x==2:\n",
    "    volume()\n",
    "    \n",
    "else:\n",
    "    print(\"Invalid input!!!!\")"
   ]
  },
  {
   "cell_type": "code",
   "execution_count": 4,
   "id": "7279acfa",
   "metadata": {},
   "outputs": [
    {
     "name": "stdout",
     "output_type": "stream",
     "text": [
      "Enter the l=1\n",
      "Enter the b=2\n",
      "Enter the h=3\n",
      "6\n"
     ]
    }
   ],
   "source": [
    "# function ith argument and no written type\n",
    "def cal(x,y,z):\n",
    "    v=x*y*z\n",
    "    print(v)\n",
    "\n",
    "l=int(input(\"Enter the l=\"))\n",
    "b=int(input(\"Enter the b=\"))\n",
    "h=int(input(\"Enter the h=\"))\n",
    "\n",
    "cal(l,b,h)\n",
    "    "
   ]
  },
  {
   "cell_type": "code",
   "execution_count": 11,
   "id": "70a84266",
   "metadata": {},
   "outputs": [
    {
     "name": "stdout",
     "output_type": "stream",
     "text": [
      "enter first number6\n",
      "enter second number2\n",
      "Enter operator + - * / /\n",
      "3.0\n"
     ]
    }
   ],
   "source": [
    "def add(a,b):\n",
    "    print(a+b)\n",
    "def sub(a,b):\n",
    "    print(a-b)\n",
    "def mul(a,b):\n",
    "    print(a*b)\n",
    "def div(a,b):\n",
    "    print(a/b)\n",
    " \n",
    "  "
   ]
  },
  {
   "cell_type": "code",
   "execution_count": 1,
   "id": "ca636b4d",
   "metadata": {},
   "outputs": [
    {
     "name": "stdout",
     "output_type": "stream",
     "text": [
      "Hello World\n"
     ]
    }
   ],
   "source": [
    "def hello(a):\n",
    "    print(a)\n",
    "\n",
    "hello(\"Hello World\")    "
   ]
  },
  {
   "cell_type": "code",
   "execution_count": 3,
   "id": "477f0b28",
   "metadata": {},
   "outputs": [
    {
     "name": "stdout",
     "output_type": "stream",
     "text": [
      "6\n"
     ]
    }
   ],
   "source": [
    "#funtion with argument and no return type\n",
    "def area(l,b):\n",
    "    a=l*b\n",
    "    print(a)\n",
    "area(2,3)    "
   ]
  },
  {
   "cell_type": "code",
   "execution_count": 5,
   "id": "e791b267",
   "metadata": {},
   "outputs": [
    {
     "name": "stdout",
     "output_type": "stream",
     "text": [
      "Enter the value of length=1\n",
      "Enter the value of breadth=2\n",
      "Enter the value of height=3\n",
      "6\n"
     ]
    }
   ],
   "source": [
    "def volume(x,y,z):   # paramenter = x,y,z\n",
    "    v=x*y*z\n",
    "    print(v)\n",
    "\n",
    "l=int(input(\"Enter the value of length=\"))\n",
    "b=int(input(\"Enter the value of breadth=\"))\n",
    "h=int(input(\"Enter the value of height=\"))\n",
    "\n",
    "volume(l,b,h) # Argument = l,b,h\n"
   ]
  },
  {
   "cell_type": "code",
   "execution_count": 9,
   "id": "300b48c5",
   "metadata": {},
   "outputs": [
    {
     "name": "stdout",
     "output_type": "stream",
     "text": [
      "Enter the value of length=2\n",
      "Enter the value of b=3\n",
      "6\n"
     ]
    }
   ],
   "source": [
    "# function with return type\n",
    "\n",
    "def cal():\n",
    "    l=int(input(\"Enter the value of length=\"))\n",
    "    b=int(input(\"Enter the value of b=\"))\n",
    "    a=l*b\n",
    "    return a\n",
    "area=cal()\n",
    "print(area)\n"
   ]
  },
  {
   "cell_type": "code",
   "execution_count": 12,
   "id": "f71f6463",
   "metadata": {},
   "outputs": [
    {
     "name": "stdout",
     "output_type": "stream",
     "text": [
      "Enter the value of length=1\n",
      "Enter the value of breadth=2\n",
      "Enter the value of height=3\n"
     ]
    },
    {
     "ename": "TypeError",
     "evalue": "'int' object is not callable",
     "output_type": "error",
     "traceback": [
      "\u001b[1;31m---------------------------------------------------------------------------\u001b[0m",
      "\u001b[1;31mTypeError\u001b[0m                                 Traceback (most recent call last)",
      "\u001b[1;32m<ipython-input-12-e4fe7905a101>\u001b[0m in \u001b[0;36m<module>\u001b[1;34m\u001b[0m\n\u001b[0;32m     13\u001b[0m \u001b[0marea\u001b[0m\u001b[1;33m=\u001b[0m\u001b[0marea\u001b[0m\u001b[1;33m(\u001b[0m\u001b[1;33m)\u001b[0m\u001b[1;33m\u001b[0m\u001b[1;33m\u001b[0m\u001b[0m\n\u001b[0;32m     14\u001b[0m \u001b[0mvolume\u001b[0m\u001b[1;33m=\u001b[0m\u001b[0mvolume\u001b[0m\u001b[1;33m(\u001b[0m\u001b[1;33m)\u001b[0m\u001b[1;33m\u001b[0m\u001b[1;33m\u001b[0m\u001b[0m\n\u001b[1;32m---> 15\u001b[1;33m \u001b[0mprint\u001b[0m\u001b[1;33m(\u001b[0m\u001b[0mvolume\u001b[0m\u001b[1;33m(\u001b[0m\u001b[1;33m)\u001b[0m\u001b[1;33m)\u001b[0m\u001b[1;33m\u001b[0m\u001b[1;33m\u001b[0m\u001b[0m\n\u001b[0m\u001b[0;32m     16\u001b[0m \u001b[0mprint\u001b[0m\u001b[1;33m(\u001b[0m\u001b[0marea\u001b[0m\u001b[1;33m(\u001b[0m\u001b[1;33m)\u001b[0m\u001b[1;33m)\u001b[0m\u001b[1;33m\u001b[0m\u001b[1;33m\u001b[0m\u001b[0m\n",
      "\u001b[1;31mTypeError\u001b[0m: 'int' object is not callable"
     ]
    }
   ],
   "source": [
    "l=int(input(\"Enter the value of length=\"))\n",
    "b=int(input(\"Enter the value of breadth=\"))\n",
    "\n",
    "def volume():\n",
    "    h=int(input(\"Enter the value of height=\"))\n",
    "    v=l*b*h\n",
    "    return v\n",
    "\n",
    "def area():\n",
    "    a=l*b\n",
    "    return a\n",
    "\n",
    "area=area()\n",
    "volume=volume()\n",
    "print(volume())\n",
    "print(area())\n"
   ]
  },
  {
   "cell_type": "code",
   "execution_count": 11,
   "id": "685df931",
   "metadata": {},
   "outputs": [
    {
     "name": "stdout",
     "output_type": "stream",
     "text": [
      "Enter l=1\n",
      "Enter b=2\n",
      "Enter h=3\n",
      "6\n",
      "2\n"
     ]
    }
   ],
   "source": [
    "# Return type function\n",
    "l=int(input(\"Enter l=\"))\n",
    "b=int(input(\"Enter b=\"))\n",
    "def volume():\n",
    "   \n",
    "    h=int(input(\"Enter h=\"))\n",
    "    v=l*b*h\n",
    "    return v\n",
    "def area():\n",
    "   \n",
    "    a=l*b\n",
    "    return a\n",
    "\n",
    "\n",
    "volume=volume()\n",
    "area=area()\n",
    "print(volume)\n",
    "print(area)"
   ]
  },
  {
   "cell_type": "code",
   "execution_count": 20,
   "id": "d58ad989",
   "metadata": {},
   "outputs": [
    {
     "name": "stdout",
     "output_type": "stream",
     "text": [
      "Enter l=1\n",
      "Enter b=2\n",
      "Enter the height3\n",
      "2\n",
      "6\n"
     ]
    }
   ],
   "source": [
    "def area(l,b):\n",
    "    a=l*b\n",
    "    return a\n",
    "\n",
    "def volume(l,b):\n",
    "    h=int(input(\"Enter the height\"))\n",
    "    v=area(l,b)*h\n",
    "    return v\n",
    " \n",
    "\n",
    "\n",
    "l=int(input(\"Enter l=\"))\n",
    "b=int(input(\"Enter b=\"))\n",
    "volume=volume(l,b)\n",
    "area=area(l,b)\n",
    "\n",
    "\n",
    "print(area)\n",
    "print(volume)"
   ]
  },
  {
   "cell_type": "code",
   "execution_count": 22,
   "id": "c43b7d90",
   "metadata": {},
   "outputs": [
    {
     "name": "stdout",
     "output_type": "stream",
     "text": [
      "3.141592653589793\n"
     ]
    }
   ],
   "source": [
    "import math\n",
    "print(math.pi)"
   ]
  },
  {
   "cell_type": "markdown",
   "id": "00680f7f",
   "metadata": {},
   "source": []
  },
  {
   "cell_type": "code",
   "execution_count": 25,
   "id": "52b0971e",
   "metadata": {},
   "outputs": [
    {
     "name": "stdout",
     "output_type": "stream",
     "text": [
      "98.0\n"
     ]
    }
   ],
   "source": [
    "import math as m\n",
    "mass=10\n",
    "a=9.8\n",
    "f=mass*a*m.sin(m.pi/2)\n",
    "print(f)"
   ]
  },
  {
   "cell_type": "code",
   "execution_count": 26,
   "id": "bd3ba276",
   "metadata": {},
   "outputs": [
    {
     "data": {
      "text/plain": [
       "100.0"
      ]
     },
     "execution_count": 26,
     "metadata": {},
     "output_type": "execute_result"
    }
   ],
   "source": [
    "m.pow(10,2)"
   ]
  },
  {
   "cell_type": "code",
   "execution_count": null,
   "id": "6409fd72",
   "metadata": {},
   "outputs": [
    {
     "name": "stdout",
     "output_type": "stream",
     "text": [
      "enter first number1\n",
      "enter second number2\n",
      "Enter operator + - * / 8\n",
      "You enter invalid operator !!!!!!\n",
      "enter first number1\n",
      "enter second number2\n",
      "Enter operator + - * / 7\n",
      "You enter invalid operator !!!!!!\n",
      "enter first number1\n",
      "enter second number2\n",
      "Enter operator + - * / #\n",
      "You enter invalid operator !!!!!!\n"
     ]
    }
   ],
   "source": [
    "def add(a,b):\n",
    "    print(a+b)\n",
    "def sub(a,b):\n",
    "    print(a-b)\n",
    "def mul(a,b):\n",
    "    print(a*b)\n",
    "def div(a,b):\n",
    "    print(a/b)\n",
    "def cal():\n",
    "    a=float(input(\"enter first number\"))\n",
    "    b=float(input(\"enter second number\"))\n",
    "    o=str(input(\"Enter operator + - * / \"))\n",
    "    if o=='+':\n",
    "        add(a,b)\n",
    "       \n",
    "\n",
    "    elif o=='-':\n",
    "        sub(a,b)\n",
    "\n",
    "    elif o=='*':\n",
    "          mul(a,b)\n",
    "    elif o=='/' and b!=0:\n",
    "        div(a,b)\n",
    "        \n",
    "    elif o=='/' and b==0:\n",
    "        print(\"Value of b cannot be zero\")\n",
    "\n",
    "    else:\n",
    "        print(\"You enter invalid operator !!!!!!\")\n",
    "        cal()\n",
    "        \n",
    "cal()"
   ]
  },
  {
   "cell_type": "code",
   "execution_count": 1,
   "id": "f8bd0320",
   "metadata": {},
   "outputs": [
    {
     "name": "stdout",
     "output_type": "stream",
     "text": [
      "No\n"
     ]
    }
   ],
   "source": [
    "a= \"Hello world I am Python\"\n",
    "if \"HELLO\" in a:\n",
    "    print(\"Yes\")\n",
    "else:\n",
    "    print(\"No\")"
   ]
  },
  {
   "cell_type": "code",
   "execution_count": 2,
   "id": "6d948fd3",
   "metadata": {},
   "outputs": [
    {
     "name": "stdout",
     "output_type": "stream",
     "text": [
      "Hello world I am PYTHONn\n"
     ]
    }
   ],
   "source": [
    "# replace()\n",
    "a=\"Hello world I am Python\"\n",
    "b=a.replace(\"Pytho\",\"PYTHON\")\n",
    "print(b)"
   ]
  },
  {
   "cell_type": "code",
   "execution_count": 5,
   "id": "6be79498",
   "metadata": {},
   "outputs": [
    {
     "name": "stdout",
     "output_type": "stream",
     "text": [
      "Enter value for search hello\n",
      "Yes\n",
      "Enter the string you want to replace=qwe\n",
      "qwe world i am python\n"
     ]
    }
   ],
   "source": [
    "a=\"Hello world I am Python\"\n",
    "x= a.lower()\n",
    "b=input(\"Enter value for search \")\n",
    "y = b.lower()\n",
    "if y in x:\n",
    "    print(\"Yes\")\n",
    "    c=input(\"Enter the string you want to replace=\")\n",
    "    s=x.replace(y,c)\n",
    "    print(s)\n",
    "    \n",
    "else:\n",
    "    print(\"No\")"
   ]
  },
  {
   "cell_type": "code",
   "execution_count": 1,
   "id": "2cee4cfd",
   "metadata": {},
   "outputs": [],
   "source": [
    "f = open('datafile.txt','x')\n",
    "f.close()"
   ]
  },
  {
   "cell_type": "code",
   "execution_count": 3,
   "id": "626e4b65",
   "metadata": {},
   "outputs": [
    {
     "name": "stdout",
     "output_type": "stream",
     "text": [
      "1.hi\n",
      "2.hi\n",
      "3.hi\n",
      "4.hi\n",
      "5.hi\n"
     ]
    }
   ],
   "source": [
    "f = open('datafile.txt','r')\n",
    "a=f.read()\n",
    "print(a)\n",
    "f.close()"
   ]
  },
  {
   "cell_type": "code",
   "execution_count": 4,
   "id": "d61880c3",
   "metadata": {},
   "outputs": [
    {
     "name": "stdout",
     "output_type": "stream",
     "text": [
      "1.hi\n",
      "2.hi\n",
      "3.hi\n",
      "4.hi\n",
      "\n"
     ]
    }
   ],
   "source": [
    "f = open('datafile.txt','r')\n",
    "a=f.read(20)\n",
    "print(a)\n",
    "f.close()"
   ]
  },
  {
   "cell_type": "code",
   "execution_count": 5,
   "id": "b505dc73",
   "metadata": {},
   "outputs": [
    {
     "name": "stdout",
     "output_type": "stream",
     "text": [
      "1.hi\n",
      "\n"
     ]
    }
   ],
   "source": [
    "f = open('datafile.txt','r')\n",
    "a=f.readline()\n",
    "print(a)\n",
    "f.close()"
   ]
  },
  {
   "cell_type": "code",
   "execution_count": 8,
   "id": "8ca9ab44",
   "metadata": {},
   "outputs": [
    {
     "name": "stdout",
     "output_type": "stream",
     "text": [
      "['1.hi', '2.hi', '3.hi', '4.hi', '5.hi']\n",
      "Enter any line_no = 2\n",
      "2.hi\n"
     ]
    }
   ],
   "source": [
    "f= open('datafile.txt','r')\n",
    "b= f.read()\n",
    "c=b.split('\\n')\n",
    "print(c)\n",
    "line=int(input(\"Enter any line_no = \"))\n",
    "print(c[line-1])\n",
    "f.close()"
   ]
  },
  {
   "cell_type": "code",
   "execution_count": 9,
   "id": "c4202e91",
   "metadata": {},
   "outputs": [
    {
     "name": "stdout",
     "output_type": "stream",
     "text": [
      "7\n"
     ]
    }
   ],
   "source": [
    "f = open('datafile.txt','a')\n",
    "b = f.write('\\nhello\\n')\n",
    "print(b)\n",
    "f.close()"
   ]
  },
  {
   "cell_type": "code",
   "execution_count": 11,
   "id": "aca018b8",
   "metadata": {},
   "outputs": [
    {
     "name": "stdout",
     "output_type": "stream",
     "text": [
      "6\n"
     ]
    }
   ],
   "source": [
    "f = open('datafile.txt','a')\n",
    "b = f.write('\\nhell\\n')\n",
    "print(b)\n",
    "f.close()"
   ]
  },
  {
   "cell_type": "code",
   "execution_count": 7,
   "id": "902748cb",
   "metadata": {},
   "outputs": [
    {
     "name": "stdout",
     "output_type": "stream",
     "text": [
      "Sn,Name,Age,Address,Phone\n",
      "1,Ram,33,Kathmandu,9803245643\n",
      "2,Shyam,43,Bara,98033232323\n",
      "3,Hari,45,Pokhara,98034344433\n",
      "4,Kiran,23,Lamjung,983434434433\n",
      "5,Karina,24,Bhaktapur,9833434344\n",
      "6,Gita,34,Lalitpur,98434344344\n"
     ]
    }
   ],
   "source": [
    "f=open('data.csv')\n",
    "print(f.read())\n",
    "f.close()"
   ]
  },
  {
   "cell_type": "code",
   "execution_count": 12,
   "id": "43709984",
   "metadata": {},
   "outputs": [
    {
     "data": {
      "text/html": [
       "<div>\n",
       "<style scoped>\n",
       "    .dataframe tbody tr th:only-of-type {\n",
       "        vertical-align: middle;\n",
       "    }\n",
       "\n",
       "    .dataframe tbody tr th {\n",
       "        vertical-align: top;\n",
       "    }\n",
       "\n",
       "    .dataframe thead th {\n",
       "        text-align: right;\n",
       "    }\n",
       "</style>\n",
       "<table border=\"1\" class=\"dataframe\">\n",
       "  <thead>\n",
       "    <tr style=\"text-align: right;\">\n",
       "      <th></th>\n",
       "      <th>Sn</th>\n",
       "      <th>Name</th>\n",
       "      <th>Age</th>\n",
       "      <th>Phone</th>\n",
       "    </tr>\n",
       "    <tr>\n",
       "      <th>Address</th>\n",
       "      <th></th>\n",
       "      <th></th>\n",
       "      <th></th>\n",
       "      <th></th>\n",
       "    </tr>\n",
       "  </thead>\n",
       "  <tbody>\n",
       "    <tr>\n",
       "      <th>Bara</th>\n",
       "      <td>2</td>\n",
       "      <td>Shyam</td>\n",
       "      <td>43</td>\n",
       "      <td>98033232323</td>\n",
       "    </tr>\n",
       "    <tr>\n",
       "      <th>Pokhara</th>\n",
       "      <td>3</td>\n",
       "      <td>Hari</td>\n",
       "      <td>45</td>\n",
       "      <td>98034344433</td>\n",
       "    </tr>\n",
       "    <tr>\n",
       "      <th>Lamjung</th>\n",
       "      <td>4</td>\n",
       "      <td>Kiran</td>\n",
       "      <td>23</td>\n",
       "      <td>983434434433</td>\n",
       "    </tr>\n",
       "    <tr>\n",
       "      <th>Bhaktapur</th>\n",
       "      <td>5</td>\n",
       "      <td>Karina</td>\n",
       "      <td>24</td>\n",
       "      <td>9833434344</td>\n",
       "    </tr>\n",
       "  </tbody>\n",
       "</table>\n",
       "</div>"
      ],
      "text/plain": [
       "           Sn    Name  Age         Phone\n",
       "Address                                 \n",
       "Bara        2   Shyam   43   98033232323\n",
       "Pokhara     3    Hari   45   98034344433\n",
       "Lamjung     4   Kiran   23  983434434433\n",
       "Bhaktapur   5  Karina   24    9833434344"
      ]
     },
     "execution_count": 12,
     "metadata": {},
     "output_type": "execute_result"
    }
   ],
   "source": [
    "import pandas as pd\n",
    "df = pd.read_csv('data.csv',index_col = 'Address')\n",
    "df.loc['Bara':'Bhaktapur']"
   ]
  },
  {
   "cell_type": "code",
   "execution_count": 15,
   "id": "2fade5a4",
   "metadata": {},
   "outputs": [
    {
     "data": {
      "text/html": [
       "<div>\n",
       "<style scoped>\n",
       "    .dataframe tbody tr th:only-of-type {\n",
       "        vertical-align: middle;\n",
       "    }\n",
       "\n",
       "    .dataframe tbody tr th {\n",
       "        vertical-align: top;\n",
       "    }\n",
       "\n",
       "    .dataframe thead th {\n",
       "        text-align: right;\n",
       "    }\n",
       "</style>\n",
       "<table border=\"1\" class=\"dataframe\">\n",
       "  <thead>\n",
       "    <tr style=\"text-align: right;\">\n",
       "      <th></th>\n",
       "      <th>Ram</th>\n",
       "      <th>Shyam</th>\n",
       "    </tr>\n",
       "  </thead>\n",
       "  <tbody>\n",
       "    <tr>\n",
       "      <th>0</th>\n",
       "      <td>23</td>\n",
       "      <td>21</td>\n",
       "    </tr>\n",
       "    <tr>\n",
       "      <th>1</th>\n",
       "      <td>45</td>\n",
       "      <td>46</td>\n",
       "    </tr>\n",
       "  </tbody>\n",
       "</table>\n",
       "</div>"
      ],
      "text/plain": [
       "   Ram  Shyam\n",
       "0   23     21\n",
       "1   45     46"
      ]
     },
     "execution_count": 15,
     "metadata": {},
     "output_type": "execute_result"
    }
   ],
   "source": [
    "import pandas as pd\n",
    "data = {'Ram':[23,45], 'Shyam':[21,46]}\n",
    "df=pd.DataFrame(data)\n",
    "df.to_csv('dat.csv')\n",
    "df"
   ]
  },
  {
   "cell_type": "code",
   "execution_count": 2,
   "id": "8f672b5a",
   "metadata": {},
   "outputs": [
    {
     "name": "stdout",
     "output_type": "stream",
     "text": [
      "Hello World\n"
     ]
    }
   ],
   "source": [
    "class python:\n",
    "    print(\"Hello World\")\n",
    "\n",
    "obj = python()    \n",
    "    \n",
    "    "
   ]
  },
  {
   "cell_type": "code",
   "execution_count": 13,
   "id": "75893b50",
   "metadata": {},
   "outputs": [
    {
     "name": "stdout",
     "output_type": "stream",
     "text": [
      "Hello World python\n"
     ]
    }
   ],
   "source": [
    "class python:             #class\n",
    "   \n",
    "    def hello(self,language):      # method must use argument\n",
    "        print(\"Hello World\",language)\n",
    "\n",
    "obj = python()        #object\n",
    "obj.hello(\"python\")     #object call method"
   ]
  },
  {
   "cell_type": "code",
   "execution_count": 14,
   "id": "55531c39",
   "metadata": {},
   "outputs": [
    {
     "name": "stdout",
     "output_type": "stream",
     "text": [
      "2 3\n",
      "-1 2\n",
      "4 6\n",
      "1 5\n",
      "1 5\n",
      "5 11\n",
      "5 11\n",
      "<__main__.Point object at 0x000001EAB2298130>\n",
      "<class '__main__.Point'>\n"
     ]
    }
   ],
   "source": [
    "class Point:\n",
    "    def __init__(self, x=0, y=0):\n",
    "        self.x=x\n",
    "        self.y=y\n",
    "        print(self.x,self.y)\n",
    "        \n",
    "    def __str__(self):\n",
    "        return f\"{self.x} {self.y}\"\n",
    "    \n",
    "    def __add__(self,other):\n",
    "        x=self.x + other.x\n",
    "        y=self.y + other.y\n",
    "        print(x,y)\n",
    "        return Point(x,y)\n",
    "    \n",
    "p1 = Point(2,3)\n",
    "p2 = Point(-1,2)\n",
    "p3 = Point(4,6)\n",
    "p = p1+p2+p3\n",
    "print(p)\n",
    "print(type(p))"
   ]
  },
  {
   "cell_type": "code",
   "execution_count": null,
   "id": "20cb5411",
   "metadata": {},
   "outputs": [],
   "source": []
  }
 ],
 "metadata": {
  "kernelspec": {
   "display_name": "Python 3",
   "language": "python",
   "name": "python3"
  },
  "language_info": {
   "codemirror_mode": {
    "name": "ipython",
    "version": 3
   },
   "file_extension": ".py",
   "mimetype": "text/x-python",
   "name": "python",
   "nbconvert_exporter": "python",
   "pygments_lexer": "ipython3",
   "version": "3.8.8"
  }
 },
 "nbformat": 4,
 "nbformat_minor": 5
}
