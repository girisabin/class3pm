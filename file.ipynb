{
 "cells": [
  {
   "cell_type": "code",
   "execution_count": 2,
   "id": "be9f98d8",
   "metadata": {},
   "outputs": [],
   "source": [
    "f = open('data.txt','x')  # Create file\n",
    "f.close()"
   ]
  },
  {
   "cell_type": "code",
   "execution_count": 2,
   "id": "61c6f89a",
   "metadata": {},
   "outputs": [
    {
     "name": "stdout",
     "output_type": "stream",
     "text": [
      "1.Hello World\n",
      "2.Hello World\n",
      "3.Hello World\n",
      "4.Hello World\n",
      "5.Hello World\n",
      "6.Hello World\n",
      "7.Hello World\n",
      "\n"
     ]
    }
   ],
   "source": [
    "f = open('data.txt','r')  # Read file\n",
    "b= f.read()\n",
    "print(b)\n",
    "f.close()"
   ]
  },
  {
   "cell_type": "code",
   "execution_count": 4,
   "id": "0ecbbf2d",
   "metadata": {},
   "outputs": [
    {
     "name": "stdout",
     "output_type": "stream",
     "text": [
      "1.hello world\n",
      "2.hell\n",
      "<class 'str'>\n"
     ]
    }
   ],
   "source": [
    "f = open('data.txt','r') # read file\n",
    "b= f.read(20)\n",
    "print(b)\n",
    "print(type(b))\n",
    "f.close()"
   ]
  },
  {
   "cell_type": "code",
   "execution_count": 5,
   "id": "b44cfb2f",
   "metadata": {},
   "outputs": [
    {
     "name": "stdout",
     "output_type": "stream",
     "text": [
      "1.hello world\n",
      "\n"
     ]
    }
   ],
   "source": [
    "f = open('data.txt','r')\n",
    "b= f.readline()\n",
    "print(b)\n",
    "f.close()"
   ]
  },
  {
   "cell_type": "code",
   "execution_count": 6,
   "id": "d80448ab",
   "metadata": {},
   "outputs": [
    {
     "name": "stdout",
     "output_type": "stream",
     "text": [
      "['1.hello world', '2.hello world', '3.hello world', '4.hello world', '5.hello world', '6.hello world', '7.hello world']\n",
      "Enter line no = 2\n",
      "2.hello world\n"
     ]
    }
   ],
   "source": [
    "f = open('data.txt','r')\n",
    "b= f.read()\n",
    "c=b.split('\\n')\n",
    "print(c)\n",
    "line_no = int(input(\"Enter line no = \"))\n",
    "print(c[line_no-1])\n",
    "f.close()"
   ]
  },
  {
   "cell_type": "code",
   "execution_count": 15,
   "id": "43f5acd1",
   "metadata": {},
   "outputs": [
    {
     "name": "stdout",
     "output_type": "stream",
     "text": [
      "13\n"
     ]
    }
   ],
   "source": [
    "f = open('data.txt','a') # append (auto create file) and put data\n",
    "b= f.write('\\nHello World\\n')\n",
    "print(b)\n",
    "\n",
    "f.close()"
   ]
  },
  {
   "cell_type": "code",
   "execution_count": 16,
   "id": "7fff35af",
   "metadata": {},
   "outputs": [
    {
     "name": "stdout",
     "output_type": "stream",
     "text": [
      "Enter n= 2\n",
      "Enter product name=Apple\n",
      "Enter unit price= 150\n",
      "Enter quantity=2\n",
      "Enter product name=Ball\n",
      "Enter unit price= 150\n",
      "Enter quantity=2\n",
      "The billing is = \n",
      " Apple 150 2 300\n",
      "Ball 150 2 300\n",
      "\n",
      "The total price is= 600\n"
     ]
    }
   ],
   "source": [
    "info=\"\"\n",
    "add=0\n",
    "n= int(input(\"Enter n= \"))\n",
    "for i in range(n):\n",
    "    name=input(\"Enter product name=\")\n",
    "    price=int(input(\"Enter unit price= \"))\n",
    "    quantity= int(input(\"Enter quantity=\"))\n",
    "    total=price*quantity\n",
    "    s=f\"{name} {price} {quantity} {total}\\n\"\n",
    "    info=info+s\n",
    "    add=add+total\n",
    "\n",
    "print(\"The billing is = \\n\",info)\n",
    "print(\"The total price is=\",add)\n",
    "\n",
    "f = open('bill.txt','a') # append (auto create file) and put data\n",
    "b= f.write(info)\n",
    "\n",
    "f.close()"
   ]
  },
  {
   "cell_type": "code",
   "execution_count": 24,
   "id": "b20118c7",
   "metadata": {},
   "outputs": [
    {
     "name": "stdout",
     "output_type": "stream",
     "text": [
      "Enter n= 1\n",
      "Enter product name=Apple\n",
      "Enter unit price= 50\n",
      "Enter quantity=2\n",
      "The billing is = \n",
      " Apple,50,2,100\n",
      "\n",
      "The total price is= 100\n"
     ]
    }
   ],
   "source": [
    "info=\"\"\n",
    "add=0\n",
    "n= int(input(\"Enter n= \"))\n",
    "f = open('bill.csv','w') \n",
    "f.write(\"Name,Price,Quantity,Total\\n\")\n",
    "f.close()\n",
    "for i in range(n):\n",
    "    name=input(\"Enter product name=\")\n",
    "    price=int(input(\"Enter unit price= \"))\n",
    "    quantity= int(input(\"Enter quantity=\"))\n",
    "    total=price*quantity\n",
    "    s=f\"{name},{price},{quantity},{total}\\n\"\n",
    "    info=info+s\n",
    "    add=add+total\n",
    "\n",
    "print(\"The billing is = \\n\",info)\n",
    "print(\"The total price is=\",add)\n",
    "\n",
    "f = open('bill.csv','a') \n",
    "b= f.write(info)\n",
    "\n",
    "f.close()"
   ]
  },
  {
   "cell_type": "code",
   "execution_count": 25,
   "id": "c55eb515",
   "metadata": {},
   "outputs": [
    {
     "name": "stdout",
     "output_type": "stream",
     "text": [
      "Name,Price,Quantity,Total\n",
      "Apple,50,2,100\n",
      "\n"
     ]
    }
   ],
   "source": [
    "file = open('bill.csv')\n",
    "print(file.read())\n",
    "file.close()"
   ]
  },
  {
   "cell_type": "code",
   "execution_count": 26,
   "id": "9c9d928b",
   "metadata": {},
   "outputs": [
    {
     "data": {
      "text/html": [
       "<div>\n",
       "<style scoped>\n",
       "    .dataframe tbody tr th:only-of-type {\n",
       "        vertical-align: middle;\n",
       "    }\n",
       "\n",
       "    .dataframe tbody tr th {\n",
       "        vertical-align: top;\n",
       "    }\n",
       "\n",
       "    .dataframe thead th {\n",
       "        text-align: right;\n",
       "    }\n",
       "</style>\n",
       "<table border=\"1\" class=\"dataframe\">\n",
       "  <thead>\n",
       "    <tr style=\"text-align: right;\">\n",
       "      <th></th>\n",
       "      <th>Name</th>\n",
       "      <th>Price</th>\n",
       "      <th>Quantity</th>\n",
       "      <th>Total</th>\n",
       "    </tr>\n",
       "  </thead>\n",
       "  <tbody>\n",
       "    <tr>\n",
       "      <th>0</th>\n",
       "      <td>Apple</td>\n",
       "      <td>50</td>\n",
       "      <td>2</td>\n",
       "      <td>100</td>\n",
       "    </tr>\n",
       "  </tbody>\n",
       "</table>\n",
       "</div>"
      ],
      "text/plain": [
       "    Name  Price  Quantity  Total\n",
       "0  Apple     50         2    100"
      ]
     },
     "execution_count": 26,
     "metadata": {},
     "output_type": "execute_result"
    }
   ],
   "source": [
    "import pandas as pd\n",
    "df = pd.read_csv(\"Bill.csv\")\n",
    "df"
   ]
  },
  {
   "cell_type": "code",
   "execution_count": 29,
   "id": "886cfb98",
   "metadata": {},
   "outputs": [
    {
     "name": "stdout",
     "output_type": "stream",
     "text": [
      "There is no such file!!!\n"
     ]
    }
   ],
   "source": [
    "import os \n",
    "if os.path.exists('data.txt'):\n",
    "    os.remove('data.txt')\n",
    "else:\n",
    "    print(\"There is no such file!!!\")"
   ]
  },
  {
   "cell_type": "code",
   "execution_count": null,
   "id": "52c6cbeb",
   "metadata": {},
   "outputs": [],
   "source": []
  }
 ],
 "metadata": {
  "kernelspec": {
   "display_name": "Python 3",
   "language": "python",
   "name": "python3"
  },
  "language_info": {
   "codemirror_mode": {
    "name": "ipython",
    "version": 3
   },
   "file_extension": ".py",
   "mimetype": "text/x-python",
   "name": "python",
   "nbconvert_exporter": "python",
   "pygments_lexer": "ipython3",
   "version": "3.8.8"
  }
 },
 "nbformat": 4,
 "nbformat_minor": 5
}
